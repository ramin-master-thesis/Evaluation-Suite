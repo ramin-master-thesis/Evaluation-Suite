{
 "cells": [
  {
   "cell_type": "code",
   "execution_count": 17,
   "metadata": {
    "collapsed": true
   },
   "outputs": [],
   "source": [
    "import pandas as pd\n",
    "import requests as rq\n",
    "from IPython.display import display"
   ]
  },
  {
   "cell_type": "code",
   "execution_count": 18,
   "metadata": {
    "pycharm": {
     "name": "#%%\n"
    },
    "tags": [
     "parameters"
    ]
   },
   "outputs": [],
   "source": [
    "# Parameters\n",
    "users = \"../data/users.json\"\n",
    "host = \"localhost\"\n",
    "\n",
    "port = \"5000\"\n",
    "repeat_for_user = 20\n",
    "limit = 10\n",
    "walks = 1000\n",
    "walk_length = 100\n",
    "\n",
    "output_baseline_recommendations = f\"../data/baseline_recommendations.json\""
   ]
  },
  {
   "cell_type": "code",
   "execution_count": 19,
   "metadata": {
    "pycharm": {
     "name": "#%%\n"
    }
   },
   "outputs": [],
   "source": [
    "# Import users\n",
    "user_df = pd.read_json(users, orient=\"table\")"
   ]
  },
  {
   "cell_type": "code",
   "execution_count": 20,
   "metadata": {
    "pycharm": {
     "name": "#%%\n"
    }
   },
   "outputs": [],
   "source": [
    "def get_recommendations(user_df, walks, walk_length, limit, port):\n",
    "    rows = []\n",
    "\n",
    "    hash_function = \"Single\"\n",
    "    partition = \"0\"\n",
    "    print(f\"gathering recommendations from port: {port} and partition {partition} hash_function: {hash_function}\")\n",
    "\n",
    "    for i, row in user_df.iterrows():\n",
    "        user_recommendation_df = pd.DataFrame(columns=[\"recommendations\"])\n",
    "        user = row[\"user_id\"]\n",
    "        recommendations_series = pd.Series()\n",
    "        for count in range(repeat_for_user):\n",
    "            url = f\"http://{host}:{port}/recommendation/salsa/{user}?walks={walks}&walk_length={walk_length}&limit={limit}\"\n",
    "            response = rq.get(url)\n",
    "            counter = 0\n",
    "            while response.status_code != 200 and counter != 9:\n",
    "                print(f\"Got response code {response.status_code} trying again {counter + 1}/10...\")\n",
    "                response = rq.get(url)\n",
    "                counter += 1\n",
    "\n",
    "            response_body = response.json() if response.status_code == 200 else []\n",
    "            a_series = pd.Series([res['id'] for res in response_body])\n",
    "            recommendations_series = recommendations_series.append(a_series, ignore_index=True)\n",
    "        user_recommendation_df[\"recommendations\"] = recommendations_series\n",
    "\n",
    "        most_freq_rec_series = user_recommendation_df['recommendations'].value_counts().nlargest(limit)\n",
    "        hits = list(most_freq_rec_series.values)\n",
    "        most_frequent_recommendations = most_freq_rec_series.index.to_list()\n",
    "        rows.append((hash_function, partition, user, most_frequent_recommendations, hits))\n",
    "\n",
    "    return pd.DataFrame(rows, columns=[\"hash_function\", \"partition\", \"user\", \"recommendations\", \"hits\"])"
   ]
  },
  {
   "cell_type": "code",
   "execution_count": 21,
   "metadata": {
    "pycharm": {
     "name": "#%%\n"
    }
   },
   "outputs": [
    {
     "name": "stdout",
     "output_type": "stream",
     "text": [
      "gathering recommendations from port: 5000 and partition 0 hash_function: Single\n"
     ]
    },
    {
     "name": "stderr",
     "output_type": "stream",
     "text": [
      "<ipython-input-20-10a8104f0aad>:12: DeprecationWarning: The default dtype for empty Series will be 'object' instead of 'float64' in a future version. Specify a dtype explicitly to silence this warning.\n",
      "  recommendations_series = pd.Series()\n",
      "<ipython-input-20-10a8104f0aad>:12: DeprecationWarning: The default dtype for empty Series will be 'object' instead of 'float64' in a future version. Specify a dtype explicitly to silence this warning.\n",
      "  recommendations_series = pd.Series()\n"
     ]
    },
    {
     "data": {
      "text/plain": "                    user                                    recommendations  \\\n0    1104808931891793920  [1367572664047591424, 1367538607968432129, 136...   \n1     742613688448864256  [1367554394892419078, 1367858453293711370, 136...   \n2    1345404930094374912  [1365952122563399680, 1364526878833410048, 136...   \n3    1063441789590429696  [1367485887324565506, 1367454413246365700, 136...   \n4             2232404250  [1366796462194065411, 1367327244968943617, 136...   \n..                   ...                                                ...   \n495   740472581581475840  [1367924006377099272, 1366433266904018948, 136...   \n496             28675507  [1365418240940281859, 1355702091377860616, 136...   \n497            909017503  [1368891982718832643, 1336727444443832322, 136...   \n498  1227709406839619584  [1360431248229847043, 1362098305468035072, 135...   \n499            763209294  [1367428368388419593, 1367455000994013187, 136...   \n\n                                       hits partition  \n0           [10, 9, 8, 6, 5, 4, 4, 3, 3, 2]         0  \n1        [10, 10, 10, 10, 3, 2, 2, 2, 2, 2]         0  \n2        [10, 10, 10, 10, 9, 7, 6, 6, 5, 4]         0  \n3    [10, 10, 10, 10, 10, 10, 10, 10, 6, 5]         0  \n4         [10, 10, 10, 7, 7, 7, 6, 6, 6, 5]         0  \n..                                      ...       ...  \n495    [10, 10, 10, 10, 10, 10, 9, 8, 8, 4]         0  \n496       [10, 10, 10, 9, 8, 8, 7, 6, 5, 5]         0  \n497    [10, 10, 10, 10, 10, 10, 9, 6, 5, 3]         0  \n498          [7, 6, 4, 4, 4, 4, 4, 2, 2, 2]         0  \n499        [10, 10, 9, 5, 5, 4, 3, 3, 3, 3]         0  \n\n[500 rows x 4 columns]",
      "text/html": "<div>\n<style scoped>\n    .dataframe tbody tr th:only-of-type {\n        vertical-align: middle;\n    }\n\n    .dataframe tbody tr th {\n        vertical-align: top;\n    }\n\n    .dataframe thead th {\n        text-align: right;\n    }\n</style>\n<table border=\"1\" class=\"dataframe\">\n  <thead>\n    <tr style=\"text-align: right;\">\n      <th></th>\n      <th>user</th>\n      <th>recommendations</th>\n      <th>hits</th>\n      <th>partition</th>\n    </tr>\n  </thead>\n  <tbody>\n    <tr>\n      <th>0</th>\n      <td>1104808931891793920</td>\n      <td>[1367572664047591424, 1367538607968432129, 136...</td>\n      <td>[10, 9, 8, 6, 5, 4, 4, 3, 3, 2]</td>\n      <td>0</td>\n    </tr>\n    <tr>\n      <th>1</th>\n      <td>742613688448864256</td>\n      <td>[1367554394892419078, 1367858453293711370, 136...</td>\n      <td>[10, 10, 10, 10, 3, 2, 2, 2, 2, 2]</td>\n      <td>0</td>\n    </tr>\n    <tr>\n      <th>2</th>\n      <td>1345404930094374912</td>\n      <td>[1365952122563399680, 1364526878833410048, 136...</td>\n      <td>[10, 10, 10, 10, 9, 7, 6, 6, 5, 4]</td>\n      <td>0</td>\n    </tr>\n    <tr>\n      <th>3</th>\n      <td>1063441789590429696</td>\n      <td>[1367485887324565506, 1367454413246365700, 136...</td>\n      <td>[10, 10, 10, 10, 10, 10, 10, 10, 6, 5]</td>\n      <td>0</td>\n    </tr>\n    <tr>\n      <th>4</th>\n      <td>2232404250</td>\n      <td>[1366796462194065411, 1367327244968943617, 136...</td>\n      <td>[10, 10, 10, 7, 7, 7, 6, 6, 6, 5]</td>\n      <td>0</td>\n    </tr>\n    <tr>\n      <th>...</th>\n      <td>...</td>\n      <td>...</td>\n      <td>...</td>\n      <td>...</td>\n    </tr>\n    <tr>\n      <th>495</th>\n      <td>740472581581475840</td>\n      <td>[1367924006377099272, 1366433266904018948, 136...</td>\n      <td>[10, 10, 10, 10, 10, 10, 9, 8, 8, 4]</td>\n      <td>0</td>\n    </tr>\n    <tr>\n      <th>496</th>\n      <td>28675507</td>\n      <td>[1365418240940281859, 1355702091377860616, 136...</td>\n      <td>[10, 10, 10, 9, 8, 8, 7, 6, 5, 5]</td>\n      <td>0</td>\n    </tr>\n    <tr>\n      <th>497</th>\n      <td>909017503</td>\n      <td>[1368891982718832643, 1336727444443832322, 136...</td>\n      <td>[10, 10, 10, 10, 10, 10, 9, 6, 5, 3]</td>\n      <td>0</td>\n    </tr>\n    <tr>\n      <th>498</th>\n      <td>1227709406839619584</td>\n      <td>[1360431248229847043, 1362098305468035072, 135...</td>\n      <td>[7, 6, 4, 4, 4, 4, 4, 2, 2, 2]</td>\n      <td>0</td>\n    </tr>\n    <tr>\n      <th>499</th>\n      <td>763209294</td>\n      <td>[1367428368388419593, 1367455000994013187, 136...</td>\n      <td>[10, 10, 9, 5, 5, 4, 3, 3, 3, 3]</td>\n      <td>0</td>\n    </tr>\n  </tbody>\n</table>\n<p>500 rows × 4 columns</p>\n</div>"
     },
     "metadata": {},
     "output_type": "display_data"
    }
   ],
   "source": [
    "# Perform API requests\n",
    "result_dfs = []\n",
    "\n",
    "result = get_recommendations(user_df, walks, walk_length, limit, port)\n",
    "result_dfs.append(result)\n",
    "\n",
    "result_df = pd.concat(result_dfs)\n",
    "display(result_df[[\"user\", \"recommendations\", \"hits\", \"partition\"]])\n",
    "result_df.to_json(output_baseline_recommendations, index=False, orient=\"table\")"
   ]
  }
 ],
 "metadata": {
  "celltoolbar": "Tags",
  "kernelspec": {
   "display_name": "Python 3",
   "language": "python",
   "name": "python3"
  },
  "language_info": {
   "codemirror_mode": {
    "name": "ipython",
    "version": 3
   },
   "file_extension": ".py",
   "mimetype": "text/x-python",
   "name": "python",
   "nbconvert_exporter": "python",
   "pygments_lexer": "ipython3",
   "version": "3.8.5"
  }
 },
 "nbformat": 4,
 "nbformat_minor": 1
}