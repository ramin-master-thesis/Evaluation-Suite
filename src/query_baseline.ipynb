{
 "cells": [
  {
   "cell_type": "code",
   "execution_count": 1,
   "metadata": {},
   "outputs": [],
   "source": [
    "import itertools as it\n",
    "import pandas as pd\n",
    "import requests as rq\n",
    "from IPython.display import display"
   ]
  },
  {
   "cell_type": "code",
   "execution_count": 2,
   "metadata": {},
   "outputs": [],
   "source": [
    "users = \"../data/users.json\"\n",
    "host = \"localhost\"\n",
    "port = \"5000\"\n",
    "limit = 10\n",
    "walks = 1000\n",
    "walk_length = 100"
   ]
  },
  {
   "cell_type": "code",
   "execution_count": 3,
   "metadata": {},
   "outputs": [
    {
     "data": {
      "text/html": [
       "<div>\n",
       "<style scoped>\n",
       "    .dataframe tbody tr th:only-of-type {\n",
       "        vertical-align: middle;\n",
       "    }\n",
       "\n",
       "    .dataframe tbody tr th {\n",
       "        vertical-align: top;\n",
       "    }\n",
       "\n",
       "    .dataframe thead th {\n",
       "        text-align: right;\n",
       "    }\n",
       "</style>\n",
       "<table border=\"1\" class=\"dataframe\">\n",
       "  <thead>\n",
       "    <tr style=\"text-align: right;\">\n",
       "      <th></th>\n",
       "      <th>user</th>\n",
       "    </tr>\n",
       "  </thead>\n",
       "  <tbody>\n",
       "    <tr>\n",
       "      <th>2267238</th>\n",
       "      <td>4671229608</td>\n",
       "    </tr>\n",
       "    <tr>\n",
       "      <th>1396952</th>\n",
       "      <td>2312687048</td>\n",
       "    </tr>\n",
       "    <tr>\n",
       "      <th>5066612</th>\n",
       "      <td>228541032</td>\n",
       "    </tr>\n",
       "    <tr>\n",
       "      <th>3807989</th>\n",
       "      <td>946097265625538560</td>\n",
       "    </tr>\n",
       "    <tr>\n",
       "      <th>2680420</th>\n",
       "      <td>1018562002678108162</td>\n",
       "    </tr>\n",
       "    <tr>\n",
       "      <th>...</th>\n",
       "      <td>...</td>\n",
       "    </tr>\n",
       "    <tr>\n",
       "      <th>748630</th>\n",
       "      <td>1597388371</td>\n",
       "    </tr>\n",
       "    <tr>\n",
       "      <th>1156305</th>\n",
       "      <td>2696695362</td>\n",
       "    </tr>\n",
       "    <tr>\n",
       "      <th>5014030</th>\n",
       "      <td>1330692817</td>\n",
       "    </tr>\n",
       "    <tr>\n",
       "      <th>962078</th>\n",
       "      <td>2987955914</td>\n",
       "    </tr>\n",
       "    <tr>\n",
       "      <th>1527084</th>\n",
       "      <td>1108788657010425856</td>\n",
       "    </tr>\n",
       "  </tbody>\n",
       "</table>\n",
       "<p>500 rows × 1 columns</p>\n",
       "</div>"
      ],
      "text/plain": [
       "                        user\n",
       "2267238           4671229608\n",
       "1396952           2312687048\n",
       "5066612            228541032\n",
       "3807989   946097265625538560\n",
       "2680420  1018562002678108162\n",
       "...                      ...\n",
       "748630            1597388371\n",
       "1156305           2696695362\n",
       "5014030           1330692817\n",
       "962078            2987955914\n",
       "1527084  1108788657010425856\n",
       "\n",
       "[500 rows x 1 columns]"
      ]
     },
     "metadata": {},
     "output_type": "display_data"
    }
   ],
   "source": [
    "# Import users\n",
    "user_df = pd.read_json(users, orient=\"table\")\n",
    "display(user_df)"
   ]
  },
  {
   "cell_type": "code",
   "execution_count": 4,
   "metadata": {},
   "outputs": [],
   "source": [
    "def get_recommendations(user_df, walks, walk_length, limit):\n",
    "    rows = []\n",
    "\n",
    "    for i, row in user_df.iterrows():\n",
    "        user = row[\"user\"]\n",
    "        url = f\"http://{host}:{port}/recommendation/salsa/{user}?walks={walks}&walk_length={walk_length}&limit={limit}\"\n",
    "        response = rq.get(url)\n",
    "\n",
    "        status_code = response.status_code\n",
    "        duration = response.elapsed.total_seconds()\n",
    "        recommendations = response.json() if response.status_code == 200 else []\n",
    "        rows.append((walks, walk_length, limit, url, status_code, duration, user, recommendations))\n",
    "    \n",
    "    return pd.DataFrame(rows, columns=[\"walks\", \"walk_length\", \"limit\", \"url\", \"status_code\", \"duration\", \"user\", \"recommendations\"])"
   ]
  },
  {
   "cell_type": "code",
   "execution_count": 5,
   "metadata": {},
   "outputs": [],
   "source": [
    "recommendations_df = get_recommendations(user_df, walks, walk_length, limit)"
   ]
  },
  {
   "cell_type": "code",
   "execution_count": 6,
   "metadata": {},
   "outputs": [],
   "source": [
    "# Save results\n",
    "# output = f\"../data/baseline_recommendations_for_{len(user_df)}_users.json\"\n",
    "output= f\"../data/recommendations_for_{len(user_df)}_users_single_partition.json\"\n",
    "recommendations_df.to_json(output, index=False, orient=\"table\")"
   ]
  },
  {
   "cell_type": "code",
   "execution_count": null,
   "metadata": {},
   "outputs": [],
   "source": []
  }
 ],
 "metadata": {
  "kernelspec": {
   "display_name": "Python 3",
   "language": "python",
   "name": "python3"
  },
  "language_info": {
   "codemirror_mode": {
    "name": "ipython",
    "version": 3
   },
   "file_extension": ".py",
   "mimetype": "text/x-python",
   "name": "python",
   "nbconvert_exporter": "python",
   "pygments_lexer": "ipython3",
   "version": "3.8.5"
  }
 },
 "nbformat": 4,
 "nbformat_minor": 4
}
