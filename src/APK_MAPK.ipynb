{
 "cells": [
  {
   "cell_type": "code",
   "execution_count": 15,
   "metadata": {},
   "outputs": [],
   "source": [
    "import pandas as pd\n",
    "import numpy as np"
   ]
  },
  {
   "cell_type": "code",
   "execution_count": 16,
   "metadata": {
    "tags": [
     "parameters"
    ]
   },
   "outputs": [],
   "source": [
    "# Parameters\n",
    "hash_function = \"murmur2\"\n",
    "\n",
    "baseline_recommendations_path = \"../data/baseline_recommendations.json\"\n",
    "single_partition_recommendations_path = \"../data/single_recommendations.json\"\n",
    "recommendations_path = f\"../data/{hash_function}_recommendations.json\"\n",
    "merge_recommendations_path = f\"../data/{hash_function}_merge_recommendations.json\"\n",
    "best_partition_recommendations_path = f\"../data/{hash_function}_best_partition_recommendations.json\"\n",
    "highest_degree_recommendations_path = f\"../data/{hash_function}_highest_degree_recommendations.json\"\n",
    "\n",
    "show_partitions = True\n",
    "show_merge_1 = True\n",
    "show_merge_2 = True\n",
    "show_merge_3 = True\n",
    "\n",
    "users = \"../data/users.json\"\n",
    "output_map = f\"../data/{hash_function}_map@k.json\"\n",
    "output_diagram = f\"../output/{hash_function}_map@k.png\"\n",
    "output_map_at_k = f\"../output/{hash_function}_map@k.csv\""
   ]
  },
  {
   "cell_type": "code",
   "execution_count": 17,
   "metadata": {},
   "outputs": [],
   "source": [
    "# Read data\n",
    "baseline_df = pd.read_json(baseline_recommendations_path, orient=\"table\")\n",
    "single_partition_recommendations_df = pd.read_json(single_partition_recommendations_path, orient=\"table\")\n",
    "\n",
    "merge_recommendations_df = pd.read_json(merge_recommendations_path, orient=\"table\")\n",
    "partitioned_recommendations_df = pd.read_json(recommendations_path, orient=\"table\")\n",
    "partitioned_recommendations_df[\"len_recommendations\"] = partitioned_recommendations_df[\"recommendations\"].str.len()\n",
    "best_partition_recommendations_df = pd.read_json(best_partition_recommendations_path, orient=\"table\")\n",
    "highest_degree_recommendations_df = pd.read_json(highest_degree_recommendations_path, orient=\"table\")\n",
    "\n",
    "user_ids = pd.read_json(users, orient=\"table\")[\"user_id\"].values"
   ]
  },
  {
   "cell_type": "code",
   "execution_count": 18,
   "metadata": {},
   "outputs": [],
   "source": [
    "def apk(actual: list, predicted: list, k=10) -> float:\n",
    "    \"\"\"\n",
    "    Computes the average precision at k.\n",
    "    This function computes the average precision at k between two lists of\n",
    "    items.\n",
    "    Parameters\n",
    "    ----------\n",
    "    actual : list\n",
    "             A list of elements that are to be predicted\n",
    "    predicted : list\n",
    "             A list of predicted elements (order does matter)\n",
    "    k : int, optional\n",
    "        The maximum number of predicted elements\n",
    "    Returns\n",
    "    -------\n",
    "    score : float\n",
    "            The average precision at k over the input lists\n",
    "    \"\"\"\n",
    "    if len(predicted) > k:\n",
    "        predicted = predicted[:k]\n",
    "\n",
    "    sum_precision = 0.0\n",
    "    num_hits = 0.0\n",
    "\n",
    "    for i, prediction in enumerate(predicted):\n",
    "        if prediction in actual and prediction not in predicted[:i]:\n",
    "            num_hits += 1.0\n",
    "            precision_at_i = num_hits / (i + 1.0)\n",
    "            sum_precision += precision_at_i\n",
    "\n",
    "    if num_hits == 0.0:\n",
    "        return 0.0\n",
    "\n",
    "    return sum_precision / min(len(actual), k)\n",
    "\n",
    "\n",
    "def mapk(actual, predicted, k=10):\n",
    "    \"\"\"\n",
    "    Computes the mean average precision at k.\n",
    "    This function computes the mean average precision at k between two lists\n",
    "    of lists of items.\n",
    "    Parameters\n",
    "    ----------\n",
    "    actual : list\n",
    "             A list of lists of elements that are to be predicted \n",
    "             (order doesn't matter in the lists)\n",
    "    predicted : list\n",
    "                A list of lists of predicted elements\n",
    "                (order matters in the lists)\n",
    "    k : int, optional\n",
    "        The maximum number of predicted elements\n",
    "    Returns\n",
    "    -------\n",
    "    score : double\n",
    "            The mean average precision at k over the input lists\n",
    "    \"\"\"\n",
    "    return np.mean([apk(a, p, k) for a, p in zip(actual, predicted)])"
   ]
  },
  {
   "cell_type": "code",
   "execution_count": 24,
   "outputs": [
    {
     "name": "stdout",
     "output_type": "stream",
     "text": [
      "AP@10=1.0\n",
      "RBO=0.23541639942571424\n"
     ]
    }
   ],
   "source": [
    "import rbo\n",
    "\n",
    "a1 = [1, 2, 3, 4, 5, 6, 7, 8, 9, 10]\n",
    "# p1 = [10, 6, 9, 7, 8, 3, 2, 5, 4, 1]\n",
    "p1 = [1, 20,30,40,50,60,70,80,90,100]\n",
    "print(f\"AP@10={apk(a1, p1, 10)}\")\n",
    "print(f\"RBO={rbo.RankingSimilarity(a1, p1).rbo(p=0.9)}\")\n",
    "\n",
    "# a2 = [1, 2, 3]\n",
    "# p2 = [0, 1, 4, 5, 2, 6, 3, 7, 8, 9]\n",
    "# print(apk(a2, p2, 10))\n",
    "#\n",
    "# print(mapk([a1, a2], [p1, p2]))\n",
    "#\n",
    "#\n",
    "# print(f\"RBO between a2 and p2: {rbo.RankingSimilarity(a2, p2).rbo()}\")"
   ],
   "metadata": {
    "collapsed": false,
    "pycharm": {
     "name": "#%%\n"
    }
   }
  },
  {
   "cell_type": "code",
   "execution_count": 20,
   "metadata": {},
   "outputs": [],
   "source": [
    "def calculate_map_k(df):\n",
    "    list_actual = []\n",
    "    list_prediction = []\n",
    "    rows = []\n",
    "\n",
    "    hash_fun = df[\"hash_function\"].unique()[0]\n",
    "    partitions = df[\"partition\"].unique()\n",
    "    partitions.sort()\n",
    "\n",
    "    for partition in list(partitions):\n",
    "        for k in range(1, 11):\n",
    "            for _, uid in enumerate(user_ids):\n",
    "                actual = baseline_df[baseline_df[\"user\"] == uid][\"recommendations\"].values[0]\n",
    "\n",
    "                con = (\n",
    "                        (df[\"user\"] == uid) &\n",
    "                        (df[\"partition\"] == partition)\n",
    "                )\n",
    "\n",
    "                try:\n",
    "                    predicted = df[con][\"recommendations\"].values[0]\n",
    "\n",
    "                    list_actual.append(actual)\n",
    "                    list_prediction.append(predicted)\n",
    "                except IndexError as error:\n",
    "                    print(f\"userID {uid}, partition {partition}, hash_function {hash_fun}\")\n",
    "                    exit(1)\n",
    "\n",
    "            m = mapk(list_actual, list_prediction, int(k))\n",
    "            rows.append((hash_fun, partition, k, m))\n",
    "\n",
    "            print(f\"map@{k}: {m}    partition: {partition}    hash_function: {hash_fun}\")\n",
    "\n",
    "    return pd.DataFrame(rows, columns=[\"hash_function\", \"partition\", \"k\", \"map\"])"
   ]
  },
  {
   "cell_type": "code",
   "execution_count": 21,
   "metadata": {},
   "outputs": [
    {
     "name": "stdout",
     "output_type": "stream",
     "text": [
      "map@1: 0.836    partition: partition    hash_function: Single\n",
      "map@2: 0.85    partition: partition    hash_function: Single\n",
      "map@3: 0.8465    partition: partition    hash_function: Single\n",
      "map@4: 0.8408333333333332    partition: partition    hash_function: Single\n",
      "map@5: 0.8355277777777778    partition: partition    hash_function: Single\n",
      "map@6: 0.8289933333333334    partition: partition    hash_function: Single\n",
      "map@7: 0.8217365873015874    partition: partition    hash_function: Single\n",
      "map@8: 0.8148315419501133    partition: partition    hash_function: Single\n",
      "map@9: 0.8051909693877551    partition: partition    hash_function: Single\n",
      "map@10: 0.7973423270975056    partition: partition    hash_function: Single\n",
      "map@1: 0.292    partition: 0    hash_function: murmur2\n",
      "map@2: 0.347    partition: 0    hash_function: murmur2\n",
      "map@3: 0.3641666666666667    partition: 0    hash_function: murmur2\n",
      "map@4: 0.36816666666666664    partition: 0    hash_function: murmur2\n",
      "map@5: 0.36595277777777785    partition: 0    hash_function: murmur2\n",
      "map@6: 0.36449444444444445    partition: 0    hash_function: murmur2\n",
      "map@7: 0.35806277777777773    partition: 0    hash_function: murmur2\n",
      "map@8: 0.3545261224489796    partition: 0    hash_function: murmur2\n",
      "map@9: 0.35183485260770975    partition: 0    hash_function: murmur2\n",
      "map@10: 0.347169724111867    partition: 0    hash_function: murmur2\n",
      "map@1: 0.29254545454545455    partition: 1    hash_function: murmur2\n",
      "map@2: 0.3495    partition: 1    hash_function: murmur2\n",
      "map@3: 0.36639743589743584    partition: 1    hash_function: murmur2\n",
      "map@4: 0.3708650793650794    partition: 1    hash_function: murmur2\n",
      "map@5: 0.37019537037037037    partition: 1    hash_function: murmur2\n",
      "map@6: 0.3674092361111111    partition: 1    hash_function: murmur2\n",
      "map@7: 0.36114764705882346    partition: 1    hash_function: murmur2\n",
      "map@8: 0.35826797682035777    partition: 1    hash_function: murmur2\n",
      "map@9: 0.3558037704379997    partition: 1    hash_function: murmur2\n",
      "map@10: 0.3521498072562358    partition: 1    hash_function: murmur2\n",
      "map@1: 0.75    partition: merged    hash_function: murmur2\n",
      "map@2: 0.788    partition: merged    hash_function: murmur2\n",
      "map@3: 0.7851666666666667    partition: merged    hash_function: murmur2\n",
      "map@4: 0.7772777777777778    partition: merged    hash_function: murmur2\n",
      "map@5: 0.7664416666666666    partition: merged    hash_function: murmur2\n",
      "map@6: 0.7556816666666667    partition: merged    hash_function: murmur2\n",
      "map@7: 0.7457065873015872    partition: merged    hash_function: murmur2\n",
      "map@8: 0.7355588548752835    partition: merged    hash_function: murmur2\n",
      "map@9: 0.7268728061224489    partition: merged    hash_function: murmur2\n",
      "map@10: 0.7172987553539933    partition: merged    hash_function: murmur2\n",
      "map@1: 0.362    partition: merged 2    hash_function: murmur2\n",
      "map@2: 0.441    partition: merged 2    hash_function: murmur2\n",
      "map@3: 0.45666666666666667    partition: merged 2    hash_function: murmur2\n",
      "map@4: 0.46055555555555555    partition: merged 2    hash_function: murmur2\n",
      "map@5: 0.4584277777777778    partition: merged 2    hash_function: murmur2\n",
      "map@6: 0.45400611111111117    partition: merged 2    hash_function: murmur2\n",
      "map@7: 0.44806722222222223    partition: merged 2    hash_function: murmur2\n",
      "map@8: 0.44346442176870743    partition: merged 2    hash_function: murmur2\n",
      "map@9: 0.4398772562358277    partition: merged 2    hash_function: murmur2\n",
      "map@10: 0.434392753212396    partition: merged 2    hash_function: murmur2\n"
     ]
    }
   ],
   "source": [
    "# Calculate MAP@K for Single, Multi partition, and merged\n",
    "all_mapk_data_frames = []\n",
    "\n",
    "mapk_single_df = calculate_map_k(single_partition_recommendations_df)\n",
    "all_mapk_data_frames.append(mapk_single_df)\n",
    "\n",
    "if show_partitions:\n",
    "    mapk_partitions_df = calculate_map_k(partitioned_recommendations_df)\n",
    "    all_mapk_data_frames.append(mapk_partitions_df)\n",
    "if show_merge_1:\n",
    "    mapk_merge_df = calculate_map_k(merge_recommendations_df)\n",
    "    all_mapk_data_frames.append(mapk_merge_df)\n",
    "if show_merge_2:\n",
    "    mapk_best_partitions_df = calculate_map_k(best_partition_recommendations_df)\n",
    "    all_mapk_data_frames.append(mapk_best_partitions_df)\n",
    "if show_merge_3:\n",
    "    mapk_highest_degree_df = calculate_map_k(highest_degree_recommendations_df)\n",
    "    all_mapk_data_frames.append(mapk_highest_degree_df)\n",
    "\n",
    "mapk_df = pd.concat(all_mapk_data_frames, ignore_index=True)\n",
    "mapk_df.to_json(output_map, index=False, orient=\"table\")"
   ]
  },
  {
   "cell_type": "code",
   "execution_count": 22,
   "metadata": {},
   "outputs": [],
   "source": [
    "def draw_plot(mapk_df, plt):\n",
    "    ax = plt.gca()\n",
    "\n",
    "    hash_functions = mapk_df[\"hash_function\"].unique()\n",
    "\n",
    "    for func in list(hash_functions):\n",
    "        df_partition = mapk_df[mapk_df[\"hash_function\"] == func]\n",
    "\n",
    "        partitions = df_partition[\"partition\"].unique()\n",
    "        partitions.sort()\n",
    "\n",
    "        for partition in list(partitions):\n",
    "            df = df_partition[df_partition[\"partition\"] == partition]\n",
    "            df.plot(x=\"k\",\n",
    "                    y='map',\n",
    "                    kind=\"line\",\n",
    "                    title=f\"Mean Average Precision @ K for Increasing $K$ for {len(user_ids)} Users\",\n",
    "                    label=f\"{func} {partition}\",\n",
    "                    marker='o',\n",
    "                    ax=ax)\n",
    "\n",
    "    ax.set_ylim([0, 1])\n",
    "    ax.set_xlabel(\"K\")\n",
    "    ax.set_ylabel(\"Mean Average Precision @ K\")\n",
    "    ax.set_title(f\"Mean Average Precision @ K for Increasing $K$ for {len(user_ids)} Users\")\n",
    "    return plt"
   ]
  },
  {
   "cell_type": "code",
   "execution_count": 23,
   "metadata": {},
   "outputs": [
    {
     "data": {
      "text/plain": "<Figure size 432x288 with 1 Axes>",
      "image/png": "[encoded data removed]"
     },
     "metadata": {
      "needs_background": "light"
     },
     "output_type": "display_data"
    }
   ],
   "source": [
    "import matplotlib.pyplot as plt\n",
    "\n",
    "plot = draw_plot(mapk_df, plt)\n",
    "plot.savefig(output_diagram)"
   ]
  },
  {
   "cell_type": "code",
   "execution_count": 61,
   "outputs": [],
   "source": [
    "# # formatted_mapk_df = mapk_df.pivot(index=['k'], columns=['hash_function', 'partition'], values=['map'])\n",
    "# formatted_mapk_df.to_csv(output_map_at_k, index=True)\n",
    "mapk_df = mapk_df.reset_index(drop=True)\n",
    "mapk_df.to_csv(output_map_at_k, index=True)"
   ],
   "metadata": {
    "collapsed": false,
    "pycharm": {
     "name": "#%%\n"
    }
   }
  }
 ],
 "metadata": {
  "celltoolbar": "Tags",
  "kernelspec": {
   "display_name": "Python 3",
   "language": "python",
   "name": "python3"
  },
  "language_info": {
   "codemirror_mode": {
    "name": "ipython",
    "version": 3
   },
   "file_extension": ".py",
   "mimetype": "text/x-python",
   "name": "python",
   "nbconvert_exporter": "python",
   "pygments_lexer": "ipython3",
   "version": "3.8.5"
  }
 },
 "nbformat": 4,
 "nbformat_minor": 4
}