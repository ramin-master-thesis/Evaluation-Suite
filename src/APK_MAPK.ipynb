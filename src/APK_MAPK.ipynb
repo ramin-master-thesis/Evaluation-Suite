{
 "cells": [
  {
   "cell_type": "code",
   "execution_count": 4,
   "metadata": {},
   "outputs": [],
   "source": [
    "import pandas as pd\n",
    "import numpy as np"
   ]
  },
  {
   "cell_type": "code",
   "execution_count": 90,
   "metadata": {},
   "outputs": [],
   "source": [
    "# Parameters\n",
    "recommendations = \"../data/recommendations_0.json\"\n",
    "users = \"../data/users.json\"\n",
    "output = \"../output/test.png\"\n",
    "cut_off = 10"
   ]
  },
  {
   "cell_type": "code",
   "execution_count": 88,
   "metadata": {},
   "outputs": [],
   "source": [
    "# Read data\n",
    "recommendations_df = pd.read_json(recommendations, orient=\"table\")\n",
    "user_ids = pd.read_json(users, orient=\"table\")[\"user\"].values\n",
    "recommendations_base = recommendations_df[recommendations_df[\"limit\"]==10]\n",
    "recommendations_test = recommendations_df[recommendations_df[\"limit\"]==50]"
   ]
  },
  {
   "cell_type": "code",
   "execution_count": 73,
   "metadata": {},
   "outputs": [],
   "source": [
    "def apk(list_actual: list, list_predicted: list, k=10):\n",
    "    \"\"\"\n",
    "    Computes the average precision at k.\n",
    "    This function computes the average prescision at k between two lists of\n",
    "    items.\n",
    "    Parameters\n",
    "    ----------\n",
    "    list_actual : list\n",
    "             A list of elements that are to be predicted (order doesn't matter)\n",
    "    list_predicted : list\n",
    "                A list of predicted elements (order does matter)\n",
    "    k : int, optional\n",
    "        The maximum number of predicted elements\n",
    "    Returns\n",
    "    -------\n",
    "    score : double\n",
    "            The average precision at k over the input lists\n",
    "    \"\"\"\n",
    "    if len(list_predicted) > k:\n",
    "        list_predicted = list_predicted[:min(len(list_actual), k)]\n",
    "\n",
    "    sum_precision = 0.0\n",
    "    num_hits = 0.0\n",
    "    \n",
    "    for i, prediction in enumerate(list_predicted):\n",
    "        if prediction in list_actual and prediction not in list_predicted[:i]:\n",
    "            num_hits += 1.0\n",
    "            precision_at_i = num_hits / (i + 1.0)\n",
    "            sum_precision += precision_at_i\n",
    "\n",
    "    if not list_actual:\n",
    "        return 0.0\n",
    "\n",
    "    return sum_precision / min(len(list_actual), k)\n",
    "\n",
    "\n",
    "def mapk(actual, predicted, k=10):\n",
    "    \"\"\"\n",
    "    Computes the mean average precision at k.\n",
    "    This function computes the mean average prescision at k between two lists\n",
    "    of lists of items.\n",
    "    Parameters\n",
    "    ----------\n",
    "    actual : list\n",
    "             A list of lists of elements that are to be predicted \n",
    "             (order doesn't matter in the lists)\n",
    "    predicted : list\n",
    "                A list of lists of predicted elements\n",
    "                (order matters in the lists)\n",
    "    k : int, optional\n",
    "        The maximum number of predicted elements\n",
    "    Returns\n",
    "    -------\n",
    "    score : double\n",
    "            The mean average precision at k over the input lists\n",
    "    \"\"\"\n",
    "    return np.mean([apk(a,p,k) for a,p in zip(actual, predicted)])"
   ]
  },
  {
   "cell_type": "code",
   "execution_count": 78,
   "metadata": {},
   "outputs": [
    {
     "name": "stdout",
     "output_type": "stream",
     "text": [
      "map@1: 0.948\n",
      "map@2: 0.937\n",
      "map@3: 0.9146666666666666\n",
      "map@4: 0.889125\n",
      "map@5: 0.8693\n",
      "map@6: 0.8471944444444444\n",
      "map@7: 0.8165748299319727\n",
      "map@8: 0.7864404761904763\n",
      "map@9: 0.7539223985890652\n",
      "map@10: 0.7136501587301587\n"
     ]
    }
   ],
   "source": [
    "list_actuals = []\n",
    "list_predictions = []\n",
    "list_mapk = []\n",
    "for k in range(1, cut_off + 1):\n",
    "    for i, uid in enumerate(user_ids):\n",
    "#         print(k)\n",
    "        actual = recommendations_base[recommendations_base[\"user\"]==uid][\"recommendations\"].values[0]\n",
    "#         print(actual)\n",
    "        predicted = recommendations_test[recommendations_test[\"user\"]==uid][\"recommendations\"].values[0]\n",
    "#         print(predicted)\n",
    "        apk(actual, predicted, int(k))\n",
    "#         print(f\"apk {a} for user {uid}\")\n",
    "        list_actuals.append(actual)\n",
    "        list_predictions.append(predicted)\n",
    "    m = mapk(list_actuals, list_predictions, int(k))\n",
    "    list_mapk.append(m)\n",
    "    print(f\"map@{k}: {m}\")"
   ]
  },
  {
   "cell_type": "code",
   "execution_count": 92,
   "metadata": {},
   "outputs": [
    {
     "data": {
      "image/png": "[encoded data removed]",
      "text/plain": [
       "<Figure size 432x288 with 1 Axes>"
      ]
     },
     "metadata": {
      "needs_background": "light"
     },
     "output_type": "display_data"
    }
   ],
   "source": [
    "import matplotlib.pyplot as plt\n",
    "list_k = range(1, cut_off + 1)\n",
    "fig, ax = plt.subplots()\n",
    "ax.plot(list_k, list_mapk , markersize=10, marker=\"o\")\n",
    "ax.set_xlabel(\"K\")\n",
    "plt.xticks(list_k)\n",
    "ax.set_ylabel(\"Mean Avrage Precision @ K\")\n",
    "# plt.yticks(list_mapk)\n",
    "ax.set_title(f\"Mean Avrage Precision @ K for Increasing $K$ for {len(user_ids)} Users\")\n",
    "\n",
    "fig.savefig(output, bbox_inches='tight')"
   ]
  },
  {
   "cell_type": "code",
   "execution_count": null,
   "metadata": {},
   "outputs": [],
   "source": []
  }
 ],
 "metadata": {
  "kernelspec": {
   "display_name": "Python 3",
   "language": "python",
   "name": "python3"
  },
  "language_info": {
   "codemirror_mode": {
    "name": "ipython",
    "version": 3
   },
   "file_extension": ".py",
   "mimetype": "text/x-python",
   "name": "python",
   "nbconvert_exporter": "python",
   "pygments_lexer": "ipython3",
   "version": "3.8.5"
  }
 },
 "nbformat": 4,
 "nbformat_minor": 4
}
