{
 "cells": [
  {
   "cell_type": "code",
   "execution_count": 86,
   "metadata": {},
   "outputs": [],
   "source": [
    "import pandas as pd\n",
    "import numpy as np\n",
    "import itertools as it"
   ]
  },
  {
   "cell_type": "code",
   "execution_count": 145,
   "metadata": {},
   "outputs": [],
   "source": [
    "# Parameters\n",
    "base_recomendations = \"../data/baseline_recommendations_for_500_users.json\"\n",
    "single_partition_recommendations = \"../data/recommendations_for_500_users_single_partition.json\"\n",
    "recommendations = \"../data/recommendations_experiment.json\"\n",
    "users = \"../data/users.json\"\n",
    "output = \"../output/test.png\"\n",
    "output_partitions = \"../output/test_2.png\"\n",
    "cut_off = 10\n",
    "list_k = range(1, cut_off + 1)\n",
    "partitions = [\"0\", \"1\"]"
   ]
  },
  {
   "cell_type": "code",
   "execution_count": 146,
   "metadata": {},
   "outputs": [
    {
     "data": {
      "text/plain": [
       "[(1, '0'),\n",
       " (1, '1'),\n",
       " (2, '0'),\n",
       " (2, '1'),\n",
       " (3, '0'),\n",
       " (3, '1'),\n",
       " (4, '0'),\n",
       " (4, '1'),\n",
       " (5, '0'),\n",
       " (5, '1'),\n",
       " (6, '0'),\n",
       " (6, '1'),\n",
       " (7, '0'),\n",
       " (7, '1'),\n",
       " (8, '0'),\n",
       " (8, '1'),\n",
       " (9, '0'),\n",
       " (9, '1'),\n",
       " (10, '0'),\n",
       " (10, '1')]"
      ]
     },
     "execution_count": 146,
     "metadata": {},
     "output_type": "execute_result"
    }
   ],
   "source": [
    "# Compute cross product of all configuration values\n",
    "configurations = list(it.product(list_k, partitions))\n",
    "configurations"
   ]
  },
  {
   "cell_type": "code",
   "execution_count": 168,
   "metadata": {},
   "outputs": [],
   "source": [
    "# Read data\n",
    "recommendations_base = pd.read_json(base_recomendations, orient=\"table\")\n",
    "recommendations_df = pd.read_json(recommendations, orient=\"table\")\n",
    "sigle_partition_recommendations = pd.read_json(single_partition_recommendations, orient=\"table\")\n",
    "sigle_partition_recommendations[\"partition\"] = \"single\"\n",
    "user_ids = pd.read_json(users, orient=\"table\")[\"user\"].values"
   ]
  },
  {
   "cell_type": "code",
   "execution_count": 90,
   "metadata": {},
   "outputs": [],
   "source": [
    "def apk(list_actual: list, list_predicted: list, k=10):\n",
    "    \"\"\"\n",
    "    Computes the average precision at k.\n",
    "    This function computes the average prescision at k between two lists of\n",
    "    items.\n",
    "    Parameters\n",
    "    ----------\n",
    "    list_actual : list\n",
    "             A list of elements that are to be predicted (order doesn't matter)\n",
    "    list_predicted : list\n",
    "                A list of predicted elements (order does matter)\n",
    "    k : int, optional\n",
    "        The maximum number of predicted elements\n",
    "    Returns\n",
    "    -------\n",
    "    score : double\n",
    "            The average precision at k over the input lists\n",
    "    \"\"\"\n",
    "    if len(list_predicted) > k:\n",
    "        list_predicted = list_predicted[:min(len(list_actual), k)]\n",
    "\n",
    "    sum_precision = 0.0\n",
    "    num_hits = 0.0\n",
    "    \n",
    "    for i, prediction in enumerate(list_predicted):\n",
    "        if prediction in list_actual and prediction not in list_predicted[:i]:\n",
    "            num_hits += 1.0\n",
    "            precision_at_i = num_hits / (i + 1.0)\n",
    "            sum_precision += precision_at_i\n",
    "\n",
    "    if not list_actual:\n",
    "        return 0.0\n",
    "\n",
    "    return sum_precision / min(len(list_actual), k)\n",
    "\n",
    "\n",
    "def mapk(actual, predicted, k=10):\n",
    "    \"\"\"\n",
    "    Computes the mean average precision at k.\n",
    "    This function computes the mean average prescision at k between two lists\n",
    "    of lists of items.\n",
    "    Parameters\n",
    "    ----------\n",
    "    actual : list\n",
    "             A list of lists of elements that are to be predicted \n",
    "             (order doesn't matter in the lists)\n",
    "    predicted : list\n",
    "                A list of lists of predicted elements\n",
    "                (order matters in the lists)\n",
    "    k : int, optional\n",
    "        The maximum number of predicted elements\n",
    "    Returns\n",
    "    -------\n",
    "    score : double\n",
    "            The mean average precision at k over the input lists\n",
    "    \"\"\"\n",
    "    return np.mean([apk(a,p,k) for a,p in zip(actual, predicted)])"
   ]
  },
  {
   "cell_type": "code",
   "execution_count": 132,
   "metadata": {},
   "outputs": [
    {
     "data": {
      "text/html": [
       "<div>\n",
       "<style scoped>\n",
       "    .dataframe tbody tr th:only-of-type {\n",
       "        vertical-align: middle;\n",
       "    }\n",
       "\n",
       "    .dataframe tbody tr th {\n",
       "        vertical-align: top;\n",
       "    }\n",
       "\n",
       "    .dataframe thead th {\n",
       "        text-align: right;\n",
       "    }\n",
       "</style>\n",
       "<table border=\"1\" class=\"dataframe\">\n",
       "  <thead>\n",
       "    <tr style=\"text-align: right;\">\n",
       "      <th></th>\n",
       "      <th>user</th>\n",
       "      <th>recommendations</th>\n",
       "      <th>partition</th>\n",
       "    </tr>\n",
       "  </thead>\n",
       "  <tbody>\n",
       "    <tr>\n",
       "      <th>0</th>\n",
       "      <td>8862032</td>\n",
       "      <td>[1132790016881696770, 1130538488254935040, 113...</td>\n",
       "      <td>merged</td>\n",
       "    </tr>\n",
       "    <tr>\n",
       "      <th>1</th>\n",
       "      <td>12538522</td>\n",
       "      <td>[]</td>\n",
       "      <td>merged</td>\n",
       "    </tr>\n",
       "    <tr>\n",
       "      <th>2</th>\n",
       "      <td>13218102</td>\n",
       "      <td>[1132655433762713600, 1122497071326617600, 113...</td>\n",
       "      <td>merged</td>\n",
       "    </tr>\n",
       "    <tr>\n",
       "      <th>3</th>\n",
       "      <td>14102621</td>\n",
       "      <td>[]</td>\n",
       "      <td>merged</td>\n",
       "    </tr>\n",
       "    <tr>\n",
       "      <th>4</th>\n",
       "      <td>14147648</td>\n",
       "      <td>[1133777266499047424, 1133429194103377920, 113...</td>\n",
       "      <td>merged</td>\n",
       "    </tr>\n",
       "    <tr>\n",
       "      <th>...</th>\n",
       "      <td>...</td>\n",
       "      <td>...</td>\n",
       "      <td>...</td>\n",
       "    </tr>\n",
       "    <tr>\n",
       "      <th>495</th>\n",
       "      <td>1126006032973615104</td>\n",
       "      <td>[1132870144957353984, 1129540190484275200, 108...</td>\n",
       "      <td>merged</td>\n",
       "    </tr>\n",
       "    <tr>\n",
       "      <th>496</th>\n",
       "      <td>1129507866413375488</td>\n",
       "      <td>[1128640848038637568, 1134319846445998080, 113...</td>\n",
       "      <td>merged</td>\n",
       "    </tr>\n",
       "    <tr>\n",
       "      <th>497</th>\n",
       "      <td>1130689064183717888</td>\n",
       "      <td>[]</td>\n",
       "      <td>merged</td>\n",
       "    </tr>\n",
       "    <tr>\n",
       "      <th>498</th>\n",
       "      <td>1132082053921628160</td>\n",
       "      <td>[1134199323263209480, 1134303821121769474, 113...</td>\n",
       "      <td>merged</td>\n",
       "    </tr>\n",
       "    <tr>\n",
       "      <th>499</th>\n",
       "      <td>1133455763442196481</td>\n",
       "      <td>[]</td>\n",
       "      <td>merged</td>\n",
       "    </tr>\n",
       "  </tbody>\n",
       "</table>\n",
       "<p>500 rows × 3 columns</p>\n",
       "</div>"
      ],
      "text/plain": [
       "                    user                                    recommendations  \\\n",
       "0                8862032  [1132790016881696770, 1130538488254935040, 113...   \n",
       "1               12538522                                                 []   \n",
       "2               13218102  [1132655433762713600, 1122497071326617600, 113...   \n",
       "3               14102621                                                 []   \n",
       "4               14147648  [1133777266499047424, 1133429194103377920, 113...   \n",
       "..                   ...                                                ...   \n",
       "495  1126006032973615104  [1132870144957353984, 1129540190484275200, 108...   \n",
       "496  1129507866413375488  [1128640848038637568, 1134319846445998080, 113...   \n",
       "497  1130689064183717888                                                 []   \n",
       "498  1132082053921628160  [1134199323263209480, 1134303821121769474, 113...   \n",
       "499  1133455763442196481                                                 []   \n",
       "\n",
       "    partition  \n",
       "0      merged  \n",
       "1      merged  \n",
       "2      merged  \n",
       "3      merged  \n",
       "4      merged  \n",
       "..        ...  \n",
       "495    merged  \n",
       "496    merged  \n",
       "497    merged  \n",
       "498    merged  \n",
       "499    merged  \n",
       "\n",
       "[500 rows x 3 columns]"
      ]
     },
     "metadata": {},
     "output_type": "display_data"
    }
   ],
   "source": [
    "# actual = recommendations_base[recommendations_base[\"user\"]==1018562002678108162][\"recommendations\"].values[0]\n",
    "# display(actual)\n",
    "predicted = recommendations_df[(recommendations_df[\"user\"]==1018562002678108162)][\"recommendations\"].values\n",
    "# display(predicted)\n",
    "# a = apk(actual, predicted, 10)\n",
    "# a\n",
    "merged_df = recommendations_df.groupby(\"user\", as_index=False).agg({'recommendations': 'sum'})\n",
    "merged_df[\"partition\"] = \"merged\"\n",
    "display(merged_df)"
   ]
  },
  {
   "cell_type": "code",
   "execution_count": 164,
   "metadata": {},
   "outputs": [
    {
     "name": "stdout",
     "output_type": "stream",
     "text": [
      "map@1: 0.324    paritition: 0\n",
      "map@1: 0.198    paritition: 1\n",
      "map@2: 0.2135    paritition: 0\n",
      "map@2: 0.1745    paritition: 1\n",
      "map@3: 0.17784444444444444    paritition: 0\n",
      "map@3: 0.15577777777777777    paritition: 1\n",
      "map@4: 0.1541190476190476    paritition: 0\n",
      "map@4: 0.13952083333333332    paritition: 1\n",
      "map@5: 0.13498444444444446    paritition: 0\n",
      "map@5: 0.12457666666666667    paritition: 1\n",
      "map@6: 0.11898080808080808    paritition: 0\n",
      "map@6: 0.11131388888888889    paritition: 1\n",
      "map@7: 0.10577001569858711    paritition: 0\n",
      "map@7: 0.09988129251700681    paritition: 1\n",
      "map@8: 0.09490757936507938    paritition: 0\n",
      "map@8: 0.09028675595238095    paritition: 1\n",
      "map@9: 0.08582532939101566    paritition: 0\n",
      "map@9: 0.08211909171075837    paritition: 1\n",
      "map@10: 0.0779853634085213    paritition: 0\n",
      "map@10: 0.07494718253968254    paritition: 1\n"
     ]
    },
    {
     "data": {
      "text/plain": [
       "defaultdict(list,\n",
       "            {'partition 0': [0.324,\n",
       "              0.2135,\n",
       "              0.17784444444444444,\n",
       "              0.1541190476190476,\n",
       "              0.13498444444444446,\n",
       "              0.11898080808080808,\n",
       "              0.10577001569858711,\n",
       "              0.09490757936507938,\n",
       "              0.08582532939101566,\n",
       "              0.0779853634085213],\n",
       "             'partition 1': [0.198,\n",
       "              0.1745,\n",
       "              0.15577777777777777,\n",
       "              0.13952083333333332,\n",
       "              0.12457666666666667,\n",
       "              0.11131388888888889,\n",
       "              0.09988129251700681,\n",
       "              0.09028675595238095,\n",
       "              0.08211909171075837,\n",
       "              0.07494718253968254]})"
      ]
     },
     "execution_count": 164,
     "metadata": {},
     "output_type": "execute_result"
    }
   ],
   "source": [
    "from collections import defaultdict\n",
    "list_actuals = []\n",
    "list_predictions = []\n",
    "list_mapk = []\n",
    "for k, partition in configurations:\n",
    "    for i, uid in enumerate(user_ids):\n",
    "        actual = recommendations_base[recommendations_base[\"user\"]==uid][\"recommendations\"].values[0]\n",
    "        predicted = recommendations_df[(recommendations_df[\"user\"]==uid) & (recommendations_df[\"partition\"]==partition)][\"recommendations\"].values[0]\n",
    "#         print(predicted)\n",
    "#         a = apk(actual, predicted, int(k))\n",
    "#         print(f\"apk {a} for user {uid}\")\n",
    "        list_actuals.append(actual)\n",
    "        list_predictions.append(predicted)\n",
    "    m = mapk(list_actuals, list_predictions, int(k))\n",
    "    list_mapk.append((f\"partition {partition}\", m))\n",
    "    print(f\"map@{k}: {m}    paritition: {partition}\")\n",
    "    \n",
    "dict_mapk = defaultdict(list)\n",
    "for k, v in list_mapk:\n",
    "    dict_mapk[k].append(v)\n",
    "dict_mapk"
   ]
  },
  {
   "cell_type": "code",
   "execution_count": 165,
   "metadata": {},
   "outputs": [],
   "source": [
    "def get_mapk_single_partition(single_partition_df):\n",
    "    list_actuals = []\n",
    "    list_predictions = []\n",
    "    list_mapk = []\n",
    "    partition = single_partition_df.partition.values[0]\n",
    "    for k in list_k:\n",
    "        for i, uid in enumerate(user_ids):\n",
    "            actual = recommendations_base[recommendations_base[\"user\"]==uid][\"recommendations\"].values[0]\n",
    "            predicted = single_partition_df[(single_partition_df[\"user\"]==uid)][\"recommendations\"].values[0]\n",
    "            list_actuals.append(actual)\n",
    "            list_predictions.append(predicted)\n",
    "        m = mapk(list_actuals, list_predictions, int(k))\n",
    "        list_mapk.append((f\"{partition}\", m))\n",
    "        print(f\"map@{k}: {m}    paritition: {partition}\")\n",
    "    return list_mapk"
   ]
  },
  {
   "cell_type": "code",
   "execution_count": 166,
   "metadata": {},
   "outputs": [
    {
     "name": "stdout",
     "output_type": "stream",
     "text": [
      "map@1: 0.96    paritition: single\n",
      "map@2: 0.939    paritition: single\n",
      "map@3: 0.9206666666666666    paritition: single\n",
      "map@4: 0.899875    paritition: single\n",
      "map@5: 0.8783    paritition: single\n",
      "map@6: 0.854638888888889    paritition: single\n",
      "map@7: 0.8248741496598639    paritition: single\n",
      "map@8: 0.794421130952381    paritition: single\n",
      "map@9: 0.7617323633156967    paritition: single\n",
      "map@10: 0.725099126984127    paritition: single\n",
      "map@1: 0.396    paritition: merged\n",
      "map@2: 0.349    paritition: merged\n",
      "map@3: 0.31155555555555553    paritition: merged\n",
      "map@4: 0.27904166666666663    paritition: merged\n",
      "map@5: 0.24915333333333337    paritition: merged\n",
      "map@6: 0.22262777777777779    paritition: merged\n",
      "map@7: 0.19976258503401362    paritition: merged\n",
      "map@8: 0.18057351190476192    paritition: merged\n",
      "map@9: 0.16423818342151675    paritition: merged\n",
      "map@10: 0.14989436507936507    paritition: merged\n"
     ]
    },
    {
     "data": {
      "text/plain": [
       "defaultdict(list,\n",
       "            {'partition 0': [0.324,\n",
       "              0.2135,\n",
       "              0.17784444444444444,\n",
       "              0.1541190476190476,\n",
       "              0.13498444444444446,\n",
       "              0.11898080808080808,\n",
       "              0.10577001569858711,\n",
       "              0.09490757936507938,\n",
       "              0.08582532939101566,\n",
       "              0.0779853634085213],\n",
       "             'partition 1': [0.198,\n",
       "              0.1745,\n",
       "              0.15577777777777777,\n",
       "              0.13952083333333332,\n",
       "              0.12457666666666667,\n",
       "              0.11131388888888889,\n",
       "              0.09988129251700681,\n",
       "              0.09028675595238095,\n",
       "              0.08211909171075837,\n",
       "              0.07494718253968254],\n",
       "             'single': [0.96,\n",
       "              0.939,\n",
       "              0.9206666666666666,\n",
       "              0.899875,\n",
       "              0.8783,\n",
       "              0.854638888888889,\n",
       "              0.8248741496598639,\n",
       "              0.794421130952381,\n",
       "              0.7617323633156967,\n",
       "              0.725099126984127],\n",
       "             'merged': [0.396,\n",
       "              0.349,\n",
       "              0.31155555555555553,\n",
       "              0.27904166666666663,\n",
       "              0.24915333333333337,\n",
       "              0.22262777777777779,\n",
       "              0.19976258503401362,\n",
       "              0.18057351190476192,\n",
       "              0.16423818342151675,\n",
       "              0.14989436507936507]})"
      ]
     },
     "execution_count": 166,
     "metadata": {},
     "output_type": "execute_result"
    }
   ],
   "source": [
    "single = get_mapk_single_partition(sigle_partition_recommendations)\n",
    "merge = get_mapk_single_partition(merged_df)\n",
    "\n",
    "single_partition_list = single + merge\n",
    "    \n",
    "for k, v in single_partition_list:\n",
    "    dict_mapk[k].append(v)\n",
    "dict_mapk"
   ]
  },
  {
   "cell_type": "code",
   "execution_count": 197,
   "metadata": {},
   "outputs": [
    {
     "data": {
      "image/png": "[encoded data removed]",
      "text/plain": [
       "<Figure size 432x288 with 1 Axes>"
      ]
     },
     "metadata": {
      "needs_background": "light"
     },
     "output_type": "display_data"
    }
   ],
   "source": [
    "import matplotlib.pyplot as plt\n",
    "\n",
    "fig, ax = plt.subplots()\n",
    "ax.set_xlabel(\"K\")\n",
    "ax.set_ylabel(\"Mean Avrage Precision @ K\")\n",
    "ax.set_title(f\"Mean Avrage Precision @ K for Increasing $K$ for {len(user_ids)} Users\")\n",
    "\n",
    "for k, v in dict_mapk.items():\n",
    "    plt.plot(range(1, len(v) + 1), v, '-o', label=f\"{k}\")\n",
    "    # NOTE: changed `range(1, 4)` to mach actual values count\n",
    "plt.xticks(list_k)\n",
    "plt.legend()  # To draw legend\n",
    "plt.show()\n",
    "fig.savefig(output_partitions, bbox_inches='tight')"
   ]
  },
  {
   "cell_type": "code",
   "execution_count": 196,
   "metadata": {},
   "outputs": [
    {
     "data": {
      "image/png": "[encoded data removed]",
      "text/plain": [
       "<Figure size 432x288 with 1 Axes>"
      ]
     },
     "metadata": {
      "needs_background": "light"
     },
     "output_type": "display_data"
    }
   ],
   "source": [
    "values = []\n",
    "for value in single:\n",
    "    values.append(value[1])\n",
    "import matplotlib.pyplot as plt\n",
    "fig, ax = plt.subplots()\n",
    "ax.plot(list_k, values , markersize=10, marker=\"o\")\n",
    "ax.set_xlabel(\"K\")\n",
    "plt.xticks(list_k)\n",
    "ax.set_ylabel(\"Mean Avrage Precision @ K\")\n",
    "# plt.yticks(list_mapk)\n",
    "ax.set_title(f\"Mean Avrage Precision @ K for Increasing $K$ for {len(user_ids)} Users\")\n",
    "\n",
    "fig.savefig(output, bbox_inches='tight')"
   ]
  },
  {
   "cell_type": "code",
   "execution_count": null,
   "metadata": {},
   "outputs": [],
   "source": []
  }
 ],
 "metadata": {
  "kernelspec": {
   "display_name": "Python 3",
   "language": "python",
   "name": "python3"
  },
  "language_info": {
   "codemirror_mode": {
    "name": "ipython",
    "version": 3
   },
   "file_extension": ".py",
   "mimetype": "text/x-python",
   "name": "python",
   "nbconvert_exporter": "python",
   "pygments_lexer": "ipython3",
   "version": "3.8.5"
  }
 },
 "nbformat": 4,
 "nbformat_minor": 4
}
