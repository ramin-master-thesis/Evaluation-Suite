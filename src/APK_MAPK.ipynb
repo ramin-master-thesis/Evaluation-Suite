{
 "cells": [
  {
   "cell_type": "code",
   "execution_count": 29,
   "metadata": {},
   "outputs": [],
   "source": [
    "import pandas as pd\n",
    "import numpy as np\n",
    "import itertools as it"
   ]
  },
  {
   "cell_type": "code",
   "execution_count": 41,
   "metadata": {
    "tags": [
     "parameters"
    ]
   },
   "outputs": [],
   "source": [
    "# Parameters\n",
    "hash_function = \"murmur2\"\n",
    "\n",
    "baseline_recommendations_path = \"../data/baseline_recommendations.json\"\n",
    "single_partition_recommendations_path = \"../data/single_recommendations.json\"\n",
    "recommendations_path = f\"../data/{hash_function}_recommendations.json\"\n",
    "merge_recommendations_path = f\"../data/{hash_function}_merge_recommendations.json\"\n",
    "\n",
    "with_partitions = True\n",
    "\n",
    "users = \"../data/users.json\"\n",
    "output_map = f\"../data/{hash_function}_map@k.json\"\n",
    "output_diagram = f\"../output/{hash_function}_map@k.png\"\n",
    "output_map_at_10 = f\"../output/{hash_function}_map@10.csv\""
   ]
  },
  {
   "cell_type": "code",
   "execution_count": 42,
   "metadata": {},
   "outputs": [],
   "source": [
    "# Read data\n",
    "baseline_df = pd.read_json(baseline_recommendations_path, orient=\"table\")\n",
    "single_partition_recommendations_df = pd.read_json(single_partition_recommendations_path, orient=\"table\")\n",
    "\n",
    "merge_recommendations_df = pd.read_json(merge_recommendations_path, orient=\"table\")\n",
    "partitioned_recommendations_df = pd.read_json(recommendations_path, orient=\"table\")\n",
    "partitioned_recommendations_df[\"len_recommendations\"] = partitioned_recommendations_df[\"recommendations\"].str.len()\n",
    "\n",
    "user_ids = pd.read_json(users, orient=\"table\")[\"user_id\"].values"
   ]
  },
  {
   "cell_type": "code",
   "execution_count": 43,
   "metadata": {},
   "outputs": [],
   "source": [
    "def apk(list_actual: list, list_predicted: list, k=10):\n",
    "    \"\"\"\n",
    "    Computes the average precision at k.\n",
    "    This function computes the average precision at k between two lists of\n",
    "    items.\n",
    "    Parameters\n",
    "    ----------\n",
    "    list_actual : list\n",
    "             A list of elements that are to be predicted (order doesn't matter)\n",
    "    list_predicted : list\n",
    "             A list of predicted elements (order does matter)\n",
    "    k : int, optional\n",
    "        The maximum number of predicted elements\n",
    "    Returns\n",
    "    -------\n",
    "    score : double\n",
    "            The average precision at k over the input lists\n",
    "    \"\"\"\n",
    "    if len(list_predicted) > k:\n",
    "        list_predicted = list_predicted[:min(len(list_actual), k)]\n",
    "\n",
    "    sum_precision = 0.0\n",
    "    num_hits = 0.0\n",
    "    \n",
    "    for i, prediction in enumerate(list_predicted):\n",
    "        if prediction in list_actual and prediction not in list_predicted[:i]:\n",
    "            num_hits += 1.0\n",
    "            precision_at_i = num_hits / (i + 1.0)\n",
    "            sum_precision += precision_at_i\n",
    "\n",
    "    if not list_actual:\n",
    "        return 0.0\n",
    "\n",
    "    return sum_precision / min(len(list_actual), k)\n",
    "\n",
    "\n",
    "def mapk(actual, predicted, k=10):\n",
    "    \"\"\"\n",
    "    Computes the mean average precision at k.\n",
    "    This function computes the mean average precision at k between two lists\n",
    "    of lists of items.\n",
    "    Parameters\n",
    "    ----------\n",
    "    actual : list\n",
    "             A list of lists of elements that are to be predicted \n",
    "             (order doesn't matter in the lists)\n",
    "    predicted : list\n",
    "                A list of lists of predicted elements\n",
    "                (order matters in the lists)\n",
    "    k : int, optional\n",
    "        The maximum number of predicted elements\n",
    "    Returns\n",
    "    -------\n",
    "    score : double\n",
    "            The mean average precision at k over the input lists\n",
    "    \"\"\"\n",
    "    return np.mean([apk(a,p,k) for a,p in zip(actual, predicted)])"
   ]
  },
  {
   "cell_type": "code",
   "execution_count": 44,
   "metadata": {},
   "outputs": [],
   "source": [
    "def calculate_map_k(df):\n",
    "    list_actual = []\n",
    "    list_prediction = []\n",
    "    rows = []\n",
    "    \n",
    "    hash_fun = df[\"hash_function\"].unique()[0]\n",
    "    partitions = df[\"partition\"].unique()\n",
    "    partitions.sort()\n",
    "    \n",
    "    print(partitions)\n",
    "\n",
    "    for partition in list(partitions):\n",
    "        for k in range(1, 11):\n",
    "            for _, uid in enumerate(user_ids):\n",
    "                actual = baseline_df[baseline_df[\"user\"]==uid][\"recommendations\"].values[0]\n",
    "\n",
    "                con = (\n",
    "                    (df[\"user\"]==uid) & \n",
    "                    (df[\"partition\"]==partition)\n",
    "                )\n",
    "\n",
    "                try:\n",
    "                    predicted = df[con][\"recommendations\"].values[0]\n",
    "\n",
    "                    list_actual.append(actual)\n",
    "                    list_prediction.append(predicted)\n",
    "                except IndexError as error:\n",
    "                    print(f\"userID {uid}, partition {partition}, hash_function {hash_fun}\")\n",
    "\n",
    "            m = mapk(list_actual, list_prediction, int(k))\n",
    "            rows.append((hash_fun, partition, k, m))\n",
    "\n",
    "            print(f\"map@{k}: {m}    partition: {partition}    hash_function: {hash_fun}\")\n",
    "\n",
    "    return pd.DataFrame(rows, columns=[\"hash_function\", \"partition\", \"k\", \"map\"])"
   ]
  },
  {
   "cell_type": "code",
   "execution_count": 45,
   "metadata": {},
   "outputs": [
    {
     "name": "stdout",
     "output_type": "stream",
     "text": [
      "['partition']\n",
      "map@1: 0.0    partition: partition    hash_function: Single\n",
      "map@2: 0.25    partition: partition    hash_function: Single\n",
      "map@3: 0.16666666666666666    partition: partition    hash_function: Single\n",
      "map@4: 0.125    partition: partition    hash_function: Single\n",
      "map@5: 0.1    partition: partition    hash_function: Single\n",
      "map@6: 0.13888888888888887    partition: partition    hash_function: Single\n",
      "map@7: 0.14965986394557823    partition: partition    hash_function: Single\n",
      "map@8: 0.16220238095238093    partition: partition    hash_function: Single\n",
      "map@9: 0.14417989417989419    partition: partition    hash_function: Single\n",
      "map@10: 0.12976190476190474    partition: partition    hash_function: Single\n",
      "['0' '1']\n",
      "map@1: 0.5    partition: 0    hash_function: murmur2\n",
      "map@2: 0.25    partition: 0    hash_function: murmur2\n",
      "map@3: 0.27777777777777773    partition: 0    hash_function: murmur2\n",
      "map@4: 0.3333333333333333    partition: 0    hash_function: murmur2\n",
      "map@5: 0.26666666666666666    partition: 0    hash_function: murmur2\n",
      "map@6: 0.27777777777777773    partition: 0    hash_function: murmur2\n",
      "map@7: 0.238095238095238    partition: 0    hash_function: murmur2\n",
      "map@8: 0.20833333333333331    partition: 0    hash_function: murmur2\n",
      "map@9: 0.18518518518518517    partition: 0    hash_function: murmur2\n",
      "map@10: 0.16666666666666663    partition: 0    hash_function: murmur2\n",
      "map@1: 0.5    partition: 1    hash_function: murmur2\n",
      "map@2: 0.2708333333333333    partition: 1    hash_function: murmur2\n",
      "map@3: 0.27136752136752135    partition: 1    hash_function: murmur2\n",
      "map@4: 0.29166666666666663    partition: 1    hash_function: murmur2\n",
      "map@5: 0.24111111111111105    partition: 1    hash_function: murmur2\n",
      "map@6: 0.23298611111111112    partition: 1    hash_function: murmur2\n",
      "map@7: 0.19593837535014005    partition: 1    hash_function: murmur2\n",
      "map@8: 0.1685185185185185    partition: 1    hash_function: murmur2\n",
      "map@9: 0.14746588693957108    partition: 1    hash_function: murmur2\n",
      "map@10: 0.1308333333333333    partition: 1    hash_function: murmur2\n",
      "['merged']\n",
      "map@1: 0.5    partition: merged    hash_function: murmur2\n",
      "map@2: 0.375    partition: merged    hash_function: murmur2\n",
      "map@3: 0.3611111111111111    partition: merged    hash_function: murmur2\n",
      "map@4: 0.3645833333333333    partition: merged    hash_function: murmur2\n",
      "map@5: 0.4116666666666666    partition: merged    hash_function: murmur2\n",
      "map@6: 0.3430555555555555    partition: merged    hash_function: murmur2\n",
      "map@7: 0.3450680272108844    partition: merged    hash_function: murmur2\n",
      "map@8: 0.30193452380952385    partition: merged    hash_function: murmur2\n",
      "map@9: 0.2683862433862434    partition: merged    hash_function: murmur2\n",
      "map@10: 0.24154761904761907    partition: merged    hash_function: murmur2\n"
     ]
    }
   ],
   "source": [
    "# Calculate MAP@K for Single, Multi partition, and merged\n",
    "\n",
    "mapk_single_df = calculate_map_k(single_partition_recommendations_df)\n",
    "\n",
    "mapk_partitions_df = pd.DataFrame(columns=[\"hash_function\", \"partition\", \"k\", \"map\"])\n",
    "if with_partitions:\n",
    "    mapk_partitions_df = calculate_map_k(partitioned_recommendations_df)\n",
    "\n",
    "mapk_merge_df = calculate_map_k(merge_recommendations_df)\n",
    "\n",
    "mapk_df = mapk_single_df.append([mapk_partitions_df, mapk_merge_df])\n",
    "mapk_df.to_json(output_map, index=False, orient=\"table\")\n",
    "# mapk_single_df"
   ]
  },
  {
   "cell_type": "code",
   "execution_count": 46,
   "metadata": {},
   "outputs": [],
   "source": [
    "def draw_plot(mapk_df, plt):\n",
    "    ax = plt.gca()\n",
    "\n",
    "    hash_functions = mapk_df[\"hash_function\"].unique()\n",
    "\n",
    "    for func in list(hash_functions):\n",
    "        df_partition = mapk_df[mapk_df[\"hash_function\"] == func]\n",
    "        \n",
    "        partitions = df_partition[\"partition\"].unique()\n",
    "        partitions.sort()\n",
    "        \n",
    "        for partition in list(partitions):\n",
    "            df = df_partition[df_partition[\"partition\"] == partition]\n",
    "            df.plot(x=\"k\",\n",
    "                    y='map', \n",
    "                    kind=\"line\",\n",
    "                    title=f\"Mean Average Precision @ K for Increasing $K$ for {len(user_ids)} Users\",\n",
    "                    label=f\"{func} {partition}\",\n",
    "                    marker='o',\n",
    "                    ax=ax)\n",
    "\n",
    "    ax.set_ylim([0,1])\n",
    "    ax.set_xlabel(\"K\")\n",
    "    ax.set_ylabel(\"Mean Average Precision @ K\")\n",
    "    ax.set_title(f\"Mean Average Precision @ K for Increasing $K$ for {len(user_ids)} Users\")\n",
    "    return plt"
   ]
  },
  {
   "cell_type": "code",
   "execution_count": 47,
   "metadata": {},
   "outputs": [
    {
     "data": {
      "text/plain": "<Figure size 432x288 with 1 Axes>",
      "image/png": "[encoded data removed]"
     },
     "metadata": {
      "needs_background": "light"
     },
     "output_type": "display_data"
    }
   ],
   "source": [
    "import matplotlib.pyplot as plt\n",
    "\n",
    "plot = draw_plot(mapk_df, plt)\n",
    "plot.savefig(output_diagram)"
   ]
  },
  {
   "cell_type": "code",
   "execution_count": 27,
   "outputs": [],
   "source": [
    "map_10_df = mapk_df[mapk_df[\"k\"] == 10].reset_index(drop=True)\n",
    "map_10_df.to_csv(output_map_at_10, index=False)"
   ],
   "metadata": {
    "collapsed": false,
    "pycharm": {
     "name": "#%%\n"
    }
   }
  }
 ],
 "metadata": {
  "celltoolbar": "Tags",
  "kernelspec": {
   "display_name": "Python 3",
   "language": "python",
   "name": "python3"
  },
  "language_info": {
   "codemirror_mode": {
    "name": "ipython",
    "version": 3
   },
   "file_extension": ".py",
   "mimetype": "text/x-python",
   "name": "python",
   "nbconvert_exporter": "python",
   "pygments_lexer": "ipython3",
   "version": "3.8.5"
  }
 },
 "nbformat": 4,
 "nbformat_minor": 4
}