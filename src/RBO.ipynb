{
 "cells": [
  {
   "cell_type": "code",
   "execution_count": 1,
   "metadata": {
    "collapsed": true
   },
   "outputs": [],
   "source": [
    "import rbo\n",
    "import pandas as pd\n",
    "import numpy as np"
   ]
  },
  {
   "cell_type": "code",
   "execution_count": 2,
   "metadata": {
    "pycharm": {
     "name": "#%%\n"
    },
    "tags": [
     "parameters"
    ]
   },
   "outputs": [],
   "source": [
    "# parameters\n",
    "hash_function = \"murmur2\"\n",
    "\n",
    "baseline_recommendations_path = \"../data/baseline_recommendations.json\"\n",
    "single_partition_recommendations_path = \"../data/single_recommendations.json\"\n",
    "recommendations_path = f\"../data/{hash_function}_recommendations.json\"\n",
    "merge_recommendations_path = f\"../data/{hash_function}_merge_recommendations.json\"\n",
    "best_partition_recommendations_path = f\"../data/{hash_function}_best_partition_recommendations.json\"\n",
    "highest_degree_recommendations_path = f\"../data/{hash_function}_highest_degree_recommendations.json\"\n",
    "\n",
    "show_partitions = True\n",
    "show_merge_1 = True\n",
    "show_merge_2 = True\n",
    "show_merge_3 = True\n",
    "\n",
    "users = \"../data/users.json\"\n",
    "output_rbo = f\"../data/{hash_function}_rbo@k.json\"\n",
    "output_diagram = f\"../output/{hash_function}_rbo@k.png\"\n",
    "output_rbo_at_k = f\"../output/{hash_function}_rbo@k.csv\""
   ]
  },
  {
   "cell_type": "code",
   "execution_count": 3,
   "metadata": {
    "pycharm": {
     "name": "#%%\n"
    }
   },
   "outputs": [],
   "source": [
    "# Read data\n",
    "baseline_df = pd.read_json(baseline_recommendations_path, orient=\"table\")\n",
    "single_partition_recommendations_df = pd.read_json(single_partition_recommendations_path, orient=\"table\")\n",
    "\n",
    "merge_recommendations_df = pd.read_json(merge_recommendations_path, orient=\"table\")\n",
    "partitioned_recommendations_df = pd.read_json(recommendations_path, orient=\"table\")\n",
    "partitioned_recommendations_df[\"len_recommendations\"] = partitioned_recommendations_df[\"recommendations\"].str.len()\n",
    "best_partition_recommendations_df = pd.read_json(best_partition_recommendations_path, orient=\"table\")\n",
    "highest_degree_recommendations_df = pd.read_json(highest_degree_recommendations_path, orient=\"table\")\n",
    "\n",
    "user_ids = pd.read_json(users, orient=\"table\")[\"user_id\"].values"
   ]
  },
  {
   "cell_type": "code",
   "execution_count": 9,
   "metadata": {
    "pycharm": {
     "name": "#%%\n"
    }
   },
   "outputs": [],
   "source": [
    "def mean_rbo(actual, predicted, k):\n",
    "    return np.mean([rbo.RankingSimilarity(a, p).rbo(k=k, p=1) for a, p in zip(actual, predicted)])"
   ]
  },
  {
   "cell_type": "code",
   "execution_count": 10,
   "metadata": {
    "pycharm": {
     "name": "#%%\n"
    }
   },
   "outputs": [],
   "source": [
    "def calculate_rbo_k(df):\n",
    "    list_actual = []\n",
    "    list_prediction = []\n",
    "    rows = []\n",
    "\n",
    "    hash_fun = df[\"hash_function\"].unique()[0]\n",
    "    partitions = df[\"partition\"].unique()\n",
    "    partitions.sort()\n",
    "\n",
    "    for partition in list(partitions):\n",
    "        for k in range(1, 11):\n",
    "            for _, uid in enumerate(user_ids):\n",
    "                actual = baseline_df[baseline_df[\"user\"] == uid][\"recommendations\"].values[0]\n",
    "\n",
    "                con = (\n",
    "                        (df[\"user\"] == uid) &\n",
    "                        (df[\"partition\"] == partition)\n",
    "                )\n",
    "\n",
    "                try:\n",
    "                    predicted = df[con][\"recommendations\"].values[0]\n",
    "\n",
    "                    list_actual.append(actual)\n",
    "                    list_prediction.append(predicted)\n",
    "                except IndexError as error:\n",
    "                    print(f\"userID {uid}, partition {partition}, hash_function {hash_fun}\")\n",
    "                    exit(1)\n",
    "\n",
    "            m = mean_rbo(list_actual, list_prediction, int(k))\n",
    "            rows.append((hash_fun, partition, k, m))\n",
    "\n",
    "            print(f\"rbo@{k}: {m}    partition: {partition}    hash_function: {hash_fun}\")\n",
    "\n",
    "    return pd.DataFrame(rows, columns=[\"hash_function\", \"partition\", \"k\", \"rbo\"])"
   ]
  },
  {
   "cell_type": "code",
   "execution_count": 11,
   "metadata": {
    "pycharm": {
     "name": "#%%\n"
    }
   },
   "outputs": [
    {
     "name": "stdout",
     "output_type": "stream",
     "text": [
      "rbo@1: 0.1742    partition: partition    hash_function: Single\n",
      "rbo@2: 0.22432999999999995    partition: partition    hash_function: Single\n",
      "rbo@3: 0.27120199999999994    partition: partition    hash_function: Single\n",
      "rbo@4: 0.31388494999999994    partition: partition    hash_function: Single\n",
      "rbo@5: 0.35340841399999995    partition: partition    hash_function: Single\n",
      "rbo@6: 0.38913305899999995    partition: partition    hash_function: Single\n",
      "rbo@7: 0.42158132805714277    partition: partition    hash_function: Single\n",
      "rbo@8: 0.4513074803921428    partition: partition    hash_function: Single\n",
      "rbo@9: 0.4783025574281428    partition: partition    hash_function: Single\n",
      "rbo@10: 0.5027952807427228    partition: partition    hash_function: Single\n",
      "rbo@1: 0.0358    partition: 0    hash_function: murmur2\n",
      "rbo@2: 0.04794999999999999    partition: 0    hash_function: murmur2\n",
      "rbo@3: 0.05977599999999999    partition: 0    hash_function: murmur2\n",
      "rbo@4: 0.0708568    partition: 0    hash_function: murmur2\n",
      "rbo@5: 0.08117069199999999    partition: 0    hash_function: murmur2\n",
      "rbo@6: 0.09065789800000001    partition: 0    hash_function: murmur2\n",
      "rbo@7: 0.09935834637142855    partition: 0    hash_function: murmur2\n",
      "rbo@8: 0.10720241553142856    partition: 0    hash_function: murmur2\n",
      "rbo@9: 0.11442469872142856    partition: 0    hash_function: murmur2\n",
      "rbo@10: 0.12105733749310857    partition: 0    hash_function: murmur2\n",
      "rbo@1: 0.03567272727272727    partition: 1    hash_function: murmur2\n",
      "rbo@2: 0.04762666666666666    partition: 1    hash_function: murmur2\n",
      "rbo@3: 0.05932830769230769    partition: 1    hash_function: murmur2\n",
      "rbo@4: 0.07038582857142855    partition: 1    hash_function: murmur2\n",
      "rbo@5: 0.08063872133333332    partition: 1    hash_function: murmur2\n",
      "rbo@6: 0.09014800449999999    partition: 1    hash_function: murmur2\n",
      "rbo@7: 0.09883597679495798    partition: 1    hash_function: murmur2\n",
      "rbo@8: 0.10675019066206348    partition: 1    hash_function: murmur2\n",
      "rbo@9: 0.11398803455381577    partition: 1    hash_function: murmur2\n",
      "rbo@10: 0.12063903045886284    partition: 1    hash_function: murmur2\n",
      "rbo@1: 0.15020000000000003    partition: merged    hash_function: murmur2\n",
      "rbo@2: 0.18034999999999995    partition: merged    hash_function: murmur2\n",
      "rbo@3: 0.20853799999999997    partition: merged    hash_function: murmur2\n",
      "rbo@4: 0.23449039999999996    partition: merged    hash_function: murmur2\n",
      "rbo@5: 0.258949808    partition: merged    hash_function: murmur2\n",
      "rbo@6: 0.281644307    partition: merged    hash_function: murmur2\n",
      "rbo@7: 0.30224903377142853    partition: merged    hash_function: murmur2\n",
      "rbo@8: 0.32107001678642855    partition: merged    hash_function: murmur2\n",
      "rbo@9: 0.33803042486042856    partition: merged    hash_function: murmur2\n",
      "rbo@10: 0.3534962507813086    partition: merged    hash_function: murmur2\n",
      "rbo@1: 0.015199999999999998    partition: merged 2    hash_function: murmur2\n",
      "rbo@2: 0.030319999999999993    partition: merged 2    hash_function: murmur2\n",
      "rbo@3: 0.045277999999999985    partition: merged 2    hash_function: murmur2\n",
      "rbo@4: 0.05931124999999999    partition: merged 2    hash_function: murmur2\n",
      "rbo@5: 0.07222329799999999    partition: merged 2    hash_function: murmur2\n",
      "rbo@6: 0.08393468299999998    partition: merged 2    hash_function: murmur2\n",
      "rbo@7: 0.0945179509142857    partition: merged 2    hash_function: murmur2\n",
      "rbo@8: 0.10405997406928569    partition: merged 2    hash_function: murmur2\n",
      "rbo@9: 0.1127075820212857    partition: merged 2    hash_function: murmur2\n",
      "rbo@10: 0.12057996635776569    partition: merged 2    hash_function: murmur2\n"
     ]
    }
   ],
   "source": [
    "# Calculate Mean RBO@K for Single, Multi partition, and merged\n",
    "all_rbo_data_frames = []\n",
    "\n",
    "rbo_single_df = calculate_rbo_k(single_partition_recommendations_df)\n",
    "all_rbo_data_frames.append(rbo_single_df)\n",
    "\n",
    "if show_partitions:\n",
    "    rbo_partitions_df = calculate_rbo_k(partitioned_recommendations_df)\n",
    "    all_rbo_data_frames.append(rbo_partitions_df)\n",
    "if show_merge_1:\n",
    "    rbo_merge_df = calculate_rbo_k(merge_recommendations_df)\n",
    "    all_rbo_data_frames.append(rbo_merge_df)\n",
    "if show_merge_2:\n",
    "    rbo_best_partitions_df = calculate_rbo_k(best_partition_recommendations_df)\n",
    "    all_rbo_data_frames.append(rbo_best_partitions_df)\n",
    "if show_merge_3:\n",
    "    rbo_highest_degree_partitions_df = calculate_rbo_k(highest_degree_recommendations_df)\n",
    "    all_rbo_data_frames.append(rbo_highest_degree_partitions_df)\n",
    "\n",
    "rbo_df = pd.concat(all_rbo_data_frames, ignore_index=True)\n",
    "rbo_df.to_json(output_rbo, index=False, orient=\"table\")"
   ]
  },
  {
   "cell_type": "code",
   "execution_count": 12,
   "metadata": {
    "pycharm": {
     "name": "#%%\n"
    }
   },
   "outputs": [],
   "source": [
    "def draw_plot(rbo_df, plt):\n",
    "    ax = plt.gca()\n",
    "\n",
    "    hash_functions = rbo_df[\"hash_function\"].unique()\n",
    "\n",
    "    for func in list(hash_functions):\n",
    "        df_partition = rbo_df[rbo_df[\"hash_function\"] == func]\n",
    "\n",
    "        partitions = df_partition[\"partition\"].unique()\n",
    "        partitions.sort()\n",
    "\n",
    "        for partition in list(partitions):\n",
    "            df = df_partition[df_partition[\"partition\"] == partition]\n",
    "            df.plot(x=\"k\",\n",
    "                    y='rbo',\n",
    "                    kind=\"line\",\n",
    "                    title=f\"Rank-Biased Overlap @ K for Increasing $K$ for {len(user_ids)} Users\",\n",
    "                    label=f\"{func} {partition}\",\n",
    "                    marker='o',\n",
    "                    ax=ax)\n",
    "\n",
    "    ax.set_ylim([0, 1])\n",
    "    ax.set_xlabel(\"K\")\n",
    "    ax.set_ylabel(\"RBO@K\")\n",
    "    ax.set_title(f\"Rank-Biased Overlap @ K for Increasing $K$ for {len(user_ids)} Users\")\n",
    "    return plt"
   ]
  },
  {
   "cell_type": "code",
   "execution_count": 13,
   "metadata": {
    "pycharm": {
     "name": "#%%\n"
    }
   },
   "outputs": [
    {
     "data": {
      "text/plain": "<Figure size 432x288 with 1 Axes>",
      "image/png": "[encoded data removed]"
     },
     "metadata": {
      "needs_background": "light"
     },
     "output_type": "display_data"
    }
   ],
   "source": [
    "import matplotlib.pyplot as plt\n",
    "\n",
    "plot = draw_plot(rbo_df, plt)\n",
    "plot.savefig(output_diagram)"
   ]
  },
  {
   "cell_type": "code",
   "execution_count": null,
   "metadata": {
    "pycharm": {
     "name": "#%%\n"
    }
   },
   "outputs": [],
   "source": [
    "rbo_df = rbo_df.reset_index(drop=True)\n",
    "rbo_df.to_csv(output_rbo_at_k, index=True)"
   ]
  }
 ],
 "metadata": {
  "celltoolbar": "Tags",
  "kernelspec": {
   "display_name": "Python 3",
   "language": "python",
   "name": "python3"
  },
  "language_info": {
   "codemirror_mode": {
    "name": "ipython",
    "version": 3
   },
   "file_extension": ".py",
   "mimetype": "text/x-python",
   "name": "python",
   "nbconvert_exporter": "python",
   "pygments_lexer": "ipython3",
   "version": "3.8.5"
  }
 },
 "nbformat": 4,
 "nbformat_minor": 1
}