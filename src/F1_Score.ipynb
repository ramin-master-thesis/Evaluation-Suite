{
 "cells": [
  {
   "cell_type": "code",
   "execution_count": 1,
   "metadata": {},
   "outputs": [],
   "source": [
    "import pandas as pd\n",
    "import numpy as np\n",
    "import itertools as it"
   ]
  },
  {
   "cell_type": "code",
   "execution_count": 12,
   "metadata": {},
   "outputs": [],
   "source": [
    "# Parameters\n",
    "base_recomendations = \"../data/baseline_recommendations_for_500_users.json\"\n",
    "single_partition_recommendations = \"../data/recommendations_for_500_users_single_partition.json\"\n",
    "recommendations = \"../data/recommendations_experiment.json\"\n",
    "users = \"../data/users.json\"\n",
    "output = \"../output/test.png\"\n",
    "output_partitions = \"../output/test_2.png\"\n",
    "cut_off = 10\n",
    "\n",
    "hash_functions = [\"murmur2\", \"StarSpace\"]\n",
    "partitions = [\"0\", \"1\"]"
   ]
  },
  {
   "cell_type": "code",
   "execution_count": 13,
   "metadata": {},
   "outputs": [],
   "source": [
    "# Compute cross product of all configuration values\n",
    "configurations = list(it.product(partitions, hash_functions))"
   ]
  },
  {
   "cell_type": "code",
   "execution_count": 50,
   "metadata": {},
   "outputs": [
    {
     "data": {
      "text/plain": [
       "496"
      ]
     },
     "execution_count": 50,
     "metadata": {},
     "output_type": "execute_result"
    }
   ],
   "source": [
    "# Read data\n",
    "baseline_df = pd.read_json(base_recomendations, orient=\"table\")\n",
    "partitioned_recommendations_df = pd.read_json(recommendations, orient=\"table\")\n",
    "\n",
    "sigle_partition_recommendations = pd.read_json(single_partition_recommendations, orient=\"table\")\n",
    "sigle_partition_recommendations[\"partition\"] = \"single\"\n",
    "\n",
    "user_ids = pd.read_json(users, orient=\"table\")[\"user_id\"].values\n",
    "\n",
    "partitioned_recommendations_df[\"len_recommendations\"] = partitioned_recommendations_df[\"recommendations\"].str.len()\n",
    "\n",
    "con = ((partitioned_recommendations_df[\"len_recommendations\"]<10) & (partitioned_recommendations_df[\"len_recommendations\"]>=1))\n",
    "\n",
    "not_healty_user = partitioned_recommendations_df[con][\"user\"].values\n",
    "list(not_healty_user)\n",
    "\n",
    "user_ids = [x for x in list(user_ids) if x not in list(not_healty_user)]\n",
    "len(user_ids)\n",
    "# partitioned_recommendations_df.drop(partitioned_recommendations_df[con].index, inplace=True)\n",
    "# partitioned_recommendations_df"
   ]
  },
  {
   "cell_type": "code",
   "execution_count": 51,
   "metadata": {},
   "outputs": [],
   "source": [
    "def merge_sort_rec_hit(row):\n",
    "    if row[\"len_rec\"] == 10:\n",
    "        return row[\"recommendations\"], row[\"hits\"]\n",
    "    rec_hit_dic = dict(zip(row[\"recommendations\"], row[\"hits\"]))\n",
    "    sorted_by_hits = dict(sorted(rec_hit_dic.items(), key=lambda item: item[1], reverse=True))\n",
    "    rec_hit_dic = dict(list(sorted_by_hits.items())[:cut_off])\n",
    "    return list(rec_hit_dic.keys()), list(rec_hit_dic.values())"
   ]
  },
  {
   "cell_type": "code",
   "execution_count": 52,
   "metadata": {},
   "outputs": [
    {
     "data": {
      "text/html": [
       "<div>\n",
       "<style scoped>\n",
       "    .dataframe tbody tr th:only-of-type {\n",
       "        vertical-align: middle;\n",
       "    }\n",
       "\n",
       "    .dataframe tbody tr th {\n",
       "        vertical-align: top;\n",
       "    }\n",
       "\n",
       "    .dataframe thead th {\n",
       "        text-align: right;\n",
       "    }\n",
       "</style>\n",
       "<table border=\"1\" class=\"dataframe\">\n",
       "  <thead>\n",
       "    <tr style=\"text-align: right;\">\n",
       "      <th></th>\n",
       "      <th>user</th>\n",
       "      <th>recommendations</th>\n",
       "      <th>hits</th>\n",
       "      <th>hash_function</th>\n",
       "      <th>partition</th>\n",
       "      <th>len_rec</th>\n",
       "    </tr>\n",
       "  </thead>\n",
       "  <tbody>\n",
       "    <tr>\n",
       "      <th>0</th>\n",
       "      <td>3512101</td>\n",
       "      <td>[1367566397207904268, 1367715017915850754, 1367151738520748039, 1367594210728144897, 1367226258388574211, 1367364251233497095, 1368304598872715264, 1368320547474472960, 1367583171412328448, 1367254064791244800]</td>\n",
       "      <td>[1439, 982, 967, 933, 850, 801, 709, 694, 621, 613]</td>\n",
       "      <td>murmur2</td>\n",
       "      <td>merged</td>\n",
       "      <td>20</td>\n",
       "    </tr>\n",
       "    <tr>\n",
       "      <th>1</th>\n",
       "      <td>14298697</td>\n",
       "      <td>[1367577598763622406, 1363317822609309699, 1367532875030102022, 1366617799498428418, 1366828952988311560, 1367525374079299587, 1366447585167167488, 1365129641263058947, 1367148992061181960, 1367520682419097612]</td>\n",
       "      <td>[360, 350, 315, 310, 286, 280, 241, 233, 231, 214]</td>\n",
       "      <td>murmur2</td>\n",
       "      <td>merged</td>\n",
       "      <td>10</td>\n",
       "    </tr>\n",
       "    <tr>\n",
       "      <th>2</th>\n",
       "      <td>14486464</td>\n",
       "      <td>[1364258720805392387, 1362737662373867538, 1363860596941352975, 1367233611389431811, 1363485385402294272, 1363949714467475459, 1365186891943878656, 1364118553557831682, 1364189523148558344, 1365252695334993921]</td>\n",
       "      <td>[1230, 830, 790, 768, 737, 406, 365, 365, 364, 339]</td>\n",
       "      <td>murmur2</td>\n",
       "      <td>merged</td>\n",
       "      <td>20</td>\n",
       "    </tr>\n",
       "    <tr>\n",
       "      <th>3</th>\n",
       "      <td>16269666</td>\n",
       "      <td>[1367113336501006345, 1367948852897136640, 1367950548054511619, 1367651820777136132, 1367952369758126090, 1367686414779957249, 1367871976845545474, 1367684819640008707, 1367688458479755264, 1367948203560144898]</td>\n",
       "      <td>[518, 369, 367, 278, 262, 257, 252, 251, 247, 243]</td>\n",
       "      <td>murmur2</td>\n",
       "      <td>merged</td>\n",
       "      <td>20</td>\n",
       "    </tr>\n",
       "    <tr>\n",
       "      <th>4</th>\n",
       "      <td>18670512</td>\n",
       "      <td>[1361848466167767041, 1361072350175911936, 1362094145737687043, 1366815135306829826, 1359188622927396868, 1366383860108451843, 1362896764509057027, 1367556827441987589, 1360718142188769281, 1339422323816861696]</td>\n",
       "      <td>[428, 428, 377, 188, 182, 152, 132, 123, 111, 103]</td>\n",
       "      <td>murmur2</td>\n",
       "      <td>merged</td>\n",
       "      <td>20</td>\n",
       "    </tr>\n",
       "    <tr>\n",
       "      <th>...</th>\n",
       "      <td>...</td>\n",
       "      <td>...</td>\n",
       "      <td>...</td>\n",
       "      <td>...</td>\n",
       "      <td>...</td>\n",
       "      <td>...</td>\n",
       "    </tr>\n",
       "    <tr>\n",
       "      <th>495</th>\n",
       "      <td>1366665681098342400</td>\n",
       "      <td>[1366820271278055425, 1367154805735493632, 1367159893401112576, 1366672016040857600, 1366669539992248320, 1367084032886935555, 1367480826015932423, 1251483532653821953, 1364910421375770636, 1366671358927675392]</td>\n",
       "      <td>[2992, 1200, 958, 508, 315, 309, 271, 248, 233, 151]</td>\n",
       "      <td>StarSpace</td>\n",
       "      <td>merged</td>\n",
       "      <td>10</td>\n",
       "    </tr>\n",
       "    <tr>\n",
       "      <th>496</th>\n",
       "      <td>1367064419507789824</td>\n",
       "      <td>[1349031806260170753, 1366299897079554050, 1364778249415364610, 1021459341436628992, 1362594165784199171, 1367120144372269059, 1367444721958711299, 1366545783525310465, 1366176449644871689, 1363993310487076867]</td>\n",
       "      <td>[412, 376, 214, 175, 174, 172, 167, 159, 159, 155]</td>\n",
       "      <td>StarSpace</td>\n",
       "      <td>merged</td>\n",
       "      <td>10</td>\n",
       "    </tr>\n",
       "    <tr>\n",
       "      <th>497</th>\n",
       "      <td>1367426393445978117</td>\n",
       "      <td>[1367486022527971343, 1367579858763714561, 1365211821418958848, 1367557124805566464, 1367503410161999874, 1366985437240324096, 1366745636566138880, 1367194949201059843, 1367486358294568962, 1366892143810383879]</td>\n",
       "      <td>[582, 502, 426, 400, 386, 373, 359, 314, 313, 268]</td>\n",
       "      <td>StarSpace</td>\n",
       "      <td>merged</td>\n",
       "      <td>20</td>\n",
       "    </tr>\n",
       "    <tr>\n",
       "      <th>498</th>\n",
       "      <td>1367541139482550275</td>\n",
       "      <td>[1364747733471432707, 1366898429981458432, 1366473590477000704, 1365368942756130816, 1366822414726942728, 1365104406123843585, 1366753885201833986, 1364259886767345666, 1367192636860334085, 1366791655810945027]</td>\n",
       "      <td>[244, 212, 182, 182, 174, 166, 162, 139, 134, 107]</td>\n",
       "      <td>StarSpace</td>\n",
       "      <td>merged</td>\n",
       "      <td>10</td>\n",
       "    </tr>\n",
       "    <tr>\n",
       "      <th>499</th>\n",
       "      <td>1367856446910570509</td>\n",
       "      <td>[1359504833556799496, 1347890254116646912, 1367461936917405701, 1367429814072741894, 1365640593955639306, 1367156272210927617, 1365976333335990283, 1365625979440230400, 1367514131658469376, 1365923948190330882]</td>\n",
       "      <td>[1050, 822, 442, 388, 384, 376, 360, 341, 320, 302]</td>\n",
       "      <td>StarSpace</td>\n",
       "      <td>merged</td>\n",
       "      <td>20</td>\n",
       "    </tr>\n",
       "  </tbody>\n",
       "</table>\n",
       "<p>1000 rows × 6 columns</p>\n",
       "</div>"
      ],
      "text/plain": [
       "                    user  \\\n",
       "0                3512101   \n",
       "1               14298697   \n",
       "2               14486464   \n",
       "3               16269666   \n",
       "4               18670512   \n",
       "..                   ...   \n",
       "495  1366665681098342400   \n",
       "496  1367064419507789824   \n",
       "497  1367426393445978117   \n",
       "498  1367541139482550275   \n",
       "499  1367856446910570509   \n",
       "\n",
       "                                                                                                                                                                                                        recommendations  \\\n",
       "0    [1367566397207904268, 1367715017915850754, 1367151738520748039, 1367594210728144897, 1367226258388574211, 1367364251233497095, 1368304598872715264, 1368320547474472960, 1367583171412328448, 1367254064791244800]   \n",
       "1    [1367577598763622406, 1363317822609309699, 1367532875030102022, 1366617799498428418, 1366828952988311560, 1367525374079299587, 1366447585167167488, 1365129641263058947, 1367148992061181960, 1367520682419097612]   \n",
       "2    [1364258720805392387, 1362737662373867538, 1363860596941352975, 1367233611389431811, 1363485385402294272, 1363949714467475459, 1365186891943878656, 1364118553557831682, 1364189523148558344, 1365252695334993921]   \n",
       "3    [1367113336501006345, 1367948852897136640, 1367950548054511619, 1367651820777136132, 1367952369758126090, 1367686414779957249, 1367871976845545474, 1367684819640008707, 1367688458479755264, 1367948203560144898]   \n",
       "4    [1361848466167767041, 1361072350175911936, 1362094145737687043, 1366815135306829826, 1359188622927396868, 1366383860108451843, 1362896764509057027, 1367556827441987589, 1360718142188769281, 1339422323816861696]   \n",
       "..                                                                                                                                                                                                                  ...   \n",
       "495  [1366820271278055425, 1367154805735493632, 1367159893401112576, 1366672016040857600, 1366669539992248320, 1367084032886935555, 1367480826015932423, 1251483532653821953, 1364910421375770636, 1366671358927675392]   \n",
       "496  [1349031806260170753, 1366299897079554050, 1364778249415364610, 1021459341436628992, 1362594165784199171, 1367120144372269059, 1367444721958711299, 1366545783525310465, 1366176449644871689, 1363993310487076867]   \n",
       "497  [1367486022527971343, 1367579858763714561, 1365211821418958848, 1367557124805566464, 1367503410161999874, 1366985437240324096, 1366745636566138880, 1367194949201059843, 1367486358294568962, 1366892143810383879]   \n",
       "498  [1364747733471432707, 1366898429981458432, 1366473590477000704, 1365368942756130816, 1366822414726942728, 1365104406123843585, 1366753885201833986, 1364259886767345666, 1367192636860334085, 1366791655810945027]   \n",
       "499  [1359504833556799496, 1347890254116646912, 1367461936917405701, 1367429814072741894, 1365640593955639306, 1367156272210927617, 1365976333335990283, 1365625979440230400, 1367514131658469376, 1365923948190330882]   \n",
       "\n",
       "                                                     hits hash_function  \\\n",
       "0     [1439, 982, 967, 933, 850, 801, 709, 694, 621, 613]       murmur2   \n",
       "1      [360, 350, 315, 310, 286, 280, 241, 233, 231, 214]       murmur2   \n",
       "2     [1230, 830, 790, 768, 737, 406, 365, 365, 364, 339]       murmur2   \n",
       "3      [518, 369, 367, 278, 262, 257, 252, 251, 247, 243]       murmur2   \n",
       "4      [428, 428, 377, 188, 182, 152, 132, 123, 111, 103]       murmur2   \n",
       "..                                                    ...           ...   \n",
       "495  [2992, 1200, 958, 508, 315, 309, 271, 248, 233, 151]     StarSpace   \n",
       "496    [412, 376, 214, 175, 174, 172, 167, 159, 159, 155]     StarSpace   \n",
       "497    [582, 502, 426, 400, 386, 373, 359, 314, 313, 268]     StarSpace   \n",
       "498    [244, 212, 182, 182, 174, 166, 162, 139, 134, 107]     StarSpace   \n",
       "499   [1050, 822, 442, 388, 384, 376, 360, 341, 320, 302]     StarSpace   \n",
       "\n",
       "    partition  len_rec  \n",
       "0      merged       20  \n",
       "1      merged       10  \n",
       "2      merged       20  \n",
       "3      merged       20  \n",
       "4      merged       20  \n",
       "..        ...      ...  \n",
       "495    merged       10  \n",
       "496    merged       10  \n",
       "497    merged       20  \n",
       "498    merged       10  \n",
       "499    merged       20  \n",
       "\n",
       "[1000 rows x 6 columns]"
      ]
     },
     "execution_count": 52,
     "metadata": {},
     "output_type": "execute_result"
    }
   ],
   "source": [
    "# Merge partition results\n",
    "result_dfs = []\n",
    "for hash_func in hash_functions:\n",
    "    hash_func_rec_df = partitioned_recommendations_df[partitioned_recommendations_df[\"hash_function\"]==hash_func]\n",
    "    df = hash_func_rec_df.groupby(\"user\", as_index=False).agg({'recommendations': 'sum', 'hits': 'sum'})\n",
    "    df[\"hash_function\"] = hash_func\n",
    "    df[\"partition\"] = \"merged\"\n",
    "    df[\"len_rec\"] = df.apply(lambda x: len(x[\"recommendations\"]), axis=1)\n",
    "    pd.set_option('display.max_colwidth', None)\n",
    "    df[[\"recommendations\", \"hits\"]] = df.apply(lambda row: merge_sort_rec_hit(row), axis=1, result_type=\"expand\")\n",
    "#     df[df[\"len_rec\"]>10]\n",
    "    result_dfs.append(df)\n",
    "    del hash_func_rec_df\n",
    "\n",
    "merged_df = pd.concat(result_dfs)\n",
    "merged_df"
   ]
  },
  {
   "cell_type": "code",
   "execution_count": 53,
   "metadata": {},
   "outputs": [
    {
     "name": "stdout",
     "output_type": "stream",
     "text": [
      "calculating F1 Score for: murmur2 and partition 0\n",
      "0.047782258064516164\n",
      "calculating F1 Score for: StarSpace and partition 0\n",
      "0.09213709677419375\n",
      "calculating F1 Score for: murmur2 and partition 1\n",
      "0.043951612903225835\n",
      "calculating F1 Score for: StarSpace and partition 1\n",
      "0.04092741935483872\n"
     ]
    }
   ],
   "source": [
    "from collections import defaultdict\n",
    "from sklearn.metrics import f1_score\n",
    "\n",
    "results = []\n",
    "\n",
    "for partition, hash_function in configurations:\n",
    "    f1 = 0\n",
    "    print(f\"calculating F1 Score for: {hash_function} and partition {partition}\")\n",
    "    for i, uid in enumerate(user_ids):\n",
    "        actual = baseline_df[baseline_df[\"user\"]==uid][\"recommendations\"].values[0]\n",
    "        con = (\n",
    "            (partitioned_recommendations_df[\"user\"]==uid) & \n",
    "            (partitioned_recommendations_df[\"partition\"]==partition) &\n",
    "            (partitioned_recommendations_df[\"hash_function\"]==hash_function)\n",
    "        )\n",
    "        try:\n",
    "            predicted = partitioned_recommendations_df[con][\"recommendations\"].values[0]\n",
    "        except IndexError as error:\n",
    "            print(f\"user not found {uid}\")\n",
    "            continue\n",
    "        if len(predicted) == 0:\n",
    "            f1 += 0\n",
    "            continue\n",
    "        try:\n",
    "            f1 += f1_score(actual, predicted, average='micro')\n",
    "        except ValueError as er:\n",
    "            print(actual)\n",
    "            print(f\"predicted: {predicted}\")\n",
    "            print(f\"user: {uid}\")\n",
    "    print(f1/len(user_ids))"
   ]
  },
  {
   "cell_type": "code",
   "execution_count": 59,
   "metadata": {},
   "outputs": [],
   "source": [
    "def f1_for_single_partition(df):\n",
    "    f1=0\n",
    "    for i, uid in enumerate(user_ids):\n",
    "        actual = baseline_df[baseline_df[\"user\"]==uid][\"recommendations\"].values[0]\n",
    "        predicted = df[(df[\"user\"]==uid)][\"recommendations\"].values[0]\n",
    "        if len(predicted) == 0:\n",
    "            f1 += 0\n",
    "            continue\n",
    "        f1 += f1_score(actual, predicted, average='micro')\n",
    "    print(f1/len(user_ids))"
   ]
  },
  {
   "cell_type": "code",
   "execution_count": 60,
   "metadata": {},
   "outputs": [
    {
     "name": "stdout",
     "output_type": "stream",
     "text": [
      "0.19475806451612881\n"
     ]
    }
   ],
   "source": [
    "f1_for_single_partition(sigle_partition_recommendations)"
   ]
  },
  {
   "cell_type": "code",
   "execution_count": 62,
   "metadata": {},
   "outputs": [
    {
     "name": "stdout",
     "output_type": "stream",
     "text": [
      "0.10826612903225832\n"
     ]
    }
   ],
   "source": [
    "f1_for_single_partition(merged_df[merged_df[\"hash_function\"] == \"StarSpace\"])"
   ]
  },
  {
   "cell_type": "code",
   "execution_count": 63,
   "metadata": {},
   "outputs": [
    {
     "name": "stdout",
     "output_type": "stream",
     "text": [
      "0.08165322580645183\n"
     ]
    }
   ],
   "source": [
    "f1_for_single_partition(merged_df[merged_df[\"hash_function\"] == \"murmur2\"])"
   ]
  },
  {
   "cell_type": "code",
   "execution_count": null,
   "metadata": {},
   "outputs": [],
   "source": []
  }
 ],
 "metadata": {
  "kernelspec": {
   "display_name": "Python 3",
   "language": "python",
   "name": "python3"
  },
  "language_info": {
   "codemirror_mode": {
    "name": "ipython",
    "version": 3
   },
   "file_extension": ".py",
   "mimetype": "text/x-python",
   "name": "python",
   "nbconvert_exporter": "python",
   "pygments_lexer": "ipython3",
   "version": "3.8.5"
  }
 },
 "nbformat": 4,
 "nbformat_minor": 4
}
