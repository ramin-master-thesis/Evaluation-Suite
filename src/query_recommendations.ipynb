{
 "cells": [
  {
   "cell_type": "code",
   "execution_count": 1,
   "metadata": {},
   "outputs": [],
   "source": [
    "import itertools as it\n",
    "from timeit import default_timer as timer\n",
    "\n",
    "import pandas as pd\n",
    "import requests as rq\n",
    "from IPython.display import display\n"
   ]
  },
  {
   "cell_type": "code",
   "execution_count": 8,
   "metadata": {
    "tags": [
     "parameters"
    ]
   },
   "outputs": [],
   "source": [
    "# Parameters\n",
    "users = \"../data/users.json\"\n",
    "host = \"localhost\"\n",
    "\n",
    "hash_function = \"murmur2\"\n",
    "partition_port = {\"0\": \"5001\", \"1\": \"5002\"}\n",
    "\n",
    "repeat_for_user = 10\n",
    "\n",
    "limits = [10]\n",
    "walks = [1000]\n",
    "walk_length = [100]\n",
    "\n",
    "should_repeat_for_user = True\n",
    "\n",
    "\n",
    "union_results = True\n",
    "highest_hit = True\n",
    "most_interactions = True\n",
    "\n",
    "\n",
    "output_latency = f\"../output/{hash_function}_latency.csv\"\n",
    "output_recommendations = f\"../data/{hash_function}_recommendations.json\"\n",
    "output_union_results = f\"../data/{hash_function}_union_results.json\"\n",
    "output_highest_hit = f\"../data/{hash_function}_highest_hit.json\"\n",
    "output_most_interactions = f\"../data/{hash_function}_most_interactions.json\""
   ]
  },
  {
   "cell_type": "code",
   "execution_count": 9,
   "metadata": {},
   "outputs": [
    {
     "data": {
      "text/plain": "[('murmur2', ('0', '5001'), 1000, 100, 10),\n ('murmur2', ('1', '5002'), 1000, 100, 10)]"
     },
     "execution_count": 9,
     "metadata": {},
     "output_type": "execute_result"
    }
   ],
   "source": [
    "# Import users\n",
    "user_df = pd.read_json(users, orient=\"table\")\n",
    "\n",
    "# Compute cross product of all configuration values\n",
    "configurations = list(it.product([hash_function], partition_port.items(), walks, walk_length, limits))\n",
    "configurations\n"
   ]
  },
  {
   "cell_type": "code",
   "execution_count": 10,
   "metadata": {},
   "outputs": [],
   "source": [
    "def get_recommendations(user_df, walks, walk_length, limit, partition_port):\n",
    "    rows = []\n",
    "    partition = partition_port[0]\n",
    "    port = partition_port[1]\n",
    "    print(f\"gathering recommendations from port: {port} and partition {partition} hash_function: {hash_function}\")\n",
    "\n",
    "    for i, row in user_df.iterrows():\n",
    "        user = row[\"user_id\"]\n",
    "        url = f\"http://{host}:{port}/recommendation/salsa/{user}?walks={walks}&walk_length={walk_length}&limit={limit}\"\n",
    "        response = rq.get(url)\n",
    "        counter = 0\n",
    "        while response.status_code != 200 and counter != 9:\n",
    "            print(f\"Got response code {response.status_code} trying again {counter + 1}/10...\")\n",
    "            response = rq.get(url)\n",
    "            counter += 1\n",
    "\n",
    "        response_body = response.json() if response.status_code == 200 else []\n",
    "        recommendations = [res['id'] for res in response_body]\n",
    "        hits = [res['hit'] for res in response_body]\n",
    "        rows.append((hash_function, partition, user, recommendations, hits))\n",
    "\n",
    "    return pd.DataFrame(rows, columns=[\"hash_function\", \"partition\", \"user\", \"recommendations\", \"hits\"])"
   ]
  },
  {
   "cell_type": "code",
   "execution_count": 11,
   "metadata": {},
   "outputs": [
    {
     "name": "stdout",
     "output_type": "stream",
     "text": [
      "gathering recommendations from port: 5001 and partition 0 hash_function: murmur2\n",
      "gathering recommendations from port: 5002 and partition 1 hash_function: murmur2\n"
     ]
    },
    {
     "ename": "KeyboardInterrupt",
     "evalue": "",
     "output_type": "error",
     "traceback": [
      "\u001B[0;31m---------------------------------------------------------------------------\u001B[0m",
      "\u001B[0;31mKeyboardInterrupt\u001B[0m                         Traceback (most recent call last)",
      "\u001B[0;32m<ipython-input-11-673bdf0b6a7d>\u001B[0m in \u001B[0;36m<module>\u001B[0;34m\u001B[0m\n\u001B[1;32m     14\u001B[0m \u001B[0;34m\u001B[0m\u001B[0m\n\u001B[1;32m     15\u001B[0m \u001B[0mlatency_df\u001B[0m \u001B[0;34m=\u001B[0m \u001B[0mpd\u001B[0m\u001B[0;34m.\u001B[0m\u001B[0mDataFrame\u001B[0m\u001B[0;34m(\u001B[0m\u001B[0mlatency_rows\u001B[0m\u001B[0;34m,\u001B[0m \u001B[0mcolumns\u001B[0m\u001B[0;34m=\u001B[0m\u001B[0;34m[\u001B[0m\u001B[0;34m\"hash_function\"\u001B[0m\u001B[0;34m,\u001B[0m \u001B[0;34m\"partition\"\u001B[0m\u001B[0;34m,\u001B[0m \u001B[0;34m\"latency\"\u001B[0m\u001B[0;34m]\u001B[0m\u001B[0;34m)\u001B[0m\u001B[0;34m\u001B[0m\u001B[0;34m\u001B[0m\u001B[0m\n\u001B[0;32m---> 16\u001B[0;31m \u001B[0mresult_df\u001B[0m \u001B[0;34m=\u001B[0m \u001B[0mpd\u001B[0m\u001B[0;34m.\u001B[0m\u001B[0mconcat\u001B[0m\u001B[0;34m(\u001B[0m\u001B[0mresult_dfs\u001B[0m\u001B[0;34m)\u001B[0m\u001B[0;34m\u001B[0m\u001B[0;34m\u001B[0m\u001B[0m\n\u001B[0m\u001B[1;32m     17\u001B[0m \u001B[0mdisplay\u001B[0m\u001B[0;34m(\u001B[0m\u001B[0mresult_df\u001B[0m\u001B[0;34m[\u001B[0m\u001B[0;34m[\u001B[0m\u001B[0;34m\"user\"\u001B[0m\u001B[0;34m,\u001B[0m \u001B[0;34m\"recommendations\"\u001B[0m\u001B[0;34m,\u001B[0m \u001B[0;34m\"hits\"\u001B[0m\u001B[0;34m,\u001B[0m \u001B[0;34m\"partition\"\u001B[0m\u001B[0;34m]\u001B[0m\u001B[0;34m]\u001B[0m\u001B[0;34m)\u001B[0m\u001B[0;34m\u001B[0m\u001B[0;34m\u001B[0m\u001B[0m\n\u001B[1;32m     18\u001B[0m \u001B[0mresult_df\u001B[0m\u001B[0;34m.\u001B[0m\u001B[0mto_json\u001B[0m\u001B[0;34m(\u001B[0m\u001B[0moutput_recommendations\u001B[0m\u001B[0;34m,\u001B[0m \u001B[0mindex\u001B[0m\u001B[0;34m=\u001B[0m\u001B[0;32mFalse\u001B[0m\u001B[0;34m,\u001B[0m \u001B[0morient\u001B[0m\u001B[0;34m=\u001B[0m\u001B[0;34m\"table\"\u001B[0m\u001B[0;34m)\u001B[0m\u001B[0;34m\u001B[0m\u001B[0;34m\u001B[0m\u001B[0m\n",
      "\u001B[0;32m<ipython-input-11-673bdf0b6a7d>\u001B[0m in \u001B[0;36m<module>\u001B[0;34m\u001B[0m\n\u001B[1;32m     14\u001B[0m \u001B[0;34m\u001B[0m\u001B[0m\n\u001B[1;32m     15\u001B[0m \u001B[0mlatency_df\u001B[0m \u001B[0;34m=\u001B[0m \u001B[0mpd\u001B[0m\u001B[0;34m.\u001B[0m\u001B[0mDataFrame\u001B[0m\u001B[0;34m(\u001B[0m\u001B[0mlatency_rows\u001B[0m\u001B[0;34m,\u001B[0m \u001B[0mcolumns\u001B[0m\u001B[0;34m=\u001B[0m\u001B[0;34m[\u001B[0m\u001B[0;34m\"hash_function\"\u001B[0m\u001B[0;34m,\u001B[0m \u001B[0;34m\"partition\"\u001B[0m\u001B[0;34m,\u001B[0m \u001B[0;34m\"latency\"\u001B[0m\u001B[0;34m]\u001B[0m\u001B[0;34m)\u001B[0m\u001B[0;34m\u001B[0m\u001B[0;34m\u001B[0m\u001B[0m\n\u001B[0;32m---> 16\u001B[0;31m \u001B[0mresult_df\u001B[0m \u001B[0;34m=\u001B[0m \u001B[0mpd\u001B[0m\u001B[0;34m.\u001B[0m\u001B[0mconcat\u001B[0m\u001B[0;34m(\u001B[0m\u001B[0mresult_dfs\u001B[0m\u001B[0;34m)\u001B[0m\u001B[0;34m\u001B[0m\u001B[0;34m\u001B[0m\u001B[0m\n\u001B[0m\u001B[1;32m     17\u001B[0m \u001B[0mdisplay\u001B[0m\u001B[0;34m(\u001B[0m\u001B[0mresult_df\u001B[0m\u001B[0;34m[\u001B[0m\u001B[0;34m[\u001B[0m\u001B[0;34m\"user\"\u001B[0m\u001B[0;34m,\u001B[0m \u001B[0;34m\"recommendations\"\u001B[0m\u001B[0;34m,\u001B[0m \u001B[0;34m\"hits\"\u001B[0m\u001B[0;34m,\u001B[0m \u001B[0;34m\"partition\"\u001B[0m\u001B[0;34m]\u001B[0m\u001B[0;34m]\u001B[0m\u001B[0;34m)\u001B[0m\u001B[0;34m\u001B[0m\u001B[0;34m\u001B[0m\u001B[0m\n\u001B[1;32m     18\u001B[0m \u001B[0mresult_df\u001B[0m\u001B[0;34m.\u001B[0m\u001B[0mto_json\u001B[0m\u001B[0;34m(\u001B[0m\u001B[0moutput_recommendations\u001B[0m\u001B[0;34m,\u001B[0m \u001B[0mindex\u001B[0m\u001B[0;34m=\u001B[0m\u001B[0;32mFalse\u001B[0m\u001B[0;34m,\u001B[0m \u001B[0morient\u001B[0m\u001B[0;34m=\u001B[0m\u001B[0;34m\"table\"\u001B[0m\u001B[0;34m)\u001B[0m\u001B[0;34m\u001B[0m\u001B[0;34m\u001B[0m\u001B[0m\n",
      "\u001B[0;32m~/.local/share/JetBrains/Toolbox/apps/PyCharm-P/ch-0/211.7142.13/plugins/python/helpers/pydev/_pydevd_bundle/pydevd_frame.py\u001B[0m in \u001B[0;36mtrace_dispatch\u001B[0;34m(self, frame, event, arg)\u001B[0m\n\u001B[1;32m    878\u001B[0m \u001B[0;34m\u001B[0m\u001B[0m\n\u001B[1;32m    879\u001B[0m                 \u001B[0;32mif\u001B[0m \u001B[0mplugin_stop\u001B[0m\u001B[0;34m:\u001B[0m\u001B[0;34m\u001B[0m\u001B[0;34m\u001B[0m\u001B[0m\n\u001B[0;32m--> 880\u001B[0;31m                     \u001B[0mstopped_on_plugin\u001B[0m \u001B[0;34m=\u001B[0m \u001B[0mplugin_manager\u001B[0m\u001B[0;34m.\u001B[0m\u001B[0mstop\u001B[0m\u001B[0;34m(\u001B[0m\u001B[0mmain_debugger\u001B[0m\u001B[0;34m,\u001B[0m \u001B[0mframe\u001B[0m\u001B[0;34m,\u001B[0m \u001B[0mevent\u001B[0m\u001B[0;34m,\u001B[0m \u001B[0mself\u001B[0m\u001B[0;34m.\u001B[0m\u001B[0m_args\u001B[0m\u001B[0;34m,\u001B[0m \u001B[0mstop_info\u001B[0m\u001B[0;34m,\u001B[0m \u001B[0marg\u001B[0m\u001B[0;34m,\u001B[0m \u001B[0mstep_cmd\u001B[0m\u001B[0;34m)\u001B[0m\u001B[0;34m\u001B[0m\u001B[0;34m\u001B[0m\u001B[0m\n\u001B[0m\u001B[1;32m    881\u001B[0m                 \u001B[0;32melif\u001B[0m \u001B[0mstop\u001B[0m\u001B[0;34m:\u001B[0m\u001B[0;34m\u001B[0m\u001B[0;34m\u001B[0m\u001B[0m\n\u001B[1;32m    882\u001B[0m                     \u001B[0;32mif\u001B[0m \u001B[0mis_line\u001B[0m\u001B[0;34m:\u001B[0m\u001B[0;34m\u001B[0m\u001B[0;34m\u001B[0m\u001B[0m\n",
      "\u001B[0;32m~/.local/share/JetBrains/Toolbox/apps/PyCharm-P/ch-0/211.7142.13/plugins/python/helpers-pro/jupyter_debug/pydev_jupyter_plugin.py\u001B[0m in \u001B[0;36mstop\u001B[0;34m(plugin, pydb, frame, event, args, stop_info, arg, step_cmd)\u001B[0m\n\u001B[1;32m    163\u001B[0m         \u001B[0mframe\u001B[0m \u001B[0;34m=\u001B[0m \u001B[0msuspend_jupyter\u001B[0m\u001B[0;34m(\u001B[0m\u001B[0mmain_debugger\u001B[0m\u001B[0;34m,\u001B[0m \u001B[0mthread\u001B[0m\u001B[0;34m,\u001B[0m \u001B[0mframe\u001B[0m\u001B[0;34m,\u001B[0m \u001B[0mstep_cmd\u001B[0m\u001B[0;34m)\u001B[0m\u001B[0;34m\u001B[0m\u001B[0;34m\u001B[0m\u001B[0m\n\u001B[1;32m    164\u001B[0m         \u001B[0;32mif\u001B[0m \u001B[0mframe\u001B[0m\u001B[0;34m:\u001B[0m\u001B[0;34m\u001B[0m\u001B[0;34m\u001B[0m\u001B[0m\n\u001B[0;32m--> 165\u001B[0;31m             \u001B[0mmain_debugger\u001B[0m\u001B[0;34m.\u001B[0m\u001B[0mdo_wait_suspend\u001B[0m\u001B[0;34m(\u001B[0m\u001B[0mthread\u001B[0m\u001B[0;34m,\u001B[0m \u001B[0mframe\u001B[0m\u001B[0;34m,\u001B[0m \u001B[0mevent\u001B[0m\u001B[0;34m,\u001B[0m \u001B[0marg\u001B[0m\u001B[0;34m)\u001B[0m\u001B[0;34m\u001B[0m\u001B[0;34m\u001B[0m\u001B[0m\n\u001B[0m\u001B[1;32m    166\u001B[0m             \u001B[0;32mreturn\u001B[0m \u001B[0;32mTrue\u001B[0m\u001B[0;34m\u001B[0m\u001B[0;34m\u001B[0m\u001B[0m\n\u001B[1;32m    167\u001B[0m     \u001B[0;32mreturn\u001B[0m \u001B[0;32mFalse\u001B[0m\u001B[0;34m\u001B[0m\u001B[0;34m\u001B[0m\u001B[0m\n",
      "\u001B[0;32m~/.local/share/JetBrains/Toolbox/apps/PyCharm-P/ch-0/211.7142.13/plugins/python/helpers/pydev/pydevd.py\u001B[0m in \u001B[0;36mdo_wait_suspend\u001B[0;34m(self, thread, frame, event, arg, send_suspend_message, is_unhandled_exception)\u001B[0m\n\u001B[1;32m   1145\u001B[0m \u001B[0;34m\u001B[0m\u001B[0m\n\u001B[1;32m   1146\u001B[0m         \u001B[0;32mwith\u001B[0m \u001B[0mself\u001B[0m\u001B[0;34m.\u001B[0m\u001B[0m_threads_suspended_single_notification\u001B[0m\u001B[0;34m.\u001B[0m\u001B[0mnotify_thread_suspended\u001B[0m\u001B[0;34m(\u001B[0m\u001B[0mthread_id\u001B[0m\u001B[0;34m,\u001B[0m \u001B[0mstop_reason\u001B[0m\u001B[0;34m)\u001B[0m\u001B[0;34m:\u001B[0m\u001B[0;34m\u001B[0m\u001B[0;34m\u001B[0m\u001B[0m\n\u001B[0;32m-> 1147\u001B[0;31m             \u001B[0mself\u001B[0m\u001B[0;34m.\u001B[0m\u001B[0m_do_wait_suspend\u001B[0m\u001B[0;34m(\u001B[0m\u001B[0mthread\u001B[0m\u001B[0;34m,\u001B[0m \u001B[0mframe\u001B[0m\u001B[0;34m,\u001B[0m \u001B[0mevent\u001B[0m\u001B[0;34m,\u001B[0m \u001B[0marg\u001B[0m\u001B[0;34m,\u001B[0m \u001B[0msuspend_type\u001B[0m\u001B[0;34m,\u001B[0m \u001B[0mfrom_this_thread\u001B[0m\u001B[0;34m)\u001B[0m\u001B[0;34m\u001B[0m\u001B[0;34m\u001B[0m\u001B[0m\n\u001B[0m\u001B[1;32m   1148\u001B[0m \u001B[0;34m\u001B[0m\u001B[0m\n\u001B[1;32m   1149\u001B[0m     \u001B[0;32mdef\u001B[0m \u001B[0m_do_wait_suspend\u001B[0m\u001B[0;34m(\u001B[0m\u001B[0mself\u001B[0m\u001B[0;34m,\u001B[0m \u001B[0mthread\u001B[0m\u001B[0;34m,\u001B[0m \u001B[0mframe\u001B[0m\u001B[0;34m,\u001B[0m \u001B[0mevent\u001B[0m\u001B[0;34m,\u001B[0m \u001B[0marg\u001B[0m\u001B[0;34m,\u001B[0m \u001B[0msuspend_type\u001B[0m\u001B[0;34m,\u001B[0m \u001B[0mfrom_this_thread\u001B[0m\u001B[0;34m)\u001B[0m\u001B[0;34m:\u001B[0m\u001B[0;34m\u001B[0m\u001B[0;34m\u001B[0m\u001B[0m\n",
      "\u001B[0;32m~/.local/share/JetBrains/Toolbox/apps/PyCharm-P/ch-0/211.7142.13/plugins/python/helpers/pydev/pydevd.py\u001B[0m in \u001B[0;36m_do_wait_suspend\u001B[0;34m(self, thread, frame, event, arg, suspend_type, from_this_thread)\u001B[0m\n\u001B[1;32m   1160\u001B[0m \u001B[0;34m\u001B[0m\u001B[0m\n\u001B[1;32m   1161\u001B[0m                 \u001B[0mself\u001B[0m\u001B[0;34m.\u001B[0m\u001B[0mprocess_internal_commands\u001B[0m\u001B[0;34m(\u001B[0m\u001B[0;34m)\u001B[0m\u001B[0;34m\u001B[0m\u001B[0;34m\u001B[0m\u001B[0m\n\u001B[0;32m-> 1162\u001B[0;31m                 \u001B[0mtime\u001B[0m\u001B[0;34m.\u001B[0m\u001B[0msleep\u001B[0m\u001B[0;34m(\u001B[0m\u001B[0;36m0.01\u001B[0m\u001B[0;34m)\u001B[0m\u001B[0;34m\u001B[0m\u001B[0;34m\u001B[0m\u001B[0m\n\u001B[0m\u001B[1;32m   1163\u001B[0m \u001B[0;34m\u001B[0m\u001B[0m\n\u001B[1;32m   1164\u001B[0m         \u001B[0mself\u001B[0m\u001B[0;34m.\u001B[0m\u001B[0mcancel_async_evaluation\u001B[0m\u001B[0;34m(\u001B[0m\u001B[0mget_current_thread_id\u001B[0m\u001B[0;34m(\u001B[0m\u001B[0mthread\u001B[0m\u001B[0;34m)\u001B[0m\u001B[0;34m,\u001B[0m \u001B[0mstr\u001B[0m\u001B[0;34m(\u001B[0m\u001B[0mid\u001B[0m\u001B[0;34m(\u001B[0m\u001B[0mframe\u001B[0m\u001B[0;34m)\u001B[0m\u001B[0;34m)\u001B[0m\u001B[0;34m)\u001B[0m\u001B[0;34m\u001B[0m\u001B[0;34m\u001B[0m\u001B[0m\n",
      "\u001B[0;31mKeyboardInterrupt\u001B[0m: "
     ]
    }
   ],
   "source": [
    "# Perform API requests\n",
    "result_dfs = []\n",
    "latency_rows = []\n",
    "\n",
    "for (hash_function, partition_port, walks, walk_length, limit) in configurations:\n",
    "    start = timer()\n",
    "    result = get_recommendations(user_df, walks, walk_length, limit, partition_port)\n",
    "    end = timer()\n",
    "    partition_number = partition_port[0]\n",
    "    latency = end - start\n",
    "    latency_rows.append((hash_function, partition_number, \"recommendation fetch\",latency))\n",
    "    result_dfs.append(result)\n",
    "\n",
    "\n",
    "result_df = pd.concat(result_dfs)\n",
    "display(result_df[[\"user\", \"recommendations\", \"hits\", \"partition\"]])\n",
    "result_df.to_json(output_recommendations, index=False, orient=\"table\")"
   ]
  },
  {
   "cell_type": "code",
   "execution_count": null,
   "metadata": {},
   "outputs": [],
   "source": [
    "def merge_sort_rec_hit(row):\n",
    "    if row[\"len_rec\"] == 10:\n",
    "        return row[\"recommendations\"], row[\"hits\"]\n",
    "    rec_hit_dic = dict(zip(row[\"recommendations\"], row[\"hits\"]))\n",
    "    sorted_by_hits = dict(sorted(rec_hit_dic.items(), key=lambda item: item[1], reverse=True))\n",
    "    rec_hit_dic = dict(list(sorted_by_hits.items())[:10])\n",
    "    return list(rec_hit_dic.keys()), list(rec_hit_dic.values())"
   ]
  },
  {
   "cell_type": "code",
   "execution_count": null,
   "metadata": {
    "pycharm": {
     "name": "#%%\n"
    }
   },
   "outputs": [],
   "source": [
    "# Merge partition results\n",
    "if union_results:\n",
    "    start = timer()\n",
    "    merge_df = result_df.groupby(\"user\", as_index=False).agg({'recommendations': 'sum', 'hits': 'sum'})\n",
    "    merge_df[\"hash_function\"] = hash_function\n",
    "    merge_df[\"partition\"] = \"union results\"\n",
    "    merge_df[\"len_rec\"] = merge_df.apply(lambda x: len(x[\"recommendations\"]), axis=1)\n",
    "    pd.set_option('display.max_colwidth', None)\n",
    "    merge_df[[\"recommendations\", \"hits\"]] = merge_df.apply(lambda row: merge_sort_rec_hit(row), axis=1,\n",
    "                                                           result_type=\"expand\")\n",
    "\n",
    "    end = timer()\n",
    "    latency = end - start\n",
    "    latency_rows.append((hash_function, -1, \"highest hit\", latency))\n",
    "    # Save results\n",
    "    merge_df.to_json(output_union_results, index=False, orient=\"table\")"
   ]
  },
  {
   "cell_type": "code",
   "execution_count": null,
   "outputs": [],
   "source": [
    "if highest_hit:\n",
    "    start = timer()\n",
    "    res = []\n",
    "    for group_name, df_group in result_df.groupby(\"user\"):\n",
    "        highest_hit_count = 0\n",
    "        partition_to_take = 0\n",
    "        for _, row in df_group.iterrows():\n",
    "            if len(row[\"hits\"]) == 0:\n",
    "                continue\n",
    "            hit = row[\"hits\"][0]\n",
    "            if hit > highest_hit_count:\n",
    "                highest_hit_count = hit\n",
    "                partition_to_take = row[\"partition\"]\n",
    "        result = df_group[df_group[\"partition\"] == partition_to_take]\n",
    "        res.append(df_group[df_group[\"partition\"] == partition_to_take])\n",
    "\n",
    "    best_partition_df = pd.concat(res, ignore_index=True)\n",
    "    best_partition_df[\"partition\"] = \"highest hit\"\n",
    "    end = timer()\n",
    "    latency = end - start\n",
    "    latency_rows.append((hash_function, -1, \"highest hit\", latency))\n",
    "    best_partition_df.to_json(output_highest_hit, index=False, orient=\"table\")\n"
   ],
   "metadata": {
    "collapsed": false,
    "pycharm": {
     "name": "#%%\n"
    }
   }
  },
  {
   "cell_type": "code",
   "execution_count": null,
   "outputs": [],
   "source": [
    "def get_degree(user_df, port):\n",
    "    degrees = []\n",
    "    for i, row in user_df.iterrows():\n",
    "        user = row[\"user_id\"]\n",
    "        url = f\"http://{host}:{port}/status/degree/left-index/{user}\"\n",
    "        response = rq.get(url)\n",
    "        counter = 0\n",
    "        while response.status_code != 200 and counter != 9:\n",
    "            print(f\"Got response code {response.status_code} trying again {counter + 1}/10...\")\n",
    "            response = rq.get(url)\n",
    "            counter += 1\n",
    "        degree = response.json() if response.status_code == 200 else 0\n",
    "        degrees.append(degree)\n",
    "    return degrees"
   ],
   "metadata": {
    "collapsed": false,
    "pycharm": {
     "name": "#%%\n"
    }
   }
  },
  {
   "cell_type": "code",
   "execution_count": 12,
   "outputs": [
    {
     "ename": "NameError",
     "evalue": "name 'user_df' is not defined",
     "output_type": "error",
     "traceback": [
      "\u001B[0;31m---------------------------------------------------------------------------\u001B[0m",
      "\u001B[0;31mNameError\u001B[0m                                 Traceback (most recent call last)",
      "\u001B[0;32m<ipython-input-12-11887a757f97>\u001B[0m in \u001B[0;36m<module>\u001B[0;34m\u001B[0m\n\u001B[1;32m      2\u001B[0m     \u001B[0mdegrees\u001B[0m \u001B[0;34m=\u001B[0m \u001B[0;34m[\u001B[0m\u001B[0;34m]\u001B[0m\u001B[0;34m\u001B[0m\u001B[0;34m\u001B[0m\u001B[0m\n\u001B[1;32m      3\u001B[0m     \u001B[0;32mfor\u001B[0m \u001B[0mpartition\u001B[0m \u001B[0;32min\u001B[0m \u001B[0mpartition_port\u001B[0m\u001B[0;34m.\u001B[0m\u001B[0mkeys\u001B[0m\u001B[0;34m(\u001B[0m\u001B[0;34m)\u001B[0m\u001B[0;34m:\u001B[0m\u001B[0;34m\u001B[0m\u001B[0;34m\u001B[0m\u001B[0m\n\u001B[0;32m----> 4\u001B[0;31m         \u001B[0mdegrees\u001B[0m \u001B[0;34m=\u001B[0m \u001B[0mget_degree\u001B[0m\u001B[0;34m(\u001B[0m\u001B[0muser_df\u001B[0m\u001B[0;34m,\u001B[0m \u001B[0mpartition_port\u001B[0m\u001B[0;34m[\u001B[0m\u001B[0mpartition\u001B[0m\u001B[0;34m]\u001B[0m\u001B[0;34m)\u001B[0m\u001B[0;34m\u001B[0m\u001B[0;34m\u001B[0m\u001B[0m\n\u001B[0m\u001B[1;32m      5\u001B[0m     \u001B[0mresult_df\u001B[0m\u001B[0;34m[\u001B[0m\u001B[0;34m\"degree\"\u001B[0m\u001B[0;34m]\u001B[0m \u001B[0;34m=\u001B[0m \u001B[0mdegrees\u001B[0m\u001B[0;34m\u001B[0m\u001B[0;34m\u001B[0m\u001B[0m\n\u001B[1;32m      6\u001B[0m     \u001B[0mresult_df\u001B[0m\u001B[0;34m.\u001B[0m\u001B[0mto_json\u001B[0m\u001B[0;34m(\u001B[0m\u001B[0moutput_recommendations\u001B[0m\u001B[0;34m,\u001B[0m \u001B[0mindex\u001B[0m\u001B[0;34m=\u001B[0m\u001B[0;32mFalse\u001B[0m\u001B[0;34m,\u001B[0m \u001B[0morient\u001B[0m\u001B[0;34m=\u001B[0m\u001B[0;34m\"table\"\u001B[0m\u001B[0;34m)\u001B[0m\u001B[0;34m\u001B[0m\u001B[0;34m\u001B[0m\u001B[0m\n",
      "\u001B[0;31mNameError\u001B[0m: name 'user_df' is not defined"
     ]
    }
   ],
   "source": [
    "if most_interactions:\n",
    "    start = timer()\n",
    "    degrees = []\n",
    "    for (hash_function, partition_port, walks, walk_length, limit) in configurations:\n",
    "        degrees.extend(get_degree(user_df, partition_port[1]))\n",
    "    result_df[\"degree\"] = degrees\n",
    "    result_df.to_json(output_recommendations, index=False, orient=\"table\")\n",
    "    res = []\n",
    "    for group_name, df_group in result_df.groupby(\"user\"):\n",
    "        highest_degree = 0\n",
    "        partition_to_take = 0\n",
    "        for _, row in df_group.iterrows():\n",
    "            if row[\"degree\"] == 0:\n",
    "                continue\n",
    "            degree = row[\"degree\"]\n",
    "            if degree > highest_degree:\n",
    "                highest_degree = degree\n",
    "                partition_to_take = row[\"partition\"]\n",
    "        result = df_group[df_group[\"partition\"] == partition_to_take]\n",
    "        res.append(df_group[df_group[\"partition\"] == partition_to_take])\n",
    "\n",
    "    best_partition_df = pd.concat(res, ignore_index=True)\n",
    "    best_partition_df[\"partition\"] = \"most interactions\"\n",
    "    end = timer()\n",
    "    latency = end - start\n",
    "    latency_rows.append((hash_function, -1, \"most interactions\", latency))\n",
    "    best_partition_df.to_json(output_most_interactions, index=False, orient=\"table\")\n"
   ],
   "metadata": {
    "collapsed": false,
    "pycharm": {
     "name": "#%%\n"
    }
   }
  },
  {
   "cell_type": "code",
   "execution_count": null,
   "outputs": [],
   "source": [
    "latency_df = pd.DataFrame(latency_rows, columns=[\"hash_function\", \"partition\", \"functionality\" ,\"latency\"])\n",
    "\n",
    "latency_df.to_csv(output_latency, index=False)\n"
   ],
   "metadata": {
    "collapsed": false,
    "pycharm": {
     "name": "#%%\n"
    }
   }
  }
 ],
 "metadata": {
  "celltoolbar": "Tags",
  "kernelspec": {
   "display_name": "Python 3",
   "language": "python",
   "name": "python3"
  },
  "language_info": {
   "codemirror_mode": {
    "name": "ipython",
    "version": 3
   },
   "file_extension": ".py",
   "mimetype": "text/x-python",
   "name": "python",
   "nbconvert_exporter": "python",
   "pygments_lexer": "ipython3",
   "version": "3.8.5"
  }
 },
 "nbformat": 4,
 "nbformat_minor": 4
}