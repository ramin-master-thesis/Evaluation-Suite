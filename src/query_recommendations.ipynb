{
 "cells": [
  {
   "cell_type": "code",
   "execution_count": 60,
   "metadata": {},
   "outputs": [],
   "source": [
    "import itertools as it\n",
    "import time\n",
    "from concurrent import futures\n",
    "from timeit import default_timer as timer\n",
    "\n",
    "import pandas as pd\n",
    "import requests as rq\n",
    "from IPython.display import display\n"
   ]
  },
  {
   "cell_type": "code",
   "execution_count": 61,
   "metadata": {
    "tags": [
     "parameters"
    ]
   },
   "outputs": [],
   "source": [
    "# Parameters\n",
    "users = \"../data/users.json\"\n",
    "host = \"localhost\"\n",
    "\n",
    "hash_function = \"murmur2\"\n",
    "partition_port = {\"0\": \"5001\", \"1\": \"5002\"}\n",
    "\n",
    "repeat_for_user = 10\n",
    "\n",
    "limits = [10]\n",
    "walks = [1000]\n",
    "walk_length = [100]\n",
    "\n",
    "should_repeat_for_user = True\n",
    "\n",
    "union_results = True\n",
    "highest_hit = True\n",
    "most_interactions = True\n",
    "\n",
    "output_latency = f\"../output/{hash_function}_latency.csv\"\n",
    "output_recommendations = f\"../data/{hash_function}_recommendations.json\"\n",
    "output_union_results = f\"../data/{hash_function}_union_results.json\"\n",
    "output_highest_hit = f\"../data/{hash_function}_highest_hit.json\"\n",
    "output_most_interactions = f\"../data/{hash_function}_most_interactions.json\""
   ]
  },
  {
   "cell_type": "code",
   "execution_count": 62,
   "metadata": {},
   "outputs": [
    {
     "data": {
      "text/plain": "[('murmur2', ('0', '5001'), 1000, 100, 10),\n ('murmur2', ('1', '5002'), 1000, 100, 10)]"
     },
     "execution_count": 62,
     "metadata": {},
     "output_type": "execute_result"
    }
   ],
   "source": [
    "# Import users\n",
    "user_df = pd.read_json(users, orient=\"table\")\n",
    "\n",
    "# Compute cross product of all configuration values\n",
    "configurations = list(it.product([hash_function], partition_port.items(), walks, walk_length, limits))\n",
    "configurations\n"
   ]
  },
  {
   "cell_type": "code",
   "execution_count": 63,
   "metadata": {},
   "outputs": [],
   "source": [
    "def get_recommendations(user_df, walks, walk_length, limit, partition_port):\n",
    "    rows = []\n",
    "    partition = partition_port[0]\n",
    "    port = partition_port[1]\n",
    "    print(f\"gathering recommendations from port: {port} and partition {partition} hash_function: {hash_function}\")\n",
    "\n",
    "    for i, row in user_df.iterrows():\n",
    "        user = row[\"user_id\"]\n",
    "        url = f\"http://{host}:{port}/recommendation/salsa/{user}?walks={walks}&walk_length={walk_length}&limit={limit}\"\n",
    "        response = rq.get(url)\n",
    "        counter = 0\n",
    "        while response.status_code != 200 and counter != 9:\n",
    "            print(f\"Got response code {response.status_code} trying again {counter + 1}/10...\")\n",
    "            response = rq.get(url)\n",
    "            counter += 1\n",
    "\n",
    "        response_body = response.json() if response.status_code == 200 else []\n",
    "        recommendations = [res['id'] for res in response_body]\n",
    "        hits = [res['hit'] for res in response_body]\n",
    "        rows.append((hash_function, partition, user, recommendations, hits))\n",
    "\n",
    "    return pd.DataFrame(rows, columns=[\"hash_function\", \"partition\", \"user\", \"recommendations\", \"hits\"])"
   ]
  },
  {
   "cell_type": "code",
   "execution_count": 64,
   "outputs": [],
   "source": [
    "def timed(func):\n",
    "    def _w(*a, **k):\n",
    "        then = time.time()\n",
    "        res = func(*a, **k)\n",
    "        elapsed = time.time() - then\n",
    "        return elapsed, res\n",
    "\n",
    "    return _w"
   ],
   "metadata": {
    "collapsed": false,
    "pycharm": {
     "name": "#%%\n"
    }
   }
  },
  {
   "cell_type": "code",
   "execution_count": 65,
   "metadata": {},
   "outputs": [
    {
     "name": "stdout",
     "output_type": "stream",
     "text": [
      "gathering recommendations from port: 5001 and partition 0 hash_function: murmur2\n",
      "gathering recommendations from port: 5002 and partition 1 hash_function: murmur2\n",
      "[('murmur2', '0', 'recommendation fetch', 5.585102319717407), ('murmur2', '1', 'recommendation fetch', 4.964040279388428)]\n"
     ]
    },
    {
     "data": {
      "text/plain": "                 user  \\\n0  828645931927142400   \n1  890602645500702720   \n2           433809972   \n3            48459797   \n0  828645931927142400   \n1  890602645500702720   \n2           433809972   \n3            48459797   \n\n                                                                                                                                                                                                      recommendations  \\\n0   [928503178039054337, 1363489994279682048, 1223825387748298754, 1348988567687745539, 1367916280335003651, 1364232244743831552, 1367128736513064969, 1327222316561035265, 1353414851352268800, 1336243448429617156]   \n1  [1365678076504338434, 1365896763513597957, 1364182175512358917, 1366048808220639234, 1368550254149206016, 1368146840764506113, 1366063562146390019, 1367144566651035654, 1364228528993050625, 1366664488083193856]   \n2  [1368126333222416388, 1365086675739705346, 1366463519621738498, 1368012208278433794, 1365131974126362626, 1367656109264273409, 1366573479378571265, 1367746708566929409, 1367127626381357056, 1366886099969318917]   \n3  [1365308369746219012, 1367500402606899213, 1367470576256897031, 1336406499174838279, 1365032706623463429, 1335871711758200832, 1367500049010331648, 1367348624208912387, 1367598381460316162, 1367606435513786368]   \n0    [978113793405407233, 1362770535436886021, 927003837407297536, 1367197975043215361, 1367308413823184898, 1359956852520325120, 1367191079829663744, 1367942211028070402, 1368439342654316544, 1360470410479943684]   \n1   [1368079395886358529, 1368078894750965762, 1368079143989084162, 1363429352893865987, 1296009054536400900, 1368516777781518339, 314075222078808064, 1367203124109324289, 1367501934479966209, 1363558587092639750]   \n2  [1368033599044411392, 1367384317723172866, 1367293721755193344, 1366916230989438978, 1366916252325666820, 1368140045610143746, 1367777657769791501, 1367278763097006080, 1368003401095778304, 1367429617422798849]   \n3  [1367562666529738760, 1362101514349731842, 1365064792277471232, 1367159111473856515, 1325112999141584897, 1358631201075003393, 1367692856127848448, 1327889016990048256, 1367484300271226880, 1367320834264694787]   \n\n                                                 hits partition  \n0        [139, 135, 134, 121, 94, 87, 83, 82, 78, 78]         0  \n1  [622, 587, 579, 568, 559, 543, 298, 248, 233, 229]         0  \n2      [135, 122, 122, 109, 107, 103, 96, 94, 93, 89]         0  \n3            [93, 86, 54, 52, 50, 48, 48, 48, 42, 40]         0  \n0          [348, 104, 84, 79, 73, 71, 65, 63, 62, 62]         1  \n1  [867, 822, 820, 782, 776, 745, 518, 404, 374, 266]         1  \n2       [142, 126, 117, 106, 105, 99, 92, 89, 88, 87]         1  \n3            [74, 61, 52, 51, 43, 43, 42, 41, 39, 38]         1  ",
      "text/html": "<div>\n<style scoped>\n    .dataframe tbody tr th:only-of-type {\n        vertical-align: middle;\n    }\n\n    .dataframe tbody tr th {\n        vertical-align: top;\n    }\n\n    .dataframe thead th {\n        text-align: right;\n    }\n</style>\n<table border=\"1\" class=\"dataframe\">\n  <thead>\n    <tr style=\"text-align: right;\">\n      <th></th>\n      <th>user</th>\n      <th>recommendations</th>\n      <th>hits</th>\n      <th>partition</th>\n    </tr>\n  </thead>\n  <tbody>\n    <tr>\n      <th>0</th>\n      <td>828645931927142400</td>\n      <td>[928503178039054337, 1363489994279682048, 1223825387748298754, 1348988567687745539, 1367916280335003651, 1364232244743831552, 1367128736513064969, 1327222316561035265, 1353414851352268800, 1336243448429617156]</td>\n      <td>[139, 135, 134, 121, 94, 87, 83, 82, 78, 78]</td>\n      <td>0</td>\n    </tr>\n    <tr>\n      <th>1</th>\n      <td>890602645500702720</td>\n      <td>[1365678076504338434, 1365896763513597957, 1364182175512358917, 1366048808220639234, 1368550254149206016, 1368146840764506113, 1366063562146390019, 1367144566651035654, 1364228528993050625, 1366664488083193856]</td>\n      <td>[622, 587, 579, 568, 559, 543, 298, 248, 233, 229]</td>\n      <td>0</td>\n    </tr>\n    <tr>\n      <th>2</th>\n      <td>433809972</td>\n      <td>[1368126333222416388, 1365086675739705346, 1366463519621738498, 1368012208278433794, 1365131974126362626, 1367656109264273409, 1366573479378571265, 1367746708566929409, 1367127626381357056, 1366886099969318917]</td>\n      <td>[135, 122, 122, 109, 107, 103, 96, 94, 93, 89]</td>\n      <td>0</td>\n    </tr>\n    <tr>\n      <th>3</th>\n      <td>48459797</td>\n      <td>[1365308369746219012, 1367500402606899213, 1367470576256897031, 1336406499174838279, 1365032706623463429, 1335871711758200832, 1367500049010331648, 1367348624208912387, 1367598381460316162, 1367606435513786368]</td>\n      <td>[93, 86, 54, 52, 50, 48, 48, 48, 42, 40]</td>\n      <td>0</td>\n    </tr>\n    <tr>\n      <th>0</th>\n      <td>828645931927142400</td>\n      <td>[978113793405407233, 1362770535436886021, 927003837407297536, 1367197975043215361, 1367308413823184898, 1359956852520325120, 1367191079829663744, 1367942211028070402, 1368439342654316544, 1360470410479943684]</td>\n      <td>[348, 104, 84, 79, 73, 71, 65, 63, 62, 62]</td>\n      <td>1</td>\n    </tr>\n    <tr>\n      <th>1</th>\n      <td>890602645500702720</td>\n      <td>[1368079395886358529, 1368078894750965762, 1368079143989084162, 1363429352893865987, 1296009054536400900, 1368516777781518339, 314075222078808064, 1367203124109324289, 1367501934479966209, 1363558587092639750]</td>\n      <td>[867, 822, 820, 782, 776, 745, 518, 404, 374, 266]</td>\n      <td>1</td>\n    </tr>\n    <tr>\n      <th>2</th>\n      <td>433809972</td>\n      <td>[1368033599044411392, 1367384317723172866, 1367293721755193344, 1366916230989438978, 1366916252325666820, 1368140045610143746, 1367777657769791501, 1367278763097006080, 1368003401095778304, 1367429617422798849]</td>\n      <td>[142, 126, 117, 106, 105, 99, 92, 89, 88, 87]</td>\n      <td>1</td>\n    </tr>\n    <tr>\n      <th>3</th>\n      <td>48459797</td>\n      <td>[1367562666529738760, 1362101514349731842, 1365064792277471232, 1367159111473856515, 1325112999141584897, 1358631201075003393, 1367692856127848448, 1327889016990048256, 1367484300271226880, 1367320834264694787]</td>\n      <td>[74, 61, 52, 51, 43, 43, 42, 41, 39, 38]</td>\n      <td>1</td>\n    </tr>\n  </tbody>\n</table>\n</div>"
     },
     "metadata": {},
     "output_type": "display_data"
    }
   ],
   "source": [
    "# Perform API requests\n",
    "result_dfs = []\n",
    "latency_rows = []\n",
    "list_future = []\n",
    "\n",
    "# Create separate executor for each different configuration\n",
    "with futures.ThreadPoolExecutor() as executor:\n",
    "    for (hash_function, partition_port, walks, walk_length, limit) in configurations:\n",
    "        list_future.append(\n",
    "            executor.submit(timed(get_recommendations), user_df, walks, walk_length, limit, partition_port))\n",
    "\n",
    "# Gather the results together\n",
    "for f in list_future:\n",
    "    res = f.result()\n",
    "    result_df = res[1]\n",
    "    result_dfs.append(res[1])\n",
    "    latency = res[0]\n",
    "    latency_rows.append(\n",
    "        (result_df[\"hash_function\"].iloc[0], result_df[\"partition\"].iloc[0], \"recommendation fetch\", latency))\n",
    "\n",
    "\n",
    "result_df = pd.concat(result_dfs)\n",
    "display(result_df[[\"user\", \"recommendations\", \"hits\", \"partition\"]])\n",
    "result_df.to_json(output_recommendations, index=False, orient=\"table\")"
   ]
  },
  {
   "cell_type": "code",
   "execution_count": 54,
   "metadata": {},
   "outputs": [],
   "source": [
    "def merge_sort_rec_hit(row):\n",
    "    if row[\"len_rec\"] == 10:\n",
    "        return row[\"recommendations\"], row[\"hits\"]\n",
    "    rec_hit_dic = dict(zip(row[\"recommendations\"], row[\"hits\"]))\n",
    "    sorted_by_hits = dict(sorted(rec_hit_dic.items(), key=lambda item: item[1], reverse=True))\n",
    "    rec_hit_dic = dict(list(sorted_by_hits.items())[:10])\n",
    "    return list(rec_hit_dic.keys()), list(rec_hit_dic.values())"
   ]
  },
  {
   "cell_type": "code",
   "execution_count": 55,
   "metadata": {
    "pycharm": {
     "name": "#%%\n"
    }
   },
   "outputs": [],
   "source": [
    "# Merge partition results\n",
    "if union_results:\n",
    "    start = timer()\n",
    "    merge_df = result_df.groupby(\"user\", as_index=False).agg({'recommendations': 'sum', 'hits': 'sum'})\n",
    "    merge_df[\"hash_function\"] = hash_function\n",
    "    merge_df[\"partition\"] = \"union results\"\n",
    "    merge_df[\"len_rec\"] = merge_df.apply(lambda x: len(x[\"recommendations\"]), axis=1)\n",
    "    pd.set_option('display.max_colwidth', None)\n",
    "    merge_df[[\"recommendations\", \"hits\"]] = merge_df.apply(lambda row: merge_sort_rec_hit(row), axis=1,\n",
    "                                                           result_type=\"expand\")\n",
    "\n",
    "    end = timer()\n",
    "    latency = end - start\n",
    "    latency_rows.append((hash_function, -1, \"union results\", latency))\n",
    "    # Save results\n",
    "    merge_df.to_json(output_union_results, index=False, orient=\"table\")"
   ]
  },
  {
   "cell_type": "code",
   "execution_count": 56,
   "outputs": [],
   "source": [
    "if highest_hit:\n",
    "    start = timer()\n",
    "    res = []\n",
    "    for group_name, df_group in result_df.groupby(\"user\"):\n",
    "        highest_hit_count = 0\n",
    "        partition_to_take = 0\n",
    "        for _, row in df_group.iterrows():\n",
    "            if len(row[\"hits\"]) == 0:\n",
    "                continue\n",
    "            hit = row[\"hits\"][0]\n",
    "            if hit > highest_hit_count:\n",
    "                highest_hit_count = hit\n",
    "                partition_to_take = row[\"partition\"]\n",
    "        result = df_group[df_group[\"partition\"] == partition_to_take]\n",
    "        res.append(df_group[df_group[\"partition\"] == partition_to_take])\n",
    "\n",
    "    best_partition_df = pd.concat(res, ignore_index=True)\n",
    "    best_partition_df[\"partition\"] = \"highest hit\"\n",
    "    end = timer()\n",
    "    latency = end - start\n",
    "    latency_rows.append((hash_function, -1, \"highest hit\", latency))\n",
    "    best_partition_df.to_json(output_highest_hit, index=False, orient=\"table\")\n"
   ],
   "metadata": {
    "collapsed": false,
    "pycharm": {
     "name": "#%%\n"
    }
   }
  },
  {
   "cell_type": "code",
   "execution_count": 57,
   "outputs": [],
   "source": [
    "def get_degree(user_df, port):\n",
    "    degrees = []\n",
    "    for i, row in user_df.iterrows():\n",
    "        user = row[\"user_id\"]\n",
    "        url = f\"http://{host}:{port}/status/degree/left-index/{user}\"\n",
    "        response = rq.get(url)\n",
    "        counter = 0\n",
    "        while response.status_code != 200 and counter != 9:\n",
    "            print(f\"Got response code {response.status_code} trying again {counter + 1}/10...\")\n",
    "            response = rq.get(url)\n",
    "            counter += 1\n",
    "        degree = response.json() if response.status_code == 200 else 0\n",
    "        degrees.append(degree)\n",
    "    return degrees"
   ],
   "metadata": {
    "collapsed": false,
    "pycharm": {
     "name": "#%%\n"
    }
   }
  },
  {
   "cell_type": "code",
   "execution_count": 58,
   "outputs": [],
   "source": [
    "if most_interactions:\n",
    "    start = timer()\n",
    "    degrees = []\n",
    "    for (hash_function, partition_port, walks, walk_length, limit) in configurations:\n",
    "        degrees.extend(get_degree(user_df, partition_port[1]))\n",
    "    result_df[\"degree\"] = degrees\n",
    "    result_df.to_json(output_recommendations, index=False, orient=\"table\")\n",
    "    res = []\n",
    "    for group_name, df_group in result_df.groupby(\"user\"):\n",
    "        highest_degree = 0\n",
    "        partition_to_take = 0\n",
    "        for _, row in df_group.iterrows():\n",
    "            if row[\"degree\"] == 0:\n",
    "                continue\n",
    "            degree = row[\"degree\"]\n",
    "            if degree > highest_degree:\n",
    "                highest_degree = degree\n",
    "                partition_to_take = row[\"partition\"]\n",
    "        result = df_group[df_group[\"partition\"] == partition_to_take]\n",
    "        res.append(df_group[df_group[\"partition\"] == partition_to_take])\n",
    "\n",
    "    best_partition_df = pd.concat(res, ignore_index=True)\n",
    "    best_partition_df[\"partition\"] = \"most interactions\"\n",
    "    end = timer()\n",
    "    latency = end - start\n",
    "    latency_rows.append((hash_function, -1, \"most interactions\", latency))\n",
    "    best_partition_df.to_json(output_most_interactions, index=False, orient=\"table\")\n"
   ],
   "metadata": {
    "collapsed": false,
    "pycharm": {
     "name": "#%%\n"
    }
   }
  },
  {
   "cell_type": "code",
   "execution_count": 59,
   "outputs": [],
   "source": [
    "latency_df = pd.DataFrame(latency_rows, columns=[\"hash_function\", \"partition\", \"functionality\", \"latency\"])\n",
    "\n",
    "latency_df.to_csv(output_latency, index=False)"
   ],
   "metadata": {
    "collapsed": false,
    "pycharm": {
     "name": "#%%\n"
    }
   }
  },
  {
   "cell_type": "code",
   "execution_count": null,
   "outputs": [],
   "source": [],
   "metadata": {
    "collapsed": false,
    "pycharm": {
     "name": "#%%\n"
    }
   }
  }
 ],
 "metadata": {
  "celltoolbar": "Tags",
  "kernelspec": {
   "display_name": "Python 3",
   "language": "python",
   "name": "python3"
  },
  "language_info": {
   "codemirror_mode": {
    "name": "ipython",
    "version": 3
   },
   "file_extension": ".py",
   "mimetype": "text/x-python",
   "name": "python",
   "nbconvert_exporter": "python",
   "pygments_lexer": "ipython3",
   "version": "3.8.5"
  }
 },
 "nbformat": 4,
 "nbformat_minor": 4
}