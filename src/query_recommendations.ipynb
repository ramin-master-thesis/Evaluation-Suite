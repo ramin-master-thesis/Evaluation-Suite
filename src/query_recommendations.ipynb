{
 "cells": [
  {
   "cell_type": "code",
   "execution_count": 16,
   "metadata": {},
   "outputs": [],
   "source": [
    "import itertools as it\n",
    "import pandas as pd\n",
    "import requests as rq\n",
    "from IPython.display import display"
   ]
  },
  {
   "cell_type": "code",
   "execution_count": 17,
   "metadata": {
    "tags": [
     "parameters"
    ]
   },
   "outputs": [],
   "source": [
    "# Parameters\n",
    "users = \"../data/users.json\"\n",
    "host = \"localhost\"\n",
    "\n",
    "hash_function = \"murmur2\"\n",
    "partition_port = {\"0\":\"5000\", \"1\":\"5001\"}\n",
    "limits = [10]\n",
    "walks = [1000]\n",
    "walk_length = [100]\n",
    "\n",
    "should_merge = True\n",
    "\n",
    "output_recommendations = f\"../data/{hash_function}_recommendations.json\"\n",
    "output_merge_recommendations = f\"../data/{hash_function}_merge_recommendations.json\""
   ]
  },
  {
   "cell_type": "code",
   "execution_count": 18,
   "metadata": {},
   "outputs": [
    {
     "data": {
      "text/plain": [
       "[('murmur2', ('0', '5000'), 1000, 100, 10),\n",
       " ('murmur2', ('1', '5001'), 1000, 100, 10)]"
      ]
     },
     "execution_count": 18,
     "metadata": {},
     "output_type": "execute_result"
    }
   ],
   "source": [
    "# Import users\n",
    "user_df = pd.read_json(users, orient=\"table\")\n",
    "\n",
    "# Compute cross product of all configuration values\n",
    "configurations = list(it.product([hash_function], partition_port.items(), walks, walk_length, limits))\n",
    "configurations"
   ]
  },
  {
   "cell_type": "code",
   "execution_count": 19,
   "metadata": {},
   "outputs": [],
   "source": [
    "def get_recommendations(user_df, walks, walk_length, limit, partition_port):\n",
    "    rows = []\n",
    "    partition = partition_port[0]\n",
    "    port = partition_port[1]\n",
    "    print(f\"gathering recommendations from port: {port} and partition {partition} hash_function: {hash_function}\")\n",
    "\n",
    "    for i, row in user_df.iterrows():\n",
    "        user = row[\"user_id\"]\n",
    "        url = f\"http://{host}:{port}/recommendation/salsa/{user}?walks={walks}&walk_length={walk_length}&limit={limit}\"\n",
    "        response = rq.get(url)\n",
    "\n",
    "        response_body = response.json() if response.status_code == 200 else []\n",
    "        recommendations = [res['id'] for res in response_body]\n",
    "        hits = [res['hit'] for res in response_body]\n",
    "        rows.append((hash_function, partition, user, recommendations, hits))\n",
    "\n",
    "    return pd.DataFrame(rows, columns=[\"hash_function\", \"partition\", \"user\", \"recommendations\", \"hits\"])"
   ]
  },
  {
   "cell_type": "code",
   "execution_count": 20,
   "metadata": {},
   "outputs": [
    {
     "name": "stdout",
     "output_type": "stream",
     "text": [
      "gathering recommendations from port: 5000 and partition 0 hash_function: murmur2\n",
      "gathering recommendations from port: 5001 and partition 1 hash_function: murmur2\n"
     ]
    },
    {
     "data": {
      "text/html": [
       "<div>\n",
       "<style scoped>\n",
       "    .dataframe tbody tr th:only-of-type {\n",
       "        vertical-align: middle;\n",
       "    }\n",
       "\n",
       "    .dataframe tbody tr th {\n",
       "        vertical-align: top;\n",
       "    }\n",
       "\n",
       "    .dataframe thead th {\n",
       "        text-align: right;\n",
       "    }\n",
       "</style>\n",
       "<table border=\"1\" class=\"dataframe\">\n",
       "  <thead>\n",
       "    <tr style=\"text-align: right;\">\n",
       "      <th></th>\n",
       "      <th>user</th>\n",
       "      <th>recommendations</th>\n",
       "      <th>hits</th>\n",
       "      <th>partition</th>\n",
       "    </tr>\n",
       "  </thead>\n",
       "  <tbody>\n",
       "    <tr>\n",
       "      <th>0</th>\n",
       "      <td>356515976</td>\n",
       "      <td>[1367250900041953280, 1367272378766614529, 1362498014565310465, 1361682280742232071, 332282461344124931, 1364270912661553153, 1367205667321171968, 1367295813030875137, 1366448694111973381, 1367254342286401538]</td>\n",
       "      <td>[81, 72, 49, 49, 46, 46, 45, 43, 42, 39]</td>\n",
       "      <td>0</td>\n",
       "    </tr>\n",
       "    <tr>\n",
       "      <th>1</th>\n",
       "      <td>998140573008695296</td>\n",
       "      <td>[1367198091053441027, 1366820931184717824, 1367272378766614529, 1365757552055648256, 332282461344124931, 1367250900041953280, 1367295813030875137, 1366448694111973381, 1367364251233497095, 1364826301027115008]</td>\n",
       "      <td>[85, 84, 82, 67, 60, 55, 52, 50, 50, 49]</td>\n",
       "      <td>0</td>\n",
       "    </tr>\n",
       "    <tr>\n",
       "      <th>2</th>\n",
       "      <td>818876014390603776</td>\n",
       "      <td>[1360287642408132613, 1367578811634704385, 1362133655913644034, 1350587005755944960, 1368951854504247299, 1360579041909219332, 1364943316496826379, 556102338923229184, 1314035151245053958, 1244295717629370369]</td>\n",
       "      <td>[281, 274, 265, 203, 186, 183, 182, 160, 140, 133]</td>\n",
       "      <td>0</td>\n",
       "    </tr>\n",
       "    <tr>\n",
       "      <th>3</th>\n",
       "      <td>746247276</td>\n",
       "      <td>[1367250900041953280, 1367305184628649985, 1367460088252882949, 1367568143552544770, 1367534350724517890, 1364585606685351940, 1367645494445568003, 1364826301027115008, 1367304018217865233, 1367213114228318209]</td>\n",
       "      <td>[96, 62, 60, 60, 57, 56, 52, 51, 48, 45]</td>\n",
       "      <td>0</td>\n",
       "    </tr>\n",
       "    <tr>\n",
       "      <th>4</th>\n",
       "      <td>716709528</td>\n",
       "      <td>[]</td>\n",
       "      <td>[]</td>\n",
       "      <td>0</td>\n",
       "    </tr>\n",
       "    <tr>\n",
       "      <th>...</th>\n",
       "      <td>...</td>\n",
       "      <td>...</td>\n",
       "      <td>...</td>\n",
       "      <td>...</td>\n",
       "    </tr>\n",
       "    <tr>\n",
       "      <th>495</th>\n",
       "      <td>783719151684685824</td>\n",
       "      <td>[1368599913320173568, 1367608626110738436, 1367925520042586112, 1270519903460528130, 1367556243871707136, 1367875049995169794, 1305307998596800512, 1273550743308386304, 1360343382556483587, 1358780911370842114]</td>\n",
       "      <td>[213, 197, 192, 180, 171, 167, 154, 146, 143, 142]</td>\n",
       "      <td>1</td>\n",
       "    </tr>\n",
       "    <tr>\n",
       "      <th>496</th>\n",
       "      <td>1326584656658132994</td>\n",
       "      <td>[]</td>\n",
       "      <td>[]</td>\n",
       "      <td>1</td>\n",
       "    </tr>\n",
       "    <tr>\n",
       "      <th>497</th>\n",
       "      <td>330262748</td>\n",
       "      <td>[1354504065993084928, 1355766164450902019, 1355401948606947330, 1363563589378994178, 1354805587897327617, 1359897952223961088, 1365304148187623427, 1362845879900770305, 1364127962765869056, 1356380528451219462]</td>\n",
       "      <td>[201, 193, 185, 180, 179, 170, 169, 163, 161, 157]</td>\n",
       "      <td>1</td>\n",
       "    </tr>\n",
       "    <tr>\n",
       "      <th>498</th>\n",
       "      <td>717783559579144193</td>\n",
       "      <td>[]</td>\n",
       "      <td>[]</td>\n",
       "      <td>1</td>\n",
       "    </tr>\n",
       "    <tr>\n",
       "      <th>499</th>\n",
       "      <td>1012312793633230849</td>\n",
       "      <td>[1366477626429169666, 1367393156073857027, 1358772300582178821, 1350876908867620864, 1337160398395506688, 1364563280522453005, 1367406671895531522, 1365237858165026818, 1364806085610147844, 1367564072498135040]</td>\n",
       "      <td>[126, 91, 68, 58, 54, 44, 44, 41, 36, 36]</td>\n",
       "      <td>1</td>\n",
       "    </tr>\n",
       "  </tbody>\n",
       "</table>\n",
       "<p>1000 rows × 4 columns</p>\n",
       "</div>"
      ],
      "text/plain": [
       "                    user  \\\n",
       "0              356515976   \n",
       "1     998140573008695296   \n",
       "2     818876014390603776   \n",
       "3              746247276   \n",
       "4              716709528   \n",
       "..                   ...   \n",
       "495   783719151684685824   \n",
       "496  1326584656658132994   \n",
       "497            330262748   \n",
       "498   717783559579144193   \n",
       "499  1012312793633230849   \n",
       "\n",
       "                                                                                                                                                                                                        recommendations  \\\n",
       "0     [1367250900041953280, 1367272378766614529, 1362498014565310465, 1361682280742232071, 332282461344124931, 1364270912661553153, 1367205667321171968, 1367295813030875137, 1366448694111973381, 1367254342286401538]   \n",
       "1     [1367198091053441027, 1366820931184717824, 1367272378766614529, 1365757552055648256, 332282461344124931, 1367250900041953280, 1367295813030875137, 1366448694111973381, 1367364251233497095, 1364826301027115008]   \n",
       "2     [1360287642408132613, 1367578811634704385, 1362133655913644034, 1350587005755944960, 1368951854504247299, 1360579041909219332, 1364943316496826379, 556102338923229184, 1314035151245053958, 1244295717629370369]   \n",
       "3    [1367250900041953280, 1367305184628649985, 1367460088252882949, 1367568143552544770, 1367534350724517890, 1364585606685351940, 1367645494445568003, 1364826301027115008, 1367304018217865233, 1367213114228318209]   \n",
       "4                                                                                                                                                                                                                    []   \n",
       "..                                                                                                                                                                                                                  ...   \n",
       "495  [1368599913320173568, 1367608626110738436, 1367925520042586112, 1270519903460528130, 1367556243871707136, 1367875049995169794, 1305307998596800512, 1273550743308386304, 1360343382556483587, 1358780911370842114]   \n",
       "496                                                                                                                                                                                                                  []   \n",
       "497  [1354504065993084928, 1355766164450902019, 1355401948606947330, 1363563589378994178, 1354805587897327617, 1359897952223961088, 1365304148187623427, 1362845879900770305, 1364127962765869056, 1356380528451219462]   \n",
       "498                                                                                                                                                                                                                  []   \n",
       "499  [1366477626429169666, 1367393156073857027, 1358772300582178821, 1350876908867620864, 1337160398395506688, 1364563280522453005, 1367406671895531522, 1365237858165026818, 1364806085610147844, 1367564072498135040]   \n",
       "\n",
       "                                                   hits partition  \n",
       "0              [81, 72, 49, 49, 46, 46, 45, 43, 42, 39]         0  \n",
       "1              [85, 84, 82, 67, 60, 55, 52, 50, 50, 49]         0  \n",
       "2    [281, 274, 265, 203, 186, 183, 182, 160, 140, 133]         0  \n",
       "3              [96, 62, 60, 60, 57, 56, 52, 51, 48, 45]         0  \n",
       "4                                                    []         0  \n",
       "..                                                  ...       ...  \n",
       "495  [213, 197, 192, 180, 171, 167, 154, 146, 143, 142]         1  \n",
       "496                                                  []         1  \n",
       "497  [201, 193, 185, 180, 179, 170, 169, 163, 161, 157]         1  \n",
       "498                                                  []         1  \n",
       "499           [126, 91, 68, 58, 54, 44, 44, 41, 36, 36]         1  \n",
       "\n",
       "[1000 rows x 4 columns]"
      ]
     },
     "metadata": {},
     "output_type": "display_data"
    }
   ],
   "source": [
    "# Perform API requests\n",
    "result_dfs = []\n",
    "\n",
    "for (hash_function, partition_port, walks, walk_length, limit) in configurations:\n",
    "    result = get_recommendations(user_df, walks, walk_length, limit, partition_port)\n",
    "    result_dfs.append(result)\n",
    "\n",
    "result_df = pd.concat(result_dfs)\n",
    "display(result_df[[\"user\", \"recommendations\", \"hits\", \"partition\"]])\n",
    "result_df.to_json(output_recommendations, index=False, orient=\"table\")"
   ]
  },
  {
   "cell_type": "code",
   "execution_count": 21,
   "metadata": {},
   "outputs": [],
   "source": [
    "def merge_sort_rec_hit(row):\n",
    "    if row[\"len_rec\"] == 10:\n",
    "        return row[\"recommendations\"], row[\"hits\"]\n",
    "    rec_hit_dic = dict(zip(row[\"recommendations\"], row[\"hits\"]))\n",
    "    sorted_by_hits = dict(sorted(rec_hit_dic.items(), key=lambda item: item[1], reverse=True))\n",
    "    rec_hit_dic = dict(list(sorted_by_hits.items())[:10])\n",
    "    return list(rec_hit_dic.keys()), list(rec_hit_dic.values())"
   ]
  },
  {
   "cell_type": "code",
   "execution_count": 22,
   "metadata": {
    "pycharm": {
     "name": "#%%\n"
    }
   },
   "outputs": [],
   "source": [
    "# Merge partition results\n",
    "if should_merge:\n",
    "    merge_df = result_df.groupby(\"user\", as_index=False).agg({'recommendations': 'sum', 'hits': 'sum'})\n",
    "    merge_df[\"hash_function\"] = hash_function\n",
    "    merge_df[\"partition\"] = \"merged\"\n",
    "    merge_df[\"len_rec\"] = merge_df.apply(lambda x: len(x[\"recommendations\"]), axis=1)\n",
    "    pd.set_option('display.max_colwidth', None)\n",
    "    merge_df[[\"recommendations\", \"hits\"]] = merge_df.apply(lambda row: merge_sort_rec_hit(row), axis=1, result_type=\"expand\")\n",
    "    # Save results\n",
    "    merge_df.to_json(output_merge_recommendations, index=False, orient=\"table\")\n"
   ]
  },
  {
   "cell_type": "code",
   "execution_count": null,
   "metadata": {},
   "outputs": [],
   "source": []
  }
 ],
 "metadata": {
  "celltoolbar": "Tags",
  "kernelspec": {
   "display_name": "Python 3",
   "language": "python",
   "name": "python3"
  },
  "language_info": {
   "codemirror_mode": {
    "name": "ipython",
    "version": 3
   },
   "file_extension": ".py",
   "mimetype": "text/x-python",
   "name": "python",
   "nbconvert_exporter": "python",
   "pygments_lexer": "ipython3",
   "version": "3.8.5"
  }
 },
 "nbformat": 4,
 "nbformat_minor": 4
}