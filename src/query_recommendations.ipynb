{
 "cells": [
  {
   "cell_type": "code",
   "execution_count": 6,
   "metadata": {},
   "outputs": [],
   "source": [
    "import itertools as it\n",
    "import pandas as pd\n",
    "import requests as rq\n",
    "from IPython.display import display"
   ]
  },
  {
   "cell_type": "code",
   "execution_count": 7,
   "metadata": {
    "tags": [
     "parameters"
    ]
   },
   "outputs": [],
   "source": [
    "# Parameters\n",
    "users = \"../data/users.json\"\n",
    "host = \"localhost\"\n",
    "\n",
    "hash_function = \"murmur2\"\n",
    "partition_port = {\"0\": \"5000\", \"1\": \"5001\"}\n",
    "limits = [10]\n",
    "walks = [1000]\n",
    "walk_length = [100]\n",
    "\n",
    "should_merge = True\n",
    "should_take_best_partition = True\n",
    "\n",
    "output_recommendations = f\"../data/{hash_function}_recommendations.json\"\n",
    "output_merge_recommendations = f\"../data/{hash_function}_merge_recommendations.json\"\n",
    "output_best_partition_recommendations = f\"../data/{hash_function}_best_partition_recommendations.json\""
   ]
  },
  {
   "cell_type": "code",
   "execution_count": 8,
   "metadata": {},
   "outputs": [
    {
     "data": {
      "text/plain": "[('murmur2', ('0', '5000'), 1000, 100, 10),\n ('murmur2', ('1', '5001'), 1000, 100, 10)]"
     },
     "execution_count": 8,
     "metadata": {},
     "output_type": "execute_result"
    }
   ],
   "source": [
    "# Import users\n",
    "user_df = pd.read_json(users, orient=\"table\")\n",
    "\n",
    "# Compute cross product of all configuration values\n",
    "configurations = list(it.product([hash_function], partition_port.items(), walks, walk_length, limits))\n",
    "configurations\n"
   ]
  },
  {
   "cell_type": "code",
   "execution_count": 11,
   "metadata": {},
   "outputs": [],
   "source": [
    "def get_recommendations(user_df, walks, walk_length, limit, partition_port):\n",
    "    rows = []\n",
    "    partition = partition_port[0]\n",
    "    port = partition_port[1]\n",
    "    print(f\"gathering recommendations from port: {port} and partition {partition} hash_function: {hash_function}\")\n",
    "\n",
    "    for i, row in user_df.iterrows():\n",
    "        user = row[\"user_id\"]\n",
    "        url = f\"http://{host}:{port}/recommendation/salsa/{user}?walks={walks}&walk_length={walk_length}&limit={limit}\"\n",
    "        response = rq.get(url)\n",
    "        counter = 0\n",
    "        while response.status_code != 200 and counter != 9:\n",
    "            print(f\"Got response code {response.status_code} trying again {counter + 1}/10...\")\n",
    "            response = rq.get(url)\n",
    "            counter += 1\n",
    "\n",
    "        response_body = response.json() if response.status_code == 200 else []\n",
    "        recommendations = [res['id'] for res in response_body]\n",
    "        hits = [res['hit'] for res in response_body]\n",
    "        rows.append((hash_function, partition, user, recommendations, hits))\n",
    "\n",
    "    return pd.DataFrame(rows, columns=[\"hash_function\", \"partition\", \"user\", \"recommendations\", \"hits\"])"
   ]
  },
  {
   "cell_type": "code",
   "execution_count": 10,
   "metadata": {},
   "outputs": [
    {
     "name": "stdout",
     "output_type": "stream",
     "text": [
      "gathering recommendations from port: 5000 and partition 0 hash_function: murmur2\n",
      "gathering recommendations from port: 5001 and partition 1 hash_function: murmur2\n"
     ]
    },
    {
     "data": {
      "text/plain": "                    user                                    recommendations  \\\n0    1046085619221331968  [1336366193628700673, 765265513366839297, 1368...   \n1               51353013  [1367126296812285953, 1366503802648502275, 136...   \n2             1673222870  [1342934467791486978, 1367011871459594240, 136...   \n3               89242811  [1336681326414614534, 1367305184628649985, 133...   \n4             2996770824  [1367359188159012864, 1367408947208986632, 136...   \n..                   ...                                                ...   \n495   823920456008863749  [1364557463136002050, 1365356146236661765, 135...   \n496  1333870645390815238  [1349174763260932101, 1365987740504924161, 136...   \n497  1365992959380840449                                                 []   \n498  1039973371516215296                                                 []   \n499           2853580027                                                 []   \n\n                                                  hits partition  \n0         [140, 127, 108, 102, 97, 97, 91, 87, 79, 75]         0  \n1    [403, 224, 212, 209, 172, 169, 154, 146, 135, ...         0  \n2    [2154, 1357, 1147, 920, 892, 795, 756, 746, 73...         0  \n3          [158, 125, 102, 97, 95, 88, 86, 85, 82, 80]         0  \n4    [576, 560, 549, 521, 512, 445, 407, 406, 386, ...         0  \n..                                                 ...       ...  \n495  [265, 228, 217, 213, 211, 207, 203, 196, 182, ...         1  \n496  [655, 530, 522, 481, 475, 458, 457, 453, 436, ...         1  \n497                                                 []         1  \n498                                                 []         1  \n499                                                 []         1  \n\n[1000 rows x 4 columns]",
      "text/html": "<div>\n<style scoped>\n    .dataframe tbody tr th:only-of-type {\n        vertical-align: middle;\n    }\n\n    .dataframe tbody tr th {\n        vertical-align: top;\n    }\n\n    .dataframe thead th {\n        text-align: right;\n    }\n</style>\n<table border=\"1\" class=\"dataframe\">\n  <thead>\n    <tr style=\"text-align: right;\">\n      <th></th>\n      <th>user</th>\n      <th>recommendations</th>\n      <th>hits</th>\n      <th>partition</th>\n    </tr>\n  </thead>\n  <tbody>\n    <tr>\n      <th>0</th>\n      <td>1046085619221331968</td>\n      <td>[1336366193628700673, 765265513366839297, 1368...</td>\n      <td>[140, 127, 108, 102, 97, 97, 91, 87, 79, 75]</td>\n      <td>0</td>\n    </tr>\n    <tr>\n      <th>1</th>\n      <td>51353013</td>\n      <td>[1367126296812285953, 1366503802648502275, 136...</td>\n      <td>[403, 224, 212, 209, 172, 169, 154, 146, 135, ...</td>\n      <td>0</td>\n    </tr>\n    <tr>\n      <th>2</th>\n      <td>1673222870</td>\n      <td>[1342934467791486978, 1367011871459594240, 136...</td>\n      <td>[2154, 1357, 1147, 920, 892, 795, 756, 746, 73...</td>\n      <td>0</td>\n    </tr>\n    <tr>\n      <th>3</th>\n      <td>89242811</td>\n      <td>[1336681326414614534, 1367305184628649985, 133...</td>\n      <td>[158, 125, 102, 97, 95, 88, 86, 85, 82, 80]</td>\n      <td>0</td>\n    </tr>\n    <tr>\n      <th>4</th>\n      <td>2996770824</td>\n      <td>[1367359188159012864, 1367408947208986632, 136...</td>\n      <td>[576, 560, 549, 521, 512, 445, 407, 406, 386, ...</td>\n      <td>0</td>\n    </tr>\n    <tr>\n      <th>...</th>\n      <td>...</td>\n      <td>...</td>\n      <td>...</td>\n      <td>...</td>\n    </tr>\n    <tr>\n      <th>495</th>\n      <td>823920456008863749</td>\n      <td>[1364557463136002050, 1365356146236661765, 135...</td>\n      <td>[265, 228, 217, 213, 211, 207, 203, 196, 182, ...</td>\n      <td>1</td>\n    </tr>\n    <tr>\n      <th>496</th>\n      <td>1333870645390815238</td>\n      <td>[1349174763260932101, 1365987740504924161, 136...</td>\n      <td>[655, 530, 522, 481, 475, 458, 457, 453, 436, ...</td>\n      <td>1</td>\n    </tr>\n    <tr>\n      <th>497</th>\n      <td>1365992959380840449</td>\n      <td>[]</td>\n      <td>[]</td>\n      <td>1</td>\n    </tr>\n    <tr>\n      <th>498</th>\n      <td>1039973371516215296</td>\n      <td>[]</td>\n      <td>[]</td>\n      <td>1</td>\n    </tr>\n    <tr>\n      <th>499</th>\n      <td>2853580027</td>\n      <td>[]</td>\n      <td>[]</td>\n      <td>1</td>\n    </tr>\n  </tbody>\n</table>\n<p>1000 rows × 4 columns</p>\n</div>"
     },
     "metadata": {},
     "output_type": "display_data"
    }
   ],
   "source": [
    "# Perform API requests\n",
    "result_dfs = []\n",
    "\n",
    "for (hash_function, partition_port, walks, walk_length, limit) in configurations:\n",
    "    result = get_recommendations(user_df, walks, walk_length, limit, partition_port)\n",
    "    result_dfs.append(result)\n",
    "\n",
    "result_df = pd.concat(result_dfs)\n",
    "display(result_df[[\"user\", \"recommendations\", \"hits\", \"partition\"]])\n",
    "result_df.to_json(output_recommendations, index=False, orient=\"table\")"
   ]
  },
  {
   "cell_type": "code",
   "execution_count": 1,
   "metadata": {},
   "outputs": [],
   "source": [
    "def merge_sort_rec_hit(row):\n",
    "    if row[\"len_rec\"] == 10:\n",
    "        return row[\"recommendations\"], row[\"hits\"]\n",
    "    rec_hit_dic = dict(zip(row[\"recommendations\"], row[\"hits\"]))\n",
    "    sorted_by_hits = dict(sorted(rec_hit_dic.items(), key=lambda item: item[1], reverse=True))\n",
    "    rec_hit_dic = dict(list(sorted_by_hits.items())[:10])\n",
    "    return list(rec_hit_dic.keys()), list(rec_hit_dic.values())"
   ]
  },
  {
   "cell_type": "code",
   "execution_count": 7,
   "metadata": {
    "pycharm": {
     "name": "#%%\n"
    }
   },
   "outputs": [],
   "source": [
    "# result_df = pd.read_json(output_recommendations, orient=\"table\")\n",
    "# Merge partition results\n",
    "if should_merge:\n",
    "    merge_df = result_df.groupby(\"user\", as_index=False).agg({'recommendations': 'sum', 'hits': 'sum'})\n",
    "    merge_df[\"hash_function\"] = hash_function\n",
    "    merge_df[\"partition\"] = \"merged\"\n",
    "    merge_df[\"len_rec\"] = merge_df.apply(lambda x: len(x[\"recommendations\"]), axis=1)\n",
    "    pd.set_option('display.max_colwidth', None)\n",
    "    merge_df[[\"recommendations\", \"hits\"]] = merge_df.apply(lambda row: merge_sort_rec_hit(row), axis=1,\n",
    "                                                           result_type=\"expand\")\n",
    "    # Save results\n",
    "    merge_df.to_json(output_merge_recommendations, index=False, orient=\"table\")"
   ]
  },
  {
   "cell_type": "code",
   "execution_count": 15,
   "outputs": [
    {
     "ename": "KeyboardInterrupt",
     "evalue": "",
     "output_type": "error",
     "traceback": [
      "\u001B[0;31m---------------------------------------------------------------------------\u001B[0m",
      "\u001B[0;31mKeyboardInterrupt\u001B[0m                         Traceback (most recent call last)",
      "\u001B[0;32m<ipython-input-15-92f3694dc7f7>\u001B[0m in \u001B[0;36m<module>\u001B[0;34m\u001B[0m\n\u001B[1;32m      8\u001B[0m             \u001B[0;32mif\u001B[0m \u001B[0mlen\u001B[0m\u001B[0;34m(\u001B[0m\u001B[0mrow\u001B[0m\u001B[0;34m[\u001B[0m\u001B[0;34m\"hits\"\u001B[0m\u001B[0;34m]\u001B[0m\u001B[0;34m)\u001B[0m \u001B[0;34m==\u001B[0m \u001B[0;36m0\u001B[0m\u001B[0;34m:\u001B[0m\u001B[0;34m\u001B[0m\u001B[0;34m\u001B[0m\u001B[0m\n\u001B[1;32m      9\u001B[0m                 \u001B[0mres\u001B[0m\u001B[0;34m.\u001B[0m\u001B[0mappend\u001B[0m\u001B[0;34m(\u001B[0m\u001B[0mdf_group\u001B[0m\u001B[0;34m[\u001B[0m\u001B[0mdf_group\u001B[0m\u001B[0;34m[\u001B[0m\u001B[0;34m\"partition\"\u001B[0m\u001B[0;34m]\u001B[0m \u001B[0;34m==\u001B[0m \u001B[0mpartition_to_take\u001B[0m\u001B[0;34m]\u001B[0m\u001B[0;34m)\u001B[0m\u001B[0;34m\u001B[0m\u001B[0;34m\u001B[0m\u001B[0m\n\u001B[0;32m---> 10\u001B[0;31m                 \u001B[0;32mcontinue\u001B[0m\u001B[0;34m\u001B[0m\u001B[0;34m\u001B[0m\u001B[0m\n\u001B[0m\u001B[1;32m     11\u001B[0m             \u001B[0mhit\u001B[0m \u001B[0;34m=\u001B[0m \u001B[0mrow\u001B[0m\u001B[0;34m[\u001B[0m\u001B[0;34m\"hits\"\u001B[0m\u001B[0;34m]\u001B[0m\u001B[0;34m[\u001B[0m\u001B[0;36m0\u001B[0m\u001B[0;34m]\u001B[0m\u001B[0;34m\u001B[0m\u001B[0;34m\u001B[0m\u001B[0m\n\u001B[1;32m     12\u001B[0m             \u001B[0;32mif\u001B[0m \u001B[0mhit\u001B[0m \u001B[0;34m>\u001B[0m \u001B[0mhighest_hit\u001B[0m\u001B[0;34m:\u001B[0m\u001B[0;34m\u001B[0m\u001B[0;34m\u001B[0m\u001B[0m\n",
      "\u001B[0;32m<ipython-input-15-92f3694dc7f7>\u001B[0m in \u001B[0;36m<module>\u001B[0;34m\u001B[0m\n\u001B[1;32m      8\u001B[0m             \u001B[0;32mif\u001B[0m \u001B[0mlen\u001B[0m\u001B[0;34m(\u001B[0m\u001B[0mrow\u001B[0m\u001B[0;34m[\u001B[0m\u001B[0;34m\"hits\"\u001B[0m\u001B[0;34m]\u001B[0m\u001B[0;34m)\u001B[0m \u001B[0;34m==\u001B[0m \u001B[0;36m0\u001B[0m\u001B[0;34m:\u001B[0m\u001B[0;34m\u001B[0m\u001B[0;34m\u001B[0m\u001B[0m\n\u001B[1;32m      9\u001B[0m                 \u001B[0mres\u001B[0m\u001B[0;34m.\u001B[0m\u001B[0mappend\u001B[0m\u001B[0;34m(\u001B[0m\u001B[0mdf_group\u001B[0m\u001B[0;34m[\u001B[0m\u001B[0mdf_group\u001B[0m\u001B[0;34m[\u001B[0m\u001B[0;34m\"partition\"\u001B[0m\u001B[0;34m]\u001B[0m \u001B[0;34m==\u001B[0m \u001B[0mpartition_to_take\u001B[0m\u001B[0;34m]\u001B[0m\u001B[0;34m)\u001B[0m\u001B[0;34m\u001B[0m\u001B[0;34m\u001B[0m\u001B[0m\n\u001B[0;32m---> 10\u001B[0;31m                 \u001B[0;32mcontinue\u001B[0m\u001B[0;34m\u001B[0m\u001B[0;34m\u001B[0m\u001B[0m\n\u001B[0m\u001B[1;32m     11\u001B[0m             \u001B[0mhit\u001B[0m \u001B[0;34m=\u001B[0m \u001B[0mrow\u001B[0m\u001B[0;34m[\u001B[0m\u001B[0;34m\"hits\"\u001B[0m\u001B[0;34m]\u001B[0m\u001B[0;34m[\u001B[0m\u001B[0;36m0\u001B[0m\u001B[0;34m]\u001B[0m\u001B[0;34m\u001B[0m\u001B[0;34m\u001B[0m\u001B[0m\n\u001B[1;32m     12\u001B[0m             \u001B[0;32mif\u001B[0m \u001B[0mhit\u001B[0m \u001B[0;34m>\u001B[0m \u001B[0mhighest_hit\u001B[0m\u001B[0;34m:\u001B[0m\u001B[0;34m\u001B[0m\u001B[0;34m\u001B[0m\u001B[0m\n",
      "\u001B[0;32m~/.local/share/JetBrains/Toolbox/apps/PyCharm-P/ch-0/211.7142.13/plugins/python/helpers/pydev/_pydevd_bundle/pydevd_frame.py\u001B[0m in \u001B[0;36mtrace_dispatch\u001B[0;34m(self, frame, event, arg)\u001B[0m\n\u001B[1;32m    745\u001B[0m                 \u001B[0;31m# if thread has a suspend flag, we suspend with a busy wait\u001B[0m\u001B[0;34m\u001B[0m\u001B[0;34m\u001B[0m\u001B[0;34m\u001B[0m\u001B[0m\n\u001B[1;32m    746\u001B[0m                 \u001B[0;32mif\u001B[0m \u001B[0minfo\u001B[0m\u001B[0;34m.\u001B[0m\u001B[0mpydev_state\u001B[0m \u001B[0;34m==\u001B[0m \u001B[0mSTATE_SUSPEND\u001B[0m\u001B[0;34m:\u001B[0m\u001B[0;34m\u001B[0m\u001B[0;34m\u001B[0m\u001B[0m\n\u001B[0;32m--> 747\u001B[0;31m                     \u001B[0mself\u001B[0m\u001B[0;34m.\u001B[0m\u001B[0mdo_wait_suspend\u001B[0m\u001B[0;34m(\u001B[0m\u001B[0mthread\u001B[0m\u001B[0;34m,\u001B[0m \u001B[0mframe\u001B[0m\u001B[0;34m,\u001B[0m \u001B[0mevent\u001B[0m\u001B[0;34m,\u001B[0m \u001B[0marg\u001B[0m\u001B[0;34m)\u001B[0m\u001B[0;34m\u001B[0m\u001B[0;34m\u001B[0m\u001B[0m\n\u001B[0m\u001B[1;32m    748\u001B[0m                     \u001B[0;31m# No need to reset frame.f_trace to keep the same trace function.\u001B[0m\u001B[0;34m\u001B[0m\u001B[0;34m\u001B[0m\u001B[0;34m\u001B[0m\u001B[0m\n\u001B[1;32m    749\u001B[0m                     \u001B[0;32mreturn\u001B[0m \u001B[0mself\u001B[0m\u001B[0;34m.\u001B[0m\u001B[0mtrace_dispatch\u001B[0m\u001B[0;34m\u001B[0m\u001B[0;34m\u001B[0m\u001B[0m\n",
      "\u001B[0;32m~/.local/share/JetBrains/Toolbox/apps/PyCharm-P/ch-0/211.7142.13/plugins/python/helpers/pydev/_pydevd_bundle/pydevd_frame.py\u001B[0m in \u001B[0;36mdo_wait_suspend\u001B[0;34m(self, *args, **kwargs)\u001B[0m\n\u001B[1;32m    142\u001B[0m \u001B[0;34m\u001B[0m\u001B[0m\n\u001B[1;32m    143\u001B[0m     \u001B[0;32mdef\u001B[0m \u001B[0mdo_wait_suspend\u001B[0m\u001B[0;34m(\u001B[0m\u001B[0mself\u001B[0m\u001B[0;34m,\u001B[0m \u001B[0;34m*\u001B[0m\u001B[0margs\u001B[0m\u001B[0;34m,\u001B[0m \u001B[0;34m**\u001B[0m\u001B[0mkwargs\u001B[0m\u001B[0;34m)\u001B[0m\u001B[0;34m:\u001B[0m\u001B[0;34m\u001B[0m\u001B[0;34m\u001B[0m\u001B[0m\n\u001B[0;32m--> 144\u001B[0;31m         \u001B[0mself\u001B[0m\u001B[0;34m.\u001B[0m\u001B[0m_args\u001B[0m\u001B[0;34m[\u001B[0m\u001B[0;36m0\u001B[0m\u001B[0;34m]\u001B[0m\u001B[0;34m.\u001B[0m\u001B[0mdo_wait_suspend\u001B[0m\u001B[0;34m(\u001B[0m\u001B[0;34m*\u001B[0m\u001B[0margs\u001B[0m\u001B[0;34m,\u001B[0m \u001B[0;34m**\u001B[0m\u001B[0mkwargs\u001B[0m\u001B[0;34m)\u001B[0m\u001B[0;34m\u001B[0m\u001B[0;34m\u001B[0m\u001B[0m\n\u001B[0m\u001B[1;32m    145\u001B[0m \u001B[0;34m\u001B[0m\u001B[0m\n\u001B[1;32m    146\u001B[0m     \u001B[0;31m# IFDEF CYTHON\u001B[0m\u001B[0;34m\u001B[0m\u001B[0;34m\u001B[0m\u001B[0;34m\u001B[0m\u001B[0m\n",
      "\u001B[0;32m~/.local/share/JetBrains/Toolbox/apps/PyCharm-P/ch-0/211.7142.13/plugins/python/helpers/pydev/pydevd.py\u001B[0m in \u001B[0;36mdo_wait_suspend\u001B[0;34m(self, thread, frame, event, arg, send_suspend_message, is_unhandled_exception)\u001B[0m\n\u001B[1;32m   1145\u001B[0m \u001B[0;34m\u001B[0m\u001B[0m\n\u001B[1;32m   1146\u001B[0m         \u001B[0;32mwith\u001B[0m \u001B[0mself\u001B[0m\u001B[0;34m.\u001B[0m\u001B[0m_threads_suspended_single_notification\u001B[0m\u001B[0;34m.\u001B[0m\u001B[0mnotify_thread_suspended\u001B[0m\u001B[0;34m(\u001B[0m\u001B[0mthread_id\u001B[0m\u001B[0;34m,\u001B[0m \u001B[0mstop_reason\u001B[0m\u001B[0;34m)\u001B[0m\u001B[0;34m:\u001B[0m\u001B[0;34m\u001B[0m\u001B[0;34m\u001B[0m\u001B[0m\n\u001B[0;32m-> 1147\u001B[0;31m             \u001B[0mself\u001B[0m\u001B[0;34m.\u001B[0m\u001B[0m_do_wait_suspend\u001B[0m\u001B[0;34m(\u001B[0m\u001B[0mthread\u001B[0m\u001B[0;34m,\u001B[0m \u001B[0mframe\u001B[0m\u001B[0;34m,\u001B[0m \u001B[0mevent\u001B[0m\u001B[0;34m,\u001B[0m \u001B[0marg\u001B[0m\u001B[0;34m,\u001B[0m \u001B[0msuspend_type\u001B[0m\u001B[0;34m,\u001B[0m \u001B[0mfrom_this_thread\u001B[0m\u001B[0;34m)\u001B[0m\u001B[0;34m\u001B[0m\u001B[0;34m\u001B[0m\u001B[0m\n\u001B[0m\u001B[1;32m   1148\u001B[0m \u001B[0;34m\u001B[0m\u001B[0m\n\u001B[1;32m   1149\u001B[0m     \u001B[0;32mdef\u001B[0m \u001B[0m_do_wait_suspend\u001B[0m\u001B[0;34m(\u001B[0m\u001B[0mself\u001B[0m\u001B[0;34m,\u001B[0m \u001B[0mthread\u001B[0m\u001B[0;34m,\u001B[0m \u001B[0mframe\u001B[0m\u001B[0;34m,\u001B[0m \u001B[0mevent\u001B[0m\u001B[0;34m,\u001B[0m \u001B[0marg\u001B[0m\u001B[0;34m,\u001B[0m \u001B[0msuspend_type\u001B[0m\u001B[0;34m,\u001B[0m \u001B[0mfrom_this_thread\u001B[0m\u001B[0;34m)\u001B[0m\u001B[0;34m:\u001B[0m\u001B[0;34m\u001B[0m\u001B[0;34m\u001B[0m\u001B[0m\n",
      "\u001B[0;32m~/.local/share/JetBrains/Toolbox/apps/PyCharm-P/ch-0/211.7142.13/plugins/python/helpers/pydev/pydevd.py\u001B[0m in \u001B[0;36m_do_wait_suspend\u001B[0;34m(self, thread, frame, event, arg, suspend_type, from_this_thread)\u001B[0m\n\u001B[1;32m   1160\u001B[0m \u001B[0;34m\u001B[0m\u001B[0m\n\u001B[1;32m   1161\u001B[0m                 \u001B[0mself\u001B[0m\u001B[0;34m.\u001B[0m\u001B[0mprocess_internal_commands\u001B[0m\u001B[0;34m(\u001B[0m\u001B[0;34m)\u001B[0m\u001B[0;34m\u001B[0m\u001B[0;34m\u001B[0m\u001B[0m\n\u001B[0;32m-> 1162\u001B[0;31m                 \u001B[0mtime\u001B[0m\u001B[0;34m.\u001B[0m\u001B[0msleep\u001B[0m\u001B[0;34m(\u001B[0m\u001B[0;36m0.01\u001B[0m\u001B[0;34m)\u001B[0m\u001B[0;34m\u001B[0m\u001B[0;34m\u001B[0m\u001B[0m\n\u001B[0m\u001B[1;32m   1163\u001B[0m \u001B[0;34m\u001B[0m\u001B[0m\n\u001B[1;32m   1164\u001B[0m         \u001B[0mself\u001B[0m\u001B[0;34m.\u001B[0m\u001B[0mcancel_async_evaluation\u001B[0m\u001B[0;34m(\u001B[0m\u001B[0mget_current_thread_id\u001B[0m\u001B[0;34m(\u001B[0m\u001B[0mthread\u001B[0m\u001B[0;34m)\u001B[0m\u001B[0;34m,\u001B[0m \u001B[0mstr\u001B[0m\u001B[0;34m(\u001B[0m\u001B[0mid\u001B[0m\u001B[0;34m(\u001B[0m\u001B[0mframe\u001B[0m\u001B[0;34m)\u001B[0m\u001B[0;34m)\u001B[0m\u001B[0;34m)\u001B[0m\u001B[0;34m\u001B[0m\u001B[0;34m\u001B[0m\u001B[0m\n",
      "\u001B[0;31mKeyboardInterrupt\u001B[0m: "
     ]
    }
   ],
   "source": [
    "# result_df = pd.read_json(output_recommendations, orient=\"table\")\n",
    "if should_take_best_partition:\n",
    "    res = []\n",
    "    for group_name, df_group in result_df.groupby(\"user\"):\n",
    "        highest_hit = 0\n",
    "        partition_to_take = 0\n",
    "        for _, row in df_group.iterrows():\n",
    "            if len(row[\"hits\"]) == 0:\n",
    "                continue\n",
    "            hit = row[\"hits\"][0]\n",
    "            if hit > highest_hit:\n",
    "                highest_hit = hit\n",
    "                partition_to_take = row[\"partition\"]\n",
    "        result = df_group[df_group[\"partition\"] == partition_to_take]\n",
    "        res.append(df_group[df_group[\"partition\"] == partition_to_take])\n",
    "\n",
    "    best_partition_df = pd.concat(res, ignore_index=True)\n",
    "    best_partition_df[\"partition\"] = \"merged 2\"\n",
    "    best_partition_df.to_json(output_best_partition_recommendations, index=False, orient=\"table\")\n"
   ],
   "metadata": {
    "collapsed": false,
    "pycharm": {
     "name": "#%%\n"
    }
   }
  },
  {
   "cell_type": "code",
   "execution_count": null,
   "outputs": [],
   "source": [],
   "metadata": {
    "collapsed": false,
    "pycharm": {
     "name": "#%%\n"
    }
   }
  }
 ],
 "metadata": {
  "celltoolbar": "Tags",
  "kernelspec": {
   "display_name": "Python 3",
   "language": "python",
   "name": "python3"
  },
  "language_info": {
   "codemirror_mode": {
    "name": "ipython",
    "version": 3
   },
   "file_extension": ".py",
   "mimetype": "text/x-python",
   "name": "python",
   "nbconvert_exporter": "python",
   "pygments_lexer": "ipython3",
   "version": "3.8.5"
  }
 },
 "nbformat": 4,
 "nbformat_minor": 4
}