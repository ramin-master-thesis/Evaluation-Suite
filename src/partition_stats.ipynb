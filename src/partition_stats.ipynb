{
 "cells": [
  {
   "cell_type": "code",
   "execution_count": 5,
   "metadata": {},
   "outputs": [],
   "source": [
    "import pandas as pd\n",
    "import requests as rq"
   ]
  },
  {
   "cell_type": "code",
   "execution_count": 9,
   "metadata": {
    "pycharm": {
     "name": "#%%\n"
    },
    "tags": [
     "parameters"
    ]
   },
   "outputs": [],
   "source": [
    "# Parameters\n",
    "host = \"localhost\"\n",
    "\n",
    "hash_function = \"Single\"\n",
    "partition_port = {\"Partition\": \"5000\"}\n",
    "\n",
    "output_status = f\"../output/{hash_function}_status.csv\""
   ]
  },
  {
   "cell_type": "code",
   "execution_count": 10,
   "metadata": {
    "pycharm": {
     "name": "#%%\n"
    }
   },
   "outputs": [],
   "source": [
    "def get_stats(partition_port):\n",
    "    rows = []\n",
    "\n",
    "    for partition in partition_port:\n",
    "        port = partition_port[partition]\n",
    "        print(f\"gathering stats from port: {port} and partition {partition} hash_function: {hash_function}\")\n",
    "        url = f\"http://{host}:{port}/status/\"\n",
    "        response = rq.get(url)\n",
    "\n",
    "        response_body = response.json() if response.status_code == 200 else []\n",
    "        edges = response_body[\"edges\"]\n",
    "        left_nodes = response_body[\"left-nodes\"]\n",
    "        right_nodes = response_body[\"right-nodes\"]\n",
    "        rows.append((hash_function, partition, edges, left_nodes, right_nodes))\n",
    "\n",
    "    return pd.DataFrame(rows, columns=[\"hash_function\", \"partition\", \"edges\", \"left_nodes\", \"right_nodes\"])"
   ]
  },
  {
   "cell_type": "code",
   "execution_count": 11,
   "metadata": {
    "pycharm": {
     "name": "#%%\n"
    }
   },
   "outputs": [
    {
     "name": "stdout",
     "output_type": "stream",
     "text": [
      "gathering stats from port: 5000 and partition Partition hash_function: Single\n"
     ]
    }
   ],
   "source": [
    "output_df = get_stats(partition_port)\n",
    "\n",
    "output_df.to_csv(output_status, index=False)"
   ]
  },
  {
   "cell_type": "code",
   "execution_count": null,
   "metadata": {},
   "outputs": [],
   "source": []
  }
 ],
 "metadata": {
  "celltoolbar": "Tags",
  "kernelspec": {
   "display_name": "Python 3",
   "language": "python",
   "name": "python3"
  },
  "language_info": {
   "codemirror_mode": {
    "name": "ipython",
    "version": 3
   },
   "file_extension": ".py",
   "mimetype": "text/x-python",
   "name": "python",
   "nbconvert_exporter": "python",
   "pygments_lexer": "ipython3",
   "version": "3.8.5"
  }
 },
 "nbformat": 4,
 "nbformat_minor": 1
}