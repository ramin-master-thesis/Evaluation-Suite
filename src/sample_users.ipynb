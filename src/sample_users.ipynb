{
 "cells": [
  {
   "cell_type": "code",
   "execution_count": 10,
   "metadata": {},
   "outputs": [
    {
     "name": "stdout",
     "output_type": "stream",
     "text": [
      "Requirement already satisfied: fastparquet in /home/ramin/Developer/venv/salsa-evaluation/lib/python3.8/site-packages (0.5.0)\r\n",
      "Requirement already satisfied: numba>=0.49 in /home/ramin/Developer/venv/salsa-evaluation/lib/python3.8/site-packages (from fastparquet) (0.53.1)\r\n",
      "Requirement already satisfied: numpy>=1.11 in /home/ramin/Developer/venv/salsa-evaluation/lib/python3.8/site-packages (from fastparquet) (1.20.2)\r\n",
      "Requirement already satisfied: pandas>=1.1.0 in /home/ramin/Developer/venv/salsa-evaluation/lib/python3.8/site-packages (from fastparquet) (1.2.4)\r\n",
      "Requirement already satisfied: thrift>=0.11.0 in /home/ramin/Developer/venv/salsa-evaluation/lib/python3.8/site-packages (from fastparquet) (0.13.0)\r\n",
      "Requirement already satisfied: setuptools in /home/ramin/Developer/venv/salsa-evaluation/lib/python3.8/site-packages (from numba>=0.49->fastparquet) (56.0.0)\r\n",
      "Requirement already satisfied: llvmlite<0.37,>=0.36.0rc1 in /home/ramin/Developer/venv/salsa-evaluation/lib/python3.8/site-packages (from numba>=0.49->fastparquet) (0.36.0)\r\n",
      "Requirement already satisfied: python-dateutil>=2.7.3 in /home/ramin/Developer/venv/salsa-evaluation/lib/python3.8/site-packages (from pandas>=1.1.0->fastparquet) (2.8.1)\r\n",
      "Requirement already satisfied: pytz>=2017.3 in /home/ramin/Developer/venv/salsa-evaluation/lib/python3.8/site-packages (from pandas>=1.1.0->fastparquet) (2021.1)\r\n",
      "Requirement already satisfied: six>=1.5 in /home/ramin/Developer/venv/salsa-evaluation/lib/python3.8/site-packages (from python-dateutil>=2.7.3->pandas>=1.1.0->fastparquet) (1.15.0)\r\n",
      "\u001B[33mWARNING: You are using pip version 21.0.1; however, version 21.1.2 is available.\r\n",
      "You should consider upgrading via the '/home/ramin/Developer/venv/salsa-evaluation/bin/python -m pip install --upgrade pip' command.\u001B[0m\r\n",
      "Note: you may need to restart the kernel to use updated packages.\n"
     ]
    }
   ],
   "source": [
    "%pip install fastparquet\n",
    "\n",
    "import pandas as pd"
   ]
  },
  {
   "cell_type": "code",
   "execution_count": 69,
   "metadata": {
    "tags": [
     "parameters"
    ]
   },
   "outputs": [],
   "source": [
    "# Parameters\n",
    "data = \"../../salsa/data/single_partition/partition_0/left_index.gzip\"\n",
    "sample = 4\n",
    "min_interactions = 10\n",
    "output = \"../data/users.json\""
   ]
  },
  {
   "cell_type": "code",
   "execution_count": 70,
   "metadata": {},
   "outputs": [],
   "source": [
    "# Import users from dataset\n",
    "keep_columns = [0, 1]\n",
    "\n",
    "df = pd.read_parquet(data, columns=['adjacency_list', 'user_id'])\n",
    "df.reset_index(level=0, inplace=True)"
   ]
  },
  {
   "cell_type": "code",
   "execution_count": 71,
   "metadata": {},
   "outputs": [],
   "source": [
    "df[\"len_adjacency_list\"] = df[\"adjacency_list\"].str.len()\n",
    "active_users = df[df[\"len_adjacency_list\"] >= min_interactions]"
   ]
  },
  {
   "cell_type": "code",
   "execution_count": 72,
   "metadata": {},
   "outputs": [
    {
     "data": {
      "text/plain": "                     user_id  \\\n2553955  1171995686260183043   \n1249004           2711518648   \n3528829  1366766574003183622   \n2127683  1004470385859891200   \n\n                                            adjacency_list  len_adjacency_list  \n2553955  [1367303245622767619, 1366739413942738946, 136...                  12  \n1249004  [1358829219313238018, 1367314260846469125, 136...                  26  \n3528829  [1367203640927268864, 1367436501135609857, 136...                  26  \n2127683  [1367475641680080898, 1367220355908202496, 136...                  24  ",
      "text/html": "<div>\n<style scoped>\n    .dataframe tbody tr th:only-of-type {\n        vertical-align: middle;\n    }\n\n    .dataframe tbody tr th {\n        vertical-align: top;\n    }\n\n    .dataframe thead th {\n        text-align: right;\n    }\n</style>\n<table border=\"1\" class=\"dataframe\">\n  <thead>\n    <tr style=\"text-align: right;\">\n      <th></th>\n      <th>user_id</th>\n      <th>adjacency_list</th>\n      <th>len_adjacency_list</th>\n    </tr>\n  </thead>\n  <tbody>\n    <tr>\n      <th>2553955</th>\n      <td>1171995686260183043</td>\n      <td>[1367303245622767619, 1366739413942738946, 136...</td>\n      <td>12</td>\n    </tr>\n    <tr>\n      <th>1249004</th>\n      <td>2711518648</td>\n      <td>[1358829219313238018, 1367314260846469125, 136...</td>\n      <td>26</td>\n    </tr>\n    <tr>\n      <th>3528829</th>\n      <td>1366766574003183622</td>\n      <td>[1367203640927268864, 1367436501135609857, 136...</td>\n      <td>26</td>\n    </tr>\n    <tr>\n      <th>2127683</th>\n      <td>1004470385859891200</td>\n      <td>[1367475641680080898, 1367220355908202496, 136...</td>\n      <td>24</td>\n    </tr>\n  </tbody>\n</table>\n</div>"
     },
     "execution_count": 72,
     "metadata": {},
     "output_type": "execute_result"
    }
   ],
   "source": [
    "# Sample users\n",
    "if sample:\n",
    "    active_users = active_users.sample(n=sample)\n",
    "\n",
    "active_users"
   ]
  },
  {
   "cell_type": "code",
   "execution_count": 73,
   "metadata": {
    "pycharm": {
     "name": "#%%\n"
    }
   },
   "outputs": [
    {
     "data": {
      "text/plain": "               user_id                                     adjacency_list  \\\n0  1171995686260183043  [1367303245622767619, 1366739413942738946, 136...   \n1           2711518648  [1358829219313238018, 1367314260846469125, 136...   \n2  1366766574003183622  [1367203640927268864, 1367436501135609857, 136...   \n3  1004470385859891200  [1367475641680080898, 1367220355908202496, 136...   \n\n   len_adjacency_list  \n0                  12  \n1                  26  \n2                  26  \n3                  24  ",
      "text/html": "<div>\n<style scoped>\n    .dataframe tbody tr th:only-of-type {\n        vertical-align: middle;\n    }\n\n    .dataframe tbody tr th {\n        vertical-align: top;\n    }\n\n    .dataframe thead th {\n        text-align: right;\n    }\n</style>\n<table border=\"1\" class=\"dataframe\">\n  <thead>\n    <tr style=\"text-align: right;\">\n      <th></th>\n      <th>user_id</th>\n      <th>adjacency_list</th>\n      <th>len_adjacency_list</th>\n    </tr>\n  </thead>\n  <tbody>\n    <tr>\n      <th>0</th>\n      <td>1171995686260183043</td>\n      <td>[1367303245622767619, 1366739413942738946, 136...</td>\n      <td>12</td>\n    </tr>\n    <tr>\n      <th>1</th>\n      <td>2711518648</td>\n      <td>[1358829219313238018, 1367314260846469125, 136...</td>\n      <td>26</td>\n    </tr>\n    <tr>\n      <th>2</th>\n      <td>1366766574003183622</td>\n      <td>[1367203640927268864, 1367436501135609857, 136...</td>\n      <td>26</td>\n    </tr>\n    <tr>\n      <th>3</th>\n      <td>1004470385859891200</td>\n      <td>[1367475641680080898, 1367220355908202496, 136...</td>\n      <td>24</td>\n    </tr>\n  </tbody>\n</table>\n</div>"
     },
     "execution_count": 73,
     "metadata": {},
     "output_type": "execute_result"
    }
   ],
   "source": [
    "# Save results\n",
    "active_users[\"user_id\"].to_json(output, orient=\"table\", index=False)\n",
    "active_users.reset_index(drop=True)"
   ]
  },
  {
   "cell_type": "code",
   "execution_count": 80,
   "metadata": {
    "pycharm": {
     "name": "#%%\n"
    }
   },
   "outputs": [],
   "source": [
    "# active_users = active_users.set_index('user_id')\n",
    "df = active_users[\"adjacency_list\"].apply(pd.Series).unstack().reset_index(level=0, drop=True).dropna()\n",
    "df = df.to_frame()\n",
    "df.rename(columns={0: \"tweet_id\"}, inplace=True)\n",
    "# df[\"id\"] = df.index\n",
    "df[\"tweet_id\"] = df['tweet_id'].astype('Int64')\n",
    "df[\"user_id\"] = df.index\n",
    "# list(df.columns)\n",
    "\n",
    "df.reset_index(inplace=True, drop=True)\n",
    "# df.rename(columns={\"id\": \"user_id\"}, inplace=True)\n",
    "df.to_csv(\"../data/graph.edgelist\", sep=\" \", header=False, index=False)"
   ]
  },
  {
   "cell_type": "code",
   "execution_count": 65,
   "outputs": [],
   "source": [],
   "metadata": {
    "collapsed": false,
    "pycharm": {
     "name": "#%%\n"
    }
   }
  }
 ],
 "metadata": {
  "celltoolbar": "Tags",
  "kernelspec": {
   "display_name": "Python 3",
   "language": "python",
   "name": "python3"
  },
  "language_info": {
   "codemirror_mode": {
    "name": "ipython",
    "version": 3
   },
   "file_extension": ".py",
   "mimetype": "text/x-python",
   "name": "python",
   "nbconvert_exporter": "python",
   "pygments_lexer": "ipython3",
   "version": "3.8.5"
  }
 },
 "nbformat": 4,
 "nbformat_minor": 4
}