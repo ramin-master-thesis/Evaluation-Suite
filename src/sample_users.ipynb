{
 "cells": [
  {
   "cell_type": "code",
   "execution_count": 2,
   "metadata": {},
   "outputs": [
    {
     "name": "stdout",
     "output_type": "stream",
     "text": [
      "Requirement already satisfied: fastparquet in /home/ramin/Developer/venv/salsa-evaluation/lib/python3.8/site-packages (0.5.0)\r\n",
      "Requirement already satisfied: numpy>=1.11 in /home/ramin/Developer/venv/salsa-evaluation/lib/python3.8/site-packages (from fastparquet) (1.20.2)\r\n",
      "Requirement already satisfied: numba>=0.49 in /home/ramin/Developer/venv/salsa-evaluation/lib/python3.8/site-packages (from fastparquet) (0.53.1)\r\n",
      "Requirement already satisfied: thrift>=0.11.0 in /home/ramin/Developer/venv/salsa-evaluation/lib/python3.8/site-packages (from fastparquet) (0.13.0)\r\n",
      "Requirement already satisfied: pandas>=1.1.0 in /home/ramin/Developer/venv/salsa-evaluation/lib/python3.8/site-packages (from fastparquet) (1.2.4)\r\n",
      "Requirement already satisfied: setuptools in /home/ramin/Developer/venv/salsa-evaluation/lib/python3.8/site-packages (from numba>=0.49->fastparquet) (56.0.0)\r\n",
      "Requirement already satisfied: llvmlite<0.37,>=0.36.0rc1 in /home/ramin/Developer/venv/salsa-evaluation/lib/python3.8/site-packages (from numba>=0.49->fastparquet) (0.36.0)\r\n",
      "Requirement already satisfied: python-dateutil>=2.7.3 in /home/ramin/Developer/venv/salsa-evaluation/lib/python3.8/site-packages (from pandas>=1.1.0->fastparquet) (2.8.1)\r\n",
      "Requirement already satisfied: pytz>=2017.3 in /home/ramin/Developer/venv/salsa-evaluation/lib/python3.8/site-packages (from pandas>=1.1.0->fastparquet) (2021.1)\r\n",
      "Requirement already satisfied: six>=1.5 in /home/ramin/Developer/venv/salsa-evaluation/lib/python3.8/site-packages (from python-dateutil>=2.7.3->pandas>=1.1.0->fastparquet) (1.15.0)\r\n",
      "\u001B[33mWARNING: You are using pip version 21.0.1; however, version 21.1.3 is available.\r\n",
      "You should consider upgrading via the '/home/ramin/Developer/venv/salsa-evaluation/bin/python -m pip install --upgrade pip' command.\u001B[0m\r\n",
      "Note: you may need to restart the kernel to use updated packages.\n"
     ]
    }
   ],
   "source": [
    "%pip install fastparquet\n",
    "\n",
    "import pandas as pd"
   ]
  },
  {
   "cell_type": "code",
   "execution_count": 3,
   "metadata": {
    "tags": [
     "parameters"
    ]
   },
   "outputs": [],
   "source": [
    "# Parameters\n",
    "data = \"../../salsa/data/single_partition/partition_0/left_index.gzip\"\n",
    "sample = 2000\n",
    "min_interactions = 16\n",
    "output = \"../data/users.json\""
   ]
  },
  {
   "cell_type": "code",
   "execution_count": 4,
   "metadata": {},
   "outputs": [],
   "source": [
    "# Import users from dataset\n",
    "keep_columns = [0, 1]\n",
    "\n",
    "df = pd.read_parquet(data, columns=['adjacency_list', 'user_id'])\n",
    "df.reset_index(level=0, inplace=True)"
   ]
  },
  {
   "cell_type": "code",
   "execution_count": 5,
   "metadata": {},
   "outputs": [],
   "source": [
    "df[\"len_adjacency_list\"] = df[\"adjacency_list\"].str.len()\n",
    "active_users = df[df[\"len_adjacency_list\"] >= min_interactions]"
   ]
  },
  {
   "cell_type": "code",
   "execution_count": 6,
   "metadata": {},
   "outputs": [
    {
     "data": {
      "text/plain": "                     user_id  \\\n1016509           4760671340   \n1019762           4817927613   \n666459            1401185270   \n2144879  1358225702999502859   \n898247            3020900987   \n...                      ...   \n1661653  1193528624042762241   \n1460552  1070853360033689600   \n1509235  1101636431959781376   \n1231580   889939344668151808   \n1615995  1167738221440184321   \n\n                                            adjacency_list  len_adjacency_list  \n1016509  [1365101939126583296, 1364807212204511232, 136...                  25  \n1019762  [1364975206150864896, 1365524779004923904, 136...                  25  \n666459   [1364613338622222336, 1364582399837827072, 136...                  41  \n2144879  [1361385414628573184, 1361385022855532544, 136...                  27  \n898247   [1365639321596944384, 1365602752563396608, 136...                  30  \n...                                                    ...                 ...  \n1661653  [1364907506984644608, 1365651156735725568, 136...                  26  \n1460552  [1361727060872482816, 1365188695687655424, 136...                  28  \n1509235  [1365065121962229760, 1364637562128789504, 136...                  32  \n1231580  [1364932015729090560, 1364981695565324288, 136...                  31  \n1615995  [1364490862554714112, 1365717052821016576, 136...                  25  \n\n[2000 rows x 3 columns]",
      "text/html": "<div>\n<style scoped>\n    .dataframe tbody tr th:only-of-type {\n        vertical-align: middle;\n    }\n\n    .dataframe tbody tr th {\n        vertical-align: top;\n    }\n\n    .dataframe thead th {\n        text-align: right;\n    }\n</style>\n<table border=\"1\" class=\"dataframe\">\n  <thead>\n    <tr style=\"text-align: right;\">\n      <th></th>\n      <th>user_id</th>\n      <th>adjacency_list</th>\n      <th>len_adjacency_list</th>\n    </tr>\n  </thead>\n  <tbody>\n    <tr>\n      <th>1016509</th>\n      <td>4760671340</td>\n      <td>[1365101939126583296, 1364807212204511232, 136...</td>\n      <td>25</td>\n    </tr>\n    <tr>\n      <th>1019762</th>\n      <td>4817927613</td>\n      <td>[1364975206150864896, 1365524779004923904, 136...</td>\n      <td>25</td>\n    </tr>\n    <tr>\n      <th>666459</th>\n      <td>1401185270</td>\n      <td>[1364613338622222336, 1364582399837827072, 136...</td>\n      <td>41</td>\n    </tr>\n    <tr>\n      <th>2144879</th>\n      <td>1358225702999502859</td>\n      <td>[1361385414628573184, 1361385022855532544, 136...</td>\n      <td>27</td>\n    </tr>\n    <tr>\n      <th>898247</th>\n      <td>3020900987</td>\n      <td>[1365639321596944384, 1365602752563396608, 136...</td>\n      <td>30</td>\n    </tr>\n    <tr>\n      <th>...</th>\n      <td>...</td>\n      <td>...</td>\n      <td>...</td>\n    </tr>\n    <tr>\n      <th>1661653</th>\n      <td>1193528624042762241</td>\n      <td>[1364907506984644608, 1365651156735725568, 136...</td>\n      <td>26</td>\n    </tr>\n    <tr>\n      <th>1460552</th>\n      <td>1070853360033689600</td>\n      <td>[1361727060872482816, 1365188695687655424, 136...</td>\n      <td>28</td>\n    </tr>\n    <tr>\n      <th>1509235</th>\n      <td>1101636431959781376</td>\n      <td>[1365065121962229760, 1364637562128789504, 136...</td>\n      <td>32</td>\n    </tr>\n    <tr>\n      <th>1231580</th>\n      <td>889939344668151808</td>\n      <td>[1364932015729090560, 1364981695565324288, 136...</td>\n      <td>31</td>\n    </tr>\n    <tr>\n      <th>1615995</th>\n      <td>1167738221440184321</td>\n      <td>[1364490862554714112, 1365717052821016576, 136...</td>\n      <td>25</td>\n    </tr>\n  </tbody>\n</table>\n<p>2000 rows × 3 columns</p>\n</div>"
     },
     "execution_count": 6,
     "metadata": {},
     "output_type": "execute_result"
    }
   ],
   "source": [
    "# Sample users\n",
    "if sample:\n",
    "    active_users = active_users.sample(n=sample)\n",
    "\n",
    "active_users"
   ]
  },
  {
   "cell_type": "code",
   "execution_count": 7,
   "metadata": {
    "pycharm": {
     "name": "#%%\n"
    }
   },
   "outputs": [
    {
     "data": {
      "text/plain": "                  user_id                                     adjacency_list  \\\n0              4760671340  [1365101939126583296, 1364807212204511232, 136...   \n1              4817927613  [1364975206150864896, 1365524779004923904, 136...   \n2              1401185270  [1364613338622222336, 1364582399837827072, 136...   \n3     1358225702999502859  [1361385414628573184, 1361385022855532544, 136...   \n4              3020900987  [1365639321596944384, 1365602752563396608, 136...   \n...                   ...                                                ...   \n1995  1193528624042762241  [1364907506984644608, 1365651156735725568, 136...   \n1996  1070853360033689600  [1361727060872482816, 1365188695687655424, 136...   \n1997  1101636431959781376  [1365065121962229760, 1364637562128789504, 136...   \n1998   889939344668151808  [1364932015729090560, 1364981695565324288, 136...   \n1999  1167738221440184321  [1364490862554714112, 1365717052821016576, 136...   \n\n      len_adjacency_list  \n0                     25  \n1                     25  \n2                     41  \n3                     27  \n4                     30  \n...                  ...  \n1995                  26  \n1996                  28  \n1997                  32  \n1998                  31  \n1999                  25  \n\n[2000 rows x 3 columns]",
      "text/html": "<div>\n<style scoped>\n    .dataframe tbody tr th:only-of-type {\n        vertical-align: middle;\n    }\n\n    .dataframe tbody tr th {\n        vertical-align: top;\n    }\n\n    .dataframe thead th {\n        text-align: right;\n    }\n</style>\n<table border=\"1\" class=\"dataframe\">\n  <thead>\n    <tr style=\"text-align: right;\">\n      <th></th>\n      <th>user_id</th>\n      <th>adjacency_list</th>\n      <th>len_adjacency_list</th>\n    </tr>\n  </thead>\n  <tbody>\n    <tr>\n      <th>0</th>\n      <td>4760671340</td>\n      <td>[1365101939126583296, 1364807212204511232, 136...</td>\n      <td>25</td>\n    </tr>\n    <tr>\n      <th>1</th>\n      <td>4817927613</td>\n      <td>[1364975206150864896, 1365524779004923904, 136...</td>\n      <td>25</td>\n    </tr>\n    <tr>\n      <th>2</th>\n      <td>1401185270</td>\n      <td>[1364613338622222336, 1364582399837827072, 136...</td>\n      <td>41</td>\n    </tr>\n    <tr>\n      <th>3</th>\n      <td>1358225702999502859</td>\n      <td>[1361385414628573184, 1361385022855532544, 136...</td>\n      <td>27</td>\n    </tr>\n    <tr>\n      <th>4</th>\n      <td>3020900987</td>\n      <td>[1365639321596944384, 1365602752563396608, 136...</td>\n      <td>30</td>\n    </tr>\n    <tr>\n      <th>...</th>\n      <td>...</td>\n      <td>...</td>\n      <td>...</td>\n    </tr>\n    <tr>\n      <th>1995</th>\n      <td>1193528624042762241</td>\n      <td>[1364907506984644608, 1365651156735725568, 136...</td>\n      <td>26</td>\n    </tr>\n    <tr>\n      <th>1996</th>\n      <td>1070853360033689600</td>\n      <td>[1361727060872482816, 1365188695687655424, 136...</td>\n      <td>28</td>\n    </tr>\n    <tr>\n      <th>1997</th>\n      <td>1101636431959781376</td>\n      <td>[1365065121962229760, 1364637562128789504, 136...</td>\n      <td>32</td>\n    </tr>\n    <tr>\n      <th>1998</th>\n      <td>889939344668151808</td>\n      <td>[1364932015729090560, 1364981695565324288, 136...</td>\n      <td>31</td>\n    </tr>\n    <tr>\n      <th>1999</th>\n      <td>1167738221440184321</td>\n      <td>[1364490862554714112, 1365717052821016576, 136...</td>\n      <td>25</td>\n    </tr>\n  </tbody>\n</table>\n<p>2000 rows × 3 columns</p>\n</div>"
     },
     "execution_count": 7,
     "metadata": {},
     "output_type": "execute_result"
    }
   ],
   "source": [
    "# Save results\n",
    "active_users[\"user_id\"].to_json(output, orient=\"table\", index=False)\n",
    "active_users.reset_index(drop=True)"
   ]
  },
  {
   "cell_type": "code",
   "execution_count": 80,
   "metadata": {
    "pycharm": {
     "name": "#%%\n"
    }
   },
   "outputs": [],
   "source": []
  }
 ],
 "metadata": {
  "celltoolbar": "Tags",
  "kernelspec": {
   "display_name": "Python 3",
   "language": "python",
   "name": "python3"
  },
  "language_info": {
   "codemirror_mode": {
    "name": "ipython",
    "version": 3
   },
   "file_extension": ".py",
   "mimetype": "text/x-python",
   "name": "python",
   "nbconvert_exporter": "python",
   "pygments_lexer": "ipython3",
   "version": "3.8.5"
  }
 },
 "nbformat": 4,
 "nbformat_minor": 4
}