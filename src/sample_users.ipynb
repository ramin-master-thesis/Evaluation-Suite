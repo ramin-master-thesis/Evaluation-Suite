{
 "cells": [
  {
   "cell_type": "code",
   "execution_count": 12,
   "metadata": {},
   "outputs": [
    {
     "name": "stdout",
     "output_type": "stream",
     "text": [
      "Requirement already satisfied: fastparquet in /home/ramin/anaconda3/lib/python3.8/site-packages (0.5.0)\n",
      "Requirement already satisfied: numpy>=1.11 in /home/ramin/anaconda3/lib/python3.8/site-packages (from fastparquet) (1.19.2)\n",
      "Requirement already satisfied: thrift>=0.11.0 in /home/ramin/anaconda3/lib/python3.8/site-packages (from fastparquet) (0.13.0)\n",
      "Requirement already satisfied: pandas>=1.1.0 in /home/ramin/anaconda3/lib/python3.8/site-packages (from fastparquet) (1.1.3)\n",
      "Requirement already satisfied: numba>=0.49 in /home/ramin/anaconda3/lib/python3.8/site-packages (from fastparquet) (0.51.2)\n",
      "Requirement already satisfied: six>=1.7.2 in /home/ramin/anaconda3/lib/python3.8/site-packages (from thrift>=0.11.0->fastparquet) (1.15.0)\n",
      "Requirement already satisfied: pytz>=2017.2 in /home/ramin/anaconda3/lib/python3.8/site-packages (from pandas>=1.1.0->fastparquet) (2020.1)\n",
      "Requirement already satisfied: python-dateutil>=2.7.3 in /home/ramin/anaconda3/lib/python3.8/site-packages (from pandas>=1.1.0->fastparquet) (2.8.1)\n",
      "Requirement already satisfied: llvmlite<0.35,>=0.34.0.dev0 in /home/ramin/anaconda3/lib/python3.8/site-packages (from numba>=0.49->fastparquet) (0.34.0)\n",
      "Requirement already satisfied: setuptools in /home/ramin/anaconda3/lib/python3.8/site-packages (from numba>=0.49->fastparquet) (50.3.1.post20201107)\n",
      "Note: you may need to restart the kernel to use updated packages.\n"
     ]
    }
   ],
   "source": [
    "%pip install fastparquet\n",
    "\n",
    "import pandas as pd"
   ]
  },
  {
   "cell_type": "code",
   "execution_count": 13,
   "metadata": {
    "tags": [
     "parameters"
    ]
   },
   "outputs": [],
   "source": [
    "# Parameters\n",
    "data = \"../../salsa/data/single_partition/partition_0/left_index.gzip\"\n",
    "sample = 500\n",
    "number_of_interactions = 1\n",
    "output = \"../data/users.json\""
   ]
  },
  {
   "cell_type": "code",
   "execution_count": 14,
   "metadata": {},
   "outputs": [],
   "source": [
    "# Import users from dataset\n",
    "keep_columns = [0, 1]\n",
    "\n",
    "df = pd.read_parquet(data, columns=['adjacency_list', 'user_id'])\n",
    "df.reset_index(level=0, inplace=True)"
   ]
  },
  {
   "cell_type": "code",
   "execution_count": 15,
   "metadata": {},
   "outputs": [],
   "source": [
    "df[\"len_adjacency_list\"] = df[\"adjacency_list\"].str.len()\n",
    "active_users = df[df[\"len_adjacency_list\"] > number_of_interactions][\"user_id\"]"
   ]
  },
  {
   "cell_type": "code",
   "execution_count": 16,
   "metadata": {},
   "outputs": [],
   "source": [
    "# Sample users\n",
    "if sample:\n",
    "    active_users = active_users.sample(n=sample)"
   ]
  },
  {
   "cell_type": "code",
   "execution_count": 17,
   "metadata": {
    "pycharm": {
     "name": "#%%\n"
    }
   },
   "outputs": [
    {
     "data": {
      "text/plain": [
       "0                356515976\n",
       "1       998140573008695296\n",
       "2       818876014390603776\n",
       "3                746247276\n",
       "4                716709528\n",
       "              ...         \n",
       "495     783719151684685824\n",
       "496    1326584656658132994\n",
       "497              330262748\n",
       "498     717783559579144193\n",
       "499    1012312793633230849\n",
       "Name: user_id, Length: 500, dtype: int64"
      ]
     },
     "execution_count": 17,
     "metadata": {},
     "output_type": "execute_result"
    }
   ],
   "source": [
    "# Save results\n",
    "active_users.to_json(output, orient=\"table\", index=False)\n",
    "active_users.reset_index(drop=True)"
   ]
  },
  {
   "cell_type": "code",
   "execution_count": null,
   "metadata": {},
   "outputs": [],
   "source": []
  }
 ],
 "metadata": {
  "celltoolbar": "Tags",
  "kernelspec": {
   "display_name": "Python 3",
   "language": "python",
   "name": "python3"
  },
  "language_info": {
   "codemirror_mode": {
    "name": "ipython",
    "version": 3
   },
   "file_extension": ".py",
   "mimetype": "text/x-python",
   "name": "python",
   "nbconvert_exporter": "python",
   "pygments_lexer": "ipython3",
   "version": "3.8.5"
  }
 },
 "nbformat": 4,
 "nbformat_minor": 4
}