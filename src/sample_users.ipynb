{
 "cells": [
  {
   "cell_type": "code",
   "execution_count": 2,
   "metadata": {},
   "outputs": [
    {
     "name": "stdout",
     "output_type": "stream",
     "text": [
      "Requirement already satisfied: fastparquet in /home/ramin/anaconda3/lib/python3.8/site-packages (0.5.0)\n",
      "Requirement already satisfied: numba>=0.49 in /home/ramin/anaconda3/lib/python3.8/site-packages (from fastparquet) (0.51.2)\n",
      "Requirement already satisfied: pandas>=1.1.0 in /home/ramin/anaconda3/lib/python3.8/site-packages (from fastparquet) (1.1.3)\n",
      "Requirement already satisfied: numpy>=1.11 in /home/ramin/anaconda3/lib/python3.8/site-packages (from fastparquet) (1.19.2)\n",
      "Requirement already satisfied: thrift>=0.11.0 in /home/ramin/anaconda3/lib/python3.8/site-packages (from fastparquet) (0.13.0)\n",
      "Requirement already satisfied: setuptools in /home/ramin/anaconda3/lib/python3.8/site-packages (from numba>=0.49->fastparquet) (50.3.1.post20201107)\n",
      "Requirement already satisfied: llvmlite<0.35,>=0.34.0.dev0 in /home/ramin/anaconda3/lib/python3.8/site-packages (from numba>=0.49->fastparquet) (0.34.0)\n",
      "Requirement already satisfied: python-dateutil>=2.7.3 in /home/ramin/anaconda3/lib/python3.8/site-packages (from pandas>=1.1.0->fastparquet) (2.8.1)\n",
      "Requirement already satisfied: pytz>=2017.2 in /home/ramin/anaconda3/lib/python3.8/site-packages (from pandas>=1.1.0->fastparquet) (2020.1)\n",
      "Requirement already satisfied: six>=1.7.2 in /home/ramin/anaconda3/lib/python3.8/site-packages (from thrift>=0.11.0->fastparquet) (1.15.0)\n",
      "Note: you may need to restart the kernel to use updated packages.\n"
     ]
    }
   ],
   "source": [
    "%pip install fastparquet\n",
    "\n",
    "import pandas as pd"
   ]
  },
  {
   "cell_type": "code",
   "execution_count": 3,
   "metadata": {
    "tags": [
     "parameters"
    ]
   },
   "outputs": [],
   "source": [
    "# Parameters\n",
    "data = \"../../salsa/data/single_partition/partition_0/left_index.gzip\"\n",
    "sample = 500\n",
    "number_of_interactions = 1\n",
    "output = \"../data/users.json\""
   ]
  },
  {
   "cell_type": "code",
   "execution_count": 4,
   "metadata": {},
   "outputs": [],
   "source": [
    "# Import users from dataset\n",
    "keep_columns = [0, 1]\n",
    "\n",
    "df = pd.read_parquet(data, columns=['adjacency_list', 'user_id'])\n",
    "df.reset_index(level=0, inplace=True)"
   ]
  },
  {
   "cell_type": "code",
   "execution_count": 5,
   "metadata": {},
   "outputs": [
    {
     "data": {
      "text/html": [
       "<div>\n",
       "<style scoped>\n",
       "    .dataframe tbody tr th:only-of-type {\n",
       "        vertical-align: middle;\n",
       "    }\n",
       "\n",
       "    .dataframe tbody tr th {\n",
       "        vertical-align: top;\n",
       "    }\n",
       "\n",
       "    .dataframe thead th {\n",
       "        text-align: right;\n",
       "    }\n",
       "</style>\n",
       "<table border=\"1\" class=\"dataframe\">\n",
       "  <thead>\n",
       "    <tr style=\"text-align: right;\">\n",
       "      <th></th>\n",
       "      <th>user_id</th>\n",
       "      <th>adjacency_list</th>\n",
       "      <th>len_adjacency_list</th>\n",
       "    </tr>\n",
       "  </thead>\n",
       "  <tbody>\n",
       "    <tr>\n",
       "      <th>0</th>\n",
       "      <td>12</td>\n",
       "      <td>[1367460913012346880, 1367460911875694601, 136...</td>\n",
       "      <td>73</td>\n",
       "    </tr>\n",
       "    <tr>\n",
       "      <th>2</th>\n",
       "      <td>20</td>\n",
       "      <td>[1365021188880142343, 1364471391118970882, 135...</td>\n",
       "      <td>25</td>\n",
       "    </tr>\n",
       "    <tr>\n",
       "      <th>24</th>\n",
       "      <td>785</td>\n",
       "      <td>[1368147812542603268, 1368107699125198849, 136...</td>\n",
       "      <td>26</td>\n",
       "    </tr>\n",
       "    <tr>\n",
       "      <th>31</th>\n",
       "      <td>1186</td>\n",
       "      <td>[1366834300310548483, 1367525263639072770, 136...</td>\n",
       "      <td>28</td>\n",
       "    </tr>\n",
       "    <tr>\n",
       "      <th>33</th>\n",
       "      <td>1378</td>\n",
       "      <td>[1367275474737594369, 1367600777485836289, 136...</td>\n",
       "      <td>25</td>\n",
       "    </tr>\n",
       "    <tr>\n",
       "      <th>...</th>\n",
       "      <td>...</td>\n",
       "      <td>...</td>\n",
       "      <td>...</td>\n",
       "    </tr>\n",
       "    <tr>\n",
       "      <th>3302439</th>\n",
       "      <td>1368428098597756930</td>\n",
       "      <td>[1357927702469046273, 1365897106007891970, 136...</td>\n",
       "      <td>33</td>\n",
       "    </tr>\n",
       "    <tr>\n",
       "      <th>3302541</th>\n",
       "      <td>1368459012379996162</td>\n",
       "      <td>[1368637571404816385, 1368639072026132481, 136...</td>\n",
       "      <td>12</td>\n",
       "    </tr>\n",
       "    <tr>\n",
       "      <th>3302733</th>\n",
       "      <td>1368514221969842177</td>\n",
       "      <td>[1366297151710457861, 1366277019093377024, 136...</td>\n",
       "      <td>12</td>\n",
       "    </tr>\n",
       "    <tr>\n",
       "      <th>3302941</th>\n",
       "      <td>1368570705114247170</td>\n",
       "      <td>[1366028710655090694, 1366054008738230273, 136...</td>\n",
       "      <td>11</td>\n",
       "    </tr>\n",
       "    <tr>\n",
       "      <th>3303179</th>\n",
       "      <td>1368638155096797186</td>\n",
       "      <td>[1367512443388268548, 1367658037670993925, 136...</td>\n",
       "      <td>18</td>\n",
       "    </tr>\n",
       "  </tbody>\n",
       "</table>\n",
       "<p>219787 rows × 3 columns</p>\n",
       "</div>"
      ],
      "text/plain": [
       "                     user_id  \\\n",
       "0                         12   \n",
       "2                         20   \n",
       "24                       785   \n",
       "31                      1186   \n",
       "33                      1378   \n",
       "...                      ...   \n",
       "3302439  1368428098597756930   \n",
       "3302541  1368459012379996162   \n",
       "3302733  1368514221969842177   \n",
       "3302941  1368570705114247170   \n",
       "3303179  1368638155096797186   \n",
       "\n",
       "                                            adjacency_list  len_adjacency_list  \n",
       "0        [1367460913012346880, 1367460911875694601, 136...                  73  \n",
       "2        [1365021188880142343, 1364471391118970882, 135...                  25  \n",
       "24       [1368147812542603268, 1368107699125198849, 136...                  26  \n",
       "31       [1366834300310548483, 1367525263639072770, 136...                  28  \n",
       "33       [1367275474737594369, 1367600777485836289, 136...                  25  \n",
       "...                                                    ...                 ...  \n",
       "3302439  [1357927702469046273, 1365897106007891970, 136...                  33  \n",
       "3302541  [1368637571404816385, 1368639072026132481, 136...                  12  \n",
       "3302733  [1366297151710457861, 1366277019093377024, 136...                  12  \n",
       "3302941  [1366028710655090694, 1366054008738230273, 136...                  11  \n",
       "3303179  [1367512443388268548, 1367658037670993925, 136...                  18  \n",
       "\n",
       "[219787 rows x 3 columns]"
      ]
     },
     "metadata": {},
     "output_type": "display_data"
    }
   ],
   "source": [
    "df[\"len_adjacency_list\"] = df[\"adjacency_list\"].str.len()\n",
    "active_users = df[df[\"len_adjacency_list\"] > number_of_interactions][\"user_id\"]"
   ]
  },
  {
   "cell_type": "code",
   "execution_count": 5,
   "metadata": {},
   "outputs": [],
   "source": [
    "# Sample users\n",
    "if sample:\n",
    "    active_users = active_users.sample(n=sample)"
   ]
  },
  {
   "cell_type": "code",
   "execution_count": 6,
   "metadata": {
    "pycharm": {
     "name": "#%%\n"
    }
   },
   "outputs": [
    {
     "data": {
      "text/plain": [
       "0       836161636041961472\n",
       "1                417920581\n",
       "2      1322530154577420288\n",
       "3               3104601972\n",
       "4                569581606\n",
       "              ...         \n",
       "495              131362254\n",
       "496             2414744485\n",
       "497    1236667536210571264\n",
       "498             1851527372\n",
       "499    1271951093606625284\n",
       "Name: user_id, Length: 500, dtype: int64"
      ]
     },
     "execution_count": 6,
     "metadata": {},
     "output_type": "execute_result"
    }
   ],
   "source": [
    "# Save results\n",
    "active_users.to_json(output, orient=\"table\", index=False)\n",
    "active_users.reset_index(drop=True)"
   ]
  }
 ],
 "metadata": {
  "celltoolbar": "Tags",
  "kernelspec": {
   "display_name": "Python 3",
   "language": "python",
   "name": "python3"
  },
  "language_info": {
   "codemirror_mode": {
    "name": "ipython",
    "version": 3
   },
   "file_extension": ".py",
   "mimetype": "text/x-python",
   "name": "python",
   "nbconvert_exporter": "python",
   "pygments_lexer": "ipython3",
   "version": "3.8.5"
  }
 },
 "nbformat": 4,
 "nbformat_minor": 4
}