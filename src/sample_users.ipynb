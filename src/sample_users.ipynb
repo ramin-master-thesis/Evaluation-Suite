{
 "cells": [
  {
   "cell_type": "code",
   "execution_count": 15,
   "metadata": {},
   "outputs": [],
   "source": [
    "import pandas as pd"
   ]
  },
  {
   "cell_type": "code",
   "execution_count": 16,
   "metadata": {},
   "outputs": [],
   "source": [
    "# Parameters\n",
    "data = \"../data/tweets-dedupe.csv\"\n",
    "sample = 500\n",
    "output = \"../data/users.json\""
   ]
  },
  {
   "cell_type": "code",
   "execution_count": 17,
   "metadata": {},
   "outputs": [],
   "source": [
    "# Import users from dataset\n",
    "columns = [\"user\", \"tweet\", \"interaction\"]\n",
    "keep_columns = [\"user\"]\n",
    "\n",
    "df = pd.read_csv(data, names=columns, usecols=keep_columns)\n",
    "df = df.drop_duplicates()"
   ]
  },
  {
   "cell_type": "code",
   "execution_count": 18,
   "metadata": {},
   "outputs": [],
   "source": [
    "# Sample users\n",
    "if sample:\n",
    "    df = df.sample(n=sample)"
   ]
  },
  {
   "cell_type": "code",
   "execution_count": 19,
   "metadata": {},
   "outputs": [
    {
     "data": {
      "text/html": [
       "<div>\n",
       "<style scoped>\n",
       "    .dataframe tbody tr th:only-of-type {\n",
       "        vertical-align: middle;\n",
       "    }\n",
       "\n",
       "    .dataframe tbody tr th {\n",
       "        vertical-align: top;\n",
       "    }\n",
       "\n",
       "    .dataframe thead th {\n",
       "        text-align: right;\n",
       "    }\n",
       "</style>\n",
       "<table border=\"1\" class=\"dataframe\">\n",
       "  <thead>\n",
       "    <tr style=\"text-align: right;\">\n",
       "      <th></th>\n",
       "      <th>user</th>\n",
       "    </tr>\n",
       "  </thead>\n",
       "  <tbody>\n",
       "    <tr>\n",
       "      <th>2267238</th>\n",
       "      <td>4671229608</td>\n",
       "    </tr>\n",
       "    <tr>\n",
       "      <th>1396952</th>\n",
       "      <td>2312687048</td>\n",
       "    </tr>\n",
       "    <tr>\n",
       "      <th>5066612</th>\n",
       "      <td>228541032</td>\n",
       "    </tr>\n",
       "    <tr>\n",
       "      <th>3807989</th>\n",
       "      <td>946097265625538560</td>\n",
       "    </tr>\n",
       "    <tr>\n",
       "      <th>2680420</th>\n",
       "      <td>1018562002678108162</td>\n",
       "    </tr>\n",
       "    <tr>\n",
       "      <th>...</th>\n",
       "      <td>...</td>\n",
       "    </tr>\n",
       "    <tr>\n",
       "      <th>748630</th>\n",
       "      <td>1597388371</td>\n",
       "    </tr>\n",
       "    <tr>\n",
       "      <th>1156305</th>\n",
       "      <td>2696695362</td>\n",
       "    </tr>\n",
       "    <tr>\n",
       "      <th>5014030</th>\n",
       "      <td>1330692817</td>\n",
       "    </tr>\n",
       "    <tr>\n",
       "      <th>962078</th>\n",
       "      <td>2987955914</td>\n",
       "    </tr>\n",
       "    <tr>\n",
       "      <th>1527084</th>\n",
       "      <td>1108788657010425856</td>\n",
       "    </tr>\n",
       "  </tbody>\n",
       "</table>\n",
       "<p>500 rows × 1 columns</p>\n",
       "</div>"
      ],
      "text/plain": [
       "                        user\n",
       "2267238           4671229608\n",
       "1396952           2312687048\n",
       "5066612            228541032\n",
       "3807989   946097265625538560\n",
       "2680420  1018562002678108162\n",
       "...                      ...\n",
       "748630            1597388371\n",
       "1156305           2696695362\n",
       "5014030           1330692817\n",
       "962078            2987955914\n",
       "1527084  1108788657010425856\n",
       "\n",
       "[500 rows x 1 columns]"
      ]
     },
     "execution_count": 19,
     "metadata": {},
     "output_type": "execute_result"
    }
   ],
   "source": [
    "# Save results\n",
    "df.to_json(output, orient=\"table\")\n",
    "df"
   ]
  },
  {
   "cell_type": "code",
   "execution_count": null,
   "metadata": {},
   "outputs": [],
   "source": []
  }
 ],
 "metadata": {
  "kernelspec": {
   "display_name": "Python 3",
   "language": "python",
   "name": "python3"
  },
  "language_info": {
   "codemirror_mode": {
    "name": "ipython",
    "version": 3
   },
   "file_extension": ".py",
   "mimetype": "text/x-python",
   "name": "python",
   "nbconvert_exporter": "python",
   "pygments_lexer": "ipython3",
   "version": "3.8.5"
  }
 },
 "nbformat": 4,
 "nbformat_minor": 4
}
