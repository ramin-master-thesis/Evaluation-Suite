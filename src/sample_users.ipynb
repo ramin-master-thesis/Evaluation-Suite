{
 "cells": [
  {
   "cell_type": "code",
   "execution_count": 6,
   "metadata": {},
   "outputs": [
    {
     "name": "stdout",
     "output_type": "stream",
     "text": [
      "Requirement already satisfied: fastparquet in /home/ramin/Developer/venv/salsa-evaluation/lib/python3.8/site-packages (0.5.0)\r\n",
      "Requirement already satisfied: numba>=0.49 in /home/ramin/Developer/venv/salsa-evaluation/lib/python3.8/site-packages (from fastparquet) (0.53.1)\r\n",
      "Requirement already satisfied: thrift>=0.11.0 in /home/ramin/Developer/venv/salsa-evaluation/lib/python3.8/site-packages (from fastparquet) (0.13.0)\r\n",
      "Requirement already satisfied: pandas>=1.1.0 in /home/ramin/Developer/venv/salsa-evaluation/lib/python3.8/site-packages (from fastparquet) (1.2.4)\r\n",
      "Requirement already satisfied: numpy>=1.11 in /home/ramin/Developer/venv/salsa-evaluation/lib/python3.8/site-packages (from fastparquet) (1.20.2)\r\n",
      "Requirement already satisfied: setuptools in /home/ramin/Developer/venv/salsa-evaluation/lib/python3.8/site-packages (from numba>=0.49->fastparquet) (56.0.0)\r\n",
      "Requirement already satisfied: llvmlite<0.37,>=0.36.0rc1 in /home/ramin/Developer/venv/salsa-evaluation/lib/python3.8/site-packages (from numba>=0.49->fastparquet) (0.36.0)\r\n",
      "Requirement already satisfied: python-dateutil>=2.7.3 in /home/ramin/Developer/venv/salsa-evaluation/lib/python3.8/site-packages (from pandas>=1.1.0->fastparquet) (2.8.1)\r\n",
      "Requirement already satisfied: pytz>=2017.3 in /home/ramin/Developer/venv/salsa-evaluation/lib/python3.8/site-packages (from pandas>=1.1.0->fastparquet) (2021.1)\r\n",
      "Requirement already satisfied: six>=1.5 in /home/ramin/Developer/venv/salsa-evaluation/lib/python3.8/site-packages (from python-dateutil>=2.7.3->pandas>=1.1.0->fastparquet) (1.15.0)\r\n",
      "\u001B[33mWARNING: You are using pip version 21.0.1; however, version 21.1.1 is available.\r\n",
      "You should consider upgrading via the '/home/ramin/Developer/venv/salsa-evaluation/bin/python -m pip install --upgrade pip' command.\u001B[0m\r\n",
      "Note: you may need to restart the kernel to use updated packages.\n"
     ]
    }
   ],
   "source": [
    "%pip install fastparquet\n",
    "\n",
    "import pandas as pd"
   ]
  },
  {
   "cell_type": "code",
   "execution_count": 7,
   "metadata": {
    "tags": [
     "parameters"
    ]
   },
   "outputs": [],
   "source": [
    "# Parameters\n",
    "data = \"../../salsa/data/single_partition/partition_0/left_index.gzip\"\n",
    "sample = 500\n",
    "number_of_interactions = 17\n",
    "output = \"../data/users.json\""
   ]
  },
  {
   "cell_type": "code",
   "execution_count": 8,
   "metadata": {},
   "outputs": [],
   "source": [
    "# Import users from dataset\n",
    "keep_columns = [0, 1]\n",
    "\n",
    "df = pd.read_parquet(data, columns=['adjacency_list', 'user_id'])\n",
    "df.reset_index(level=0, inplace=True)"
   ]
  },
  {
   "cell_type": "code",
   "execution_count": 9,
   "metadata": {},
   "outputs": [],
   "source": [
    "df[\"len_adjacency_list\"] = df[\"adjacency_list\"].str.len()\n",
    "active_users = df[df[\"len_adjacency_list\"] > number_of_interactions][\"user_id\"]"
   ]
  },
  {
   "cell_type": "code",
   "execution_count": 10,
   "metadata": {},
   "outputs": [],
   "source": [
    "# Sample users\n",
    "if sample:\n",
    "    active_users = active_users.sample(n=sample)"
   ]
  },
  {
   "cell_type": "code",
   "execution_count": 11,
   "metadata": {
    "pycharm": {
     "name": "#%%\n"
    }
   },
   "outputs": [
    {
     "data": {
      "text/plain": "0      1104808931891793920\n1       742613688448864256\n2      1345404930094374912\n3      1063441789590429696\n4               2232404250\n              ...         \n495     740472581581475840\n496               28675507\n497              909017503\n498    1227709406839619584\n499              763209294\nName: user_id, Length: 500, dtype: int64"
     },
     "execution_count": 11,
     "metadata": {},
     "output_type": "execute_result"
    }
   ],
   "source": [
    "# Save results\n",
    "active_users.to_json(output, orient=\"table\", index=False)\n",
    "active_users.reset_index(drop=True)"
   ]
  },
  {
   "cell_type": "code",
   "execution_count": null,
   "metadata": {},
   "outputs": [],
   "source": []
  }
 ],
 "metadata": {
  "celltoolbar": "Tags",
  "kernelspec": {
   "display_name": "Python 3",
   "language": "python",
   "name": "python3"
  },
  "language_info": {
   "codemirror_mode": {
    "name": "ipython",
    "version": 3
   },
   "file_extension": ".py",
   "mimetype": "text/x-python",
   "name": "python",
   "nbconvert_exporter": "python",
   "pygments_lexer": "ipython3",
   "version": "3.8.5"
  }
 },
 "nbformat": 4,
 "nbformat_minor": 4
}